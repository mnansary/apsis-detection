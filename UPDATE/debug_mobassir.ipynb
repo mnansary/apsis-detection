{
 "cells": [
  {
   "cell_type": "code",
   "execution_count": 1,
   "id": "5c7b4f3b",
   "metadata": {},
   "outputs": [
    {
     "name": "stdout",
     "output_type": "stream",
     "text": [
      "\u001b[32m#LOG     :\u001b[0m\u001b[32mAll paths found\u001b[0m\n"
     ]
    },
    {
     "data": {
      "application/vnd.jupyter.widget-view+json": {
       "model_id": "065a49a0ebec4ff28b483b59caf8a97b",
       "version_major": 2,
       "version_minor": 0
      },
      "text/plain": [
       "  0%|          | 0/200840 [00:00<?, ?it/s]"
      ]
     },
     "metadata": {},
     "output_type": "display_data"
    },
    {
     "data": {
      "application/vnd.jupyter.widget-view+json": {
       "model_id": "b23206b04c854db79b713d2eb6a4f60f",
       "version_major": 2,
       "version_minor": 0
      },
      "text/plain": [
       "  0%|          | 0/72045 [00:00<?, ?it/s]"
      ]
     },
     "metadata": {},
     "output_type": "display_data"
    },
    {
     "name": "stdout",
     "output_type": "stream",
     "text": [
      "\u001b[32m#LOG     :\u001b[0m\u001b[34mProcessing Dictionary:/media/ansary/DriveData/Work/bengalAI/datasets/CraftData/source/bangla/dictionary.csv\u001b[0m\n"
     ]
    },
    {
     "data": {
      "application/vnd.jupyter.widget-view+json": {
       "model_id": "fe262b3de9994980b42033649f62a5b7",
       "version_major": 2,
       "version_minor": 0
      },
      "text/plain": [
       "  0%|          | 0/1059977 [00:00<?, ?it/s]"
      ]
     },
     "metadata": {},
     "output_type": "display_data"
    },
    {
     "data": {
      "application/vnd.jupyter.widget-view+json": {
       "model_id": "e65f3de4c8d04519a49b76d01916a334",
       "version_major": 2,
       "version_minor": 0
      },
      "text/plain": [
       "  0%|          | 0/46101 [00:00<?, ?it/s]"
      ]
     },
     "metadata": {},
     "output_type": "display_data"
    },
    {
     "data": {
      "application/vnd.jupyter.widget-view+json": {
       "model_id": "72aca7b494ff4c5b955098e9766eb209",
       "version_major": 2,
       "version_minor": 0
      },
      "text/plain": [
       "  0%|          | 0/10305 [00:00<?, ?it/s]"
      ]
     },
     "metadata": {},
     "output_type": "display_data"
    },
    {
     "name": "stdout",
     "output_type": "stream",
     "text": [
      "\u001b[32m#LOG     :\u001b[0m\u001b[34mconverting int labels to string\u001b[0m\n"
     ]
    },
    {
     "data": {
      "application/vnd.jupyter.widget-view+json": {
       "model_id": "a1974183d1ff444ea772a3f1bb54d2c4",
       "version_major": 2,
       "version_minor": 0
      },
      "text/plain": [
       "  0%|          | 0/10305 [00:00<?, ?it/s]"
      ]
     },
     "metadata": {},
     "output_type": "display_data"
    },
    {
     "name": "stdout",
     "output_type": "stream",
     "text": [
      "\u001b[32m#LOG     :\u001b[0m\u001b[34mProcessing Dictionary:/media/ansary/DriveData/Work/bengalAI/datasets/CraftData/source/english/dictionary.csv\u001b[0m\n"
     ]
    },
    {
     "data": {
      "application/vnd.jupyter.widget-view+json": {
       "model_id": "14946390da4145858cdbfe61dd79ccfc",
       "version_major": 2,
       "version_minor": 0
      },
      "text/plain": [
       "  0%|          | 0/370098 [00:00<?, ?it/s]"
      ]
     },
     "metadata": {},
     "output_type": "display_data"
    },
    {
     "data": {
      "application/vnd.jupyter.widget-view+json": {
       "model_id": "552712558b9e453daa3f4a21adb89095",
       "version_major": 2,
       "version_minor": 0
      },
      "text/plain": [
       "  0%|          | 0/5975 [00:00<?, ?it/s]"
      ]
     },
     "metadata": {},
     "output_type": "display_data"
    },
    {
     "name": "stdout",
     "output_type": "stream",
     "text": [
      "\u001b[32m#LOG     :\u001b[0m\u001b[34mbangla.graphemes\u001b[0m\n"
     ]
    },
    {
     "data": {
      "application/vnd.jupyter.widget-view+json": {
       "model_id": "03724d5518264c5bad40482be5a1a9ab",
       "version_major": 2,
       "version_minor": 0
      },
      "text/plain": [
       "  0%|          | 0/200840 [00:00<?, ?it/s]"
      ]
     },
     "metadata": {},
     "output_type": "display_data"
    },
    {
     "name": "stdout",
     "output_type": "stream",
     "text": [
      "\u001b[32m#LOG     :\u001b[0m\u001b[34mbangla.numbers\u001b[0m\n"
     ]
    },
    {
     "data": {
      "application/vnd.jupyter.widget-view+json": {
       "model_id": "89730fcbb024479d9ab6f370a8d39a56",
       "version_major": 2,
       "version_minor": 0
      },
      "text/plain": [
       "  0%|          | 0/72045 [00:00<?, ?it/s]"
      ]
     },
     "metadata": {},
     "output_type": "display_data"
    },
    {
     "name": "stdout",
     "output_type": "stream",
     "text": [
      "\u001b[32m#LOG     :\u001b[0m\u001b[34menglish.graphemes\u001b[0m\n"
     ]
    },
    {
     "data": {
      "application/vnd.jupyter.widget-view+json": {
       "model_id": "96794fdca76447e1bb91fe3df8c6eb91",
       "version_major": 2,
       "version_minor": 0
      },
      "text/plain": [
       "  0%|          | 0/46101 [00:00<?, ?it/s]"
      ]
     },
     "metadata": {},
     "output_type": "display_data"
    },
    {
     "name": "stdout",
     "output_type": "stream",
     "text": [
      "\u001b[32m#LOG     :\u001b[0m\u001b[34menglish.numbers\u001b[0m\n"
     ]
    },
    {
     "data": {
      "application/vnd.jupyter.widget-view+json": {
       "model_id": "9dee25e7e2e24a76947ef989a970e211",
       "version_major": 2,
       "version_minor": 0
      },
      "text/plain": [
       "  0%|          | 0/10305 [00:00<?, ?it/s]"
      ]
     },
     "metadata": {},
     "output_type": "display_data"
    },
    {
     "name": "stdout",
     "output_type": "stream",
     "text": [
      "\u001b[32m#LOG     :\u001b[0m\u001b[34mcommon.symbols\u001b[0m\n"
     ]
    },
    {
     "data": {
      "application/vnd.jupyter.widget-view+json": {
       "model_id": "d127f9c12f6544cea570d7fa2b26ccd0",
       "version_major": 2,
       "version_minor": 0
      },
      "text/plain": [
       "  0%|          | 0/5975 [00:00<?, ?it/s]"
      ]
     },
     "metadata": {},
     "output_type": "display_data"
    },
    {
     "name": "stdout",
     "output_type": "stream",
     "text": [
      "\u001b[32m#LOG     :\u001b[0m\u001b[34mbangla.fonts\u001b[0m\n"
     ]
    },
    {
     "data": {
      "application/vnd.jupyter.widget-view+json": {
       "model_id": "3cfd85440fe24947b4378538183f2538",
       "version_major": 2,
       "version_minor": 0
      },
      "text/plain": [
       "  0%|          | 0/21 [00:00<?, ?it/s]"
      ]
     },
     "metadata": {},
     "output_type": "display_data"
    },
    {
     "name": "stdout",
     "output_type": "stream",
     "text": [
      "\u001b[32m#LOG     :\u001b[0m\u001b[34menglish.fonts\u001b[0m\n"
     ]
    },
    {
     "data": {
      "application/vnd.jupyter.widget-view+json": {
       "model_id": "b04b11c97db24958b3766c5194e351ce",
       "version_major": 2,
       "version_minor": 0
      },
      "text/plain": [
       "  0%|          | 0/2682 [00:00<?, ?it/s]"
      ]
     },
     "metadata": {},
     "output_type": "display_data"
    },
    {
     "name": "stdout",
     "output_type": "stream",
     "text": [
      "\u001b[32m#LOG     :\u001b[0m\u001b[34mcommon.background\u001b[0m\n"
     ]
    },
    {
     "data": {
      "application/vnd.jupyter.widget-view+json": {
       "model_id": "8b77df849a5f4d4ca05f585412efde77",
       "version_major": 2,
       "version_minor": 0
      },
      "text/plain": [
       "  0%|          | 0/982 [00:00<?, ?it/s]"
      ]
     },
     "metadata": {},
     "output_type": "display_data"
    },
    {
     "name": "stdout",
     "output_type": "stream",
     "text": [
      "\u001b[32m#LOG     :\u001b[0m\u001b[34mcommon.noise.random\u001b[0m\n"
     ]
    },
    {
     "data": {
      "application/vnd.jupyter.widget-view+json": {
       "model_id": "cef12f49f60c4365ad3db3d8314919d8",
       "version_major": 2,
       "version_minor": 0
      },
      "text/plain": [
       "  0%|          | 0/112763 [00:00<?, ?it/s]"
      ]
     },
     "metadata": {},
     "output_type": "display_data"
    },
    {
     "name": "stdout",
     "output_type": "stream",
     "text": [
      "\u001b[32m#LOG     :\u001b[0m\u001b[34mcommon.noise.sign\u001b[0m\n"
     ]
    },
    {
     "data": {
      "application/vnd.jupyter.widget-view+json": {
       "model_id": "18fd504ea23f4625a580cced51d95a99",
       "version_major": 2,
       "version_minor": 0
      },
      "text/plain": [
       "  0%|          | 0/3240 [00:00<?, ?it/s]"
      ]
     },
     "metadata": {},
     "output_type": "display_data"
    }
   ],
   "source": [
    "from coreLib.dataset import DataSet\n",
    "data_dir       = \"/media/ansary/DriveData/Work/bengalAI/datasets/CraftData/source\"\n",
    "ds=DataSet(data_dir)\n"
   ]
  },
  {
   "cell_type": "code",
   "execution_count": 2,
   "id": "166406c8",
   "metadata": {},
   "outputs": [
    {
     "data": {
      "text/html": [
       "<div>\n",
       "<style scoped>\n",
       "    .dataframe tbody tr th:only-of-type {\n",
       "        vertical-align: middle;\n",
       "    }\n",
       "\n",
       "    .dataframe tbody tr th {\n",
       "        vertical-align: top;\n",
       "    }\n",
       "\n",
       "    .dataframe thead th {\n",
       "        text-align: right;\n",
       "    }\n",
       "</style>\n",
       "<table border=\"1\" class=\"dataframe\">\n",
       "  <thead>\n",
       "    <tr style=\"text-align: right;\">\n",
       "      <th></th>\n",
       "      <th>filename</th>\n",
       "      <th>label</th>\n",
       "      <th>img_path</th>\n",
       "    </tr>\n",
       "  </thead>\n",
       "  <tbody>\n",
       "    <tr>\n",
       "      <th>0</th>\n",
       "      <td>Train_23740</td>\n",
       "      <td>র্ন্ত</td>\n",
       "      <td>/media/ansary/DriveData/Work/bengalAI/datasets...</td>\n",
       "    </tr>\n",
       "    <tr>\n",
       "      <th>1</th>\n",
       "      <td>Train_101878</td>\n",
       "      <td>স্ত</td>\n",
       "      <td>/media/ansary/DriveData/Work/bengalAI/datasets...</td>\n",
       "    </tr>\n",
       "    <tr>\n",
       "      <th>2</th>\n",
       "      <td>Train_5736</td>\n",
       "      <td>ল্ডো</td>\n",
       "      <td>/media/ansary/DriveData/Work/bengalAI/datasets...</td>\n",
       "    </tr>\n",
       "    <tr>\n",
       "      <th>3</th>\n",
       "      <td>Train_76463</td>\n",
       "      <td>গা</td>\n",
       "      <td>/media/ansary/DriveData/Work/bengalAI/datasets...</td>\n",
       "    </tr>\n",
       "    <tr>\n",
       "      <th>4</th>\n",
       "      <td>Train_158052</td>\n",
       "      <td>দু</td>\n",
       "      <td>/media/ansary/DriveData/Work/bengalAI/datasets...</td>\n",
       "    </tr>\n",
       "    <tr>\n",
       "      <th>...</th>\n",
       "      <td>...</td>\n",
       "      <td>...</td>\n",
       "      <td>...</td>\n",
       "    </tr>\n",
       "    <tr>\n",
       "      <th>200835</th>\n",
       "      <td>Train_129198</td>\n",
       "      <td>ফ্র্যা</td>\n",
       "      <td>/media/ansary/DriveData/Work/bengalAI/datasets...</td>\n",
       "    </tr>\n",
       "    <tr>\n",
       "      <th>200836</th>\n",
       "      <td>Train_175699</td>\n",
       "      <td>মা</td>\n",
       "      <td>/media/ansary/DriveData/Work/bengalAI/datasets...</td>\n",
       "    </tr>\n",
       "    <tr>\n",
       "      <th>200837</th>\n",
       "      <td>Train_38444</td>\n",
       "      <td>ঙ্গ</td>\n",
       "      <td>/media/ansary/DriveData/Work/bengalAI/datasets...</td>\n",
       "    </tr>\n",
       "    <tr>\n",
       "      <th>200838</th>\n",
       "      <td>Train_27077</td>\n",
       "      <td>দ্ভ</td>\n",
       "      <td>/media/ansary/DriveData/Work/bengalAI/datasets...</td>\n",
       "    </tr>\n",
       "    <tr>\n",
       "      <th>200839</th>\n",
       "      <td>Train_154284</td>\n",
       "      <td>ট্টো</td>\n",
       "      <td>/media/ansary/DriveData/Work/bengalAI/datasets...</td>\n",
       "    </tr>\n",
       "  </tbody>\n",
       "</table>\n",
       "<p>200840 rows × 3 columns</p>\n",
       "</div>"
      ],
      "text/plain": [
       "            filename   label  \\\n",
       "0        Train_23740   র্ন্ত   \n",
       "1       Train_101878     স্ত   \n",
       "2         Train_5736    ল্ডো   \n",
       "3        Train_76463      গা   \n",
       "4       Train_158052      দু   \n",
       "...              ...     ...   \n",
       "200835  Train_129198  ফ্র্যা   \n",
       "200836  Train_175699      মা   \n",
       "200837   Train_38444     ঙ্গ   \n",
       "200838   Train_27077     দ্ভ   \n",
       "200839  Train_154284    ট্টো   \n",
       "\n",
       "                                                 img_path  \n",
       "0       /media/ansary/DriveData/Work/bengalAI/datasets...  \n",
       "1       /media/ansary/DriveData/Work/bengalAI/datasets...  \n",
       "2       /media/ansary/DriveData/Work/bengalAI/datasets...  \n",
       "3       /media/ansary/DriveData/Work/bengalAI/datasets...  \n",
       "4       /media/ansary/DriveData/Work/bengalAI/datasets...  \n",
       "...                                                   ...  \n",
       "200835  /media/ansary/DriveData/Work/bengalAI/datasets...  \n",
       "200836  /media/ansary/DriveData/Work/bengalAI/datasets...  \n",
       "200837  /media/ansary/DriveData/Work/bengalAI/datasets...  \n",
       "200838  /media/ansary/DriveData/Work/bengalAI/datasets...  \n",
       "200839  /media/ansary/DriveData/Work/bengalAI/datasets...  \n",
       "\n",
       "[200840 rows x 3 columns]"
      ]
     },
     "execution_count": 2,
     "metadata": {},
     "output_type": "execute_result"
    }
   ],
   "source": [
    "import matplotlib.pyplot as plt\n",
    "%matplotlib inline\n",
    "import os\n",
    "import cv2\n",
    "import numpy as np\n",
    "df=ds.bangla.graphemes.df\n",
    "df"
   ]
  },
  {
   "cell_type": "markdown",
   "id": "0632d944",
   "metadata": {},
   "source": [
    "# IDEA-1:\n",
    "* numpy,scipy"
   ]
  },
  {
   "cell_type": "code",
   "execution_count": 25,
   "id": "997dcf92",
   "metadata": {},
   "outputs": [
    {
     "data": {
      "image/png": "[encoded data removed]",
      "text/plain": [
       "<Figure size 432x288 with 1 Axes>"
      ]
     },
     "metadata": {
      "needs_background": "light"
     },
     "output_type": "display_data"
    },
    {
     "data": {
      "image/png": "[encoded data removed]",
      "text/plain": [
       "<Figure size 432x288 with 1 Axes>"
      ]
     },
     "metadata": {
      "needs_background": "light"
     },
     "output_type": "display_data"
    },
    {
     "name": "stdout",
     "output_type": "stream",
     "text": [
      "{2: 'ন্ন্যা', 3: 'ন্মো', 4: 'স্ত', 5: 'রা'}\n"
     ]
    },
    {
     "data": {
      "image/png": "[encoded data removed]",
      "text/plain": [
       "<Figure size 432x288 with 1 Axes>"
      ]
     },
     "metadata": {
      "needs_background": "light"
     },
     "output_type": "display_data"
    },
    {
     "name": "stdout",
     "output_type": "stream",
     "text": [
      "2 ন্ন্যা\n",
      "bbox:[(512, 1535, 0, 1023)]\n"
     ]
    },
    {
     "data": {
      "image/png": "[encoded data removed]",
      "text/plain": [
       "<Figure size 432x288 with 1 Axes>"
      ]
     },
     "metadata": {
      "needs_background": "light"
     },
     "output_type": "display_data"
    },
    {
     "name": "stdout",
     "output_type": "stream",
     "text": [
      "3 ন্মো\n",
      "bbox:[(512, 1535, 1024, 2047)]\n"
     ]
    },
    {
     "data": {
      "image/png": "[encoded data removed]",
      "text/plain": [
       "<Figure size 432x288 with 1 Axes>"
      ]
     },
     "metadata": {
      "needs_background": "light"
     },
     "output_type": "display_data"
    },
    {
     "name": "stdout",
     "output_type": "stream",
     "text": [
      "4 স্ত\n",
      "bbox:[(512, 1535, 2048, 3071)]\n"
     ]
    },
    {
     "data": {
      "image/png": "[encoded data removed]",
      "text/plain": [
       "<Figure size 432x288 with 1 Axes>"
      ]
     },
     "metadata": {
      "needs_background": "light"
     },
     "output_type": "display_data"
    },
    {
     "name": "stdout",
     "output_type": "stream",
     "text": [
      "5 রা\n",
      "bbox:[(512, 1535, 3072, 4095)]\n"
     ]
    }
   ],
   "source": [
    "# POC: \n",
    "import random\n",
    "iden=2\n",
    "num_char=4\n",
    "imgs=[]\n",
    "labels={}\n",
    "h,w=1024,1024\n",
    "for _ in range(num_char):\n",
    "    idx=random.randint(0,len(df))\n",
    "    img_path=df.iloc[idx,2]\n",
    "    label=df.iloc[idx,1]\n",
    "    \n",
    "    img=cv2.imread(img_path,0)\n",
    "    img=cv2.resize(img,(w,h),fx=0,fy=0, interpolation = cv2.INTER_NEAREST)\n",
    "    # marking\n",
    "    img=255-img\n",
    "    img[img>0]=iden\n",
    "    #---------------------------------\n",
    "    \n",
    "    \n",
    "    \n",
    "    \n",
    "    \n",
    "    #---------------------------------\n",
    "    imgs.append(img)\n",
    "    labels[iden]=label\n",
    "    iden+=1\n",
    "\n",
    "img=np.concatenate(imgs,axis=1)\n",
    "plt.imshow(img)\n",
    "plt.show()\n",
    "_h,_w=img.shape\n",
    "pad=np.zeros((h//2,_w))\n",
    "img=np.concatenate([pad,img,pad],axis=0)\n",
    "plt.imshow(img)\n",
    "plt.show()\n",
    "\n",
    "\n",
    "\n",
    "print(labels)\n",
    "for k,v in labels.items():\n",
    "    back=np.zeros(img.shape)\n",
    "    back[img==k]=255\n",
    "    plt.imshow(back)\n",
    "    plt.show()\n",
    "    idx = np.where(img==k)\n",
    "    y_min,y_max,x_min,x_max = np.min(idx[0]), np.max(idx[0]), np.min(idx[1]), np.max(idx[1])\n",
    "    print(k,v)\n",
    "    print(f\"bbox:[{y_min,y_max,x_min,x_max}]\")\n"
   ]
  },
  {
   "cell_type": "code",
   "execution_count": null,
   "id": "5c0af54d",
   "metadata": {},
   "outputs": [],
   "source": []
  },
  {
   "cell_type": "code",
   "execution_count": null,
   "id": "04e2d8ac",
   "metadata": {},
   "outputs": [],
   "source": []
  },
  {
   "cell_type": "code",
   "execution_count": null,
   "id": "c839d253",
   "metadata": {},
   "outputs": [],
   "source": []
  },
  {
   "cell_type": "markdown",
   "id": "f0afa249",
   "metadata": {},
   "source": [
    "# IDEA-2:\n",
    "* "
   ]
  },
  {
   "cell_type": "code",
   "execution_count": null,
   "id": "91e8c943",
   "metadata": {},
   "outputs": [],
   "source": [
    "# POC: \n",
    "import random\n",
    "num_char=4\n",
    "imgs=[]\n",
    "h,w=128,128\n",
    "for _ in range(num_char):\n",
    "    img_path=df.iloc[random.randint(0,len(df)),2]\n",
    "    img=cv2.imread(img_path,0)\n",
    "    img=cv2.resize(img,(h,w))\n",
    "    #---------------------------------\n",
    "    \n",
    "    #---------------------------------\n",
    "    imgs.append(img)\n",
    "\n",
    "img=np.concatenate(imgs,axis=1)\n",
    "plt.imshow(img)\n",
    "plt.show()"
   ]
  }
 ],
 "metadata": {
  "kernelspec": {
   "display_name": "bangla",
   "language": "python",
   "name": "bangla"
  },
  "language_info": {
   "codemirror_mode": {
    "name": "ipython",
    "version": 3
   },
   "file_extension": ".py",
   "mimetype": "text/x-python",
   "name": "python",
   "nbconvert_exporter": "python",
   "pygments_lexer": "ipython3",
   "version": "3.8.5"
  }
 },
 "nbformat": 4,
 "nbformat_minor": 5
}
