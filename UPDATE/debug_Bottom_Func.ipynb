{
 "cells": [
  {
   "cell_type": "code",
   "execution_count": 1,
   "id": "50c5826c",
   "metadata": {
    "scrolled": true
   },
   "outputs": [
    {
     "name": "stderr",
     "output_type": "stream",
     "text": [
      " 39%|███▉      | 79110/200840 [00:00<00:00, 791089.44it/s]"
     ]
    },
    {
     "name": "stdout",
     "output_type": "stream",
     "text": [
      "\u001b[32m#LOG     :\u001b[0m\u001b[32mAll paths found\u001b[0m\n"
     ]
    },
    {
     "name": "stderr",
     "output_type": "stream",
     "text": [
      "100%|██████████| 200840/200840 [00:00<00:00, 821600.80it/s]\n",
      "100%|██████████| 72045/72045 [00:00<00:00, 783209.39it/s]\n",
      "  2%|▏         | 17806/1059977 [00:00<00:11, 91549.29it/s]"
     ]
    },
    {
     "name": "stdout",
     "output_type": "stream",
     "text": [
      "\u001b[32m#LOG     :\u001b[0m\u001b[34mProcessing Dictionary:/home/apsisdev/ansary/sourcedata/bangla/dictionary.csv\u001b[0m\n"
     ]
    },
    {
     "name": "stderr",
     "output_type": "stream",
     "text": [
      "100%|██████████| 1059977/1059977 [00:10<00:00, 101081.83it/s]\n",
      "100%|██████████| 46101/46101 [00:00<00:00, 792962.84it/s]\n",
      "100%|██████████| 10305/10305 [00:00<00:00, 757634.71it/s]\n",
      "100%|██████████| 10305/10305 [00:00<00:00, 1235169.97it/s]\n"
     ]
    },
    {
     "name": "stdout",
     "output_type": "stream",
     "text": [
      "\u001b[32m#LOG     :\u001b[0m\u001b[34mconverting int labels to string\u001b[0m\n"
     ]
    },
    {
     "name": "stderr",
     "output_type": "stream",
     "text": [
      "  4%|▍         | 15589/370098 [00:00<00:04, 78045.48it/s]"
     ]
    },
    {
     "name": "stdout",
     "output_type": "stream",
     "text": [
      "\u001b[32m#LOG     :\u001b[0m\u001b[34mProcessing Dictionary:/home/apsisdev/ansary/sourcedata/english/dictionary.csv\u001b[0m\n"
     ]
    },
    {
     "name": "stderr",
     "output_type": "stream",
     "text": [
      "100%|██████████| 370098/370098 [00:05<00:00, 73950.93it/s]\n",
      "100%|██████████| 5975/5975 [00:00<00:00, 794552.06it/s]\n"
     ]
    },
    {
     "name": "stdout",
     "output_type": "stream",
     "text": [
      "\u001b[32m#LOG     :\u001b[0m\u001b[34mbangla.graphemes\u001b[0m\n"
     ]
    },
    {
     "name": "stderr",
     "output_type": "stream",
     "text": [
      "100%|██████████| 200840/200840 [00:00<00:00, 7108365.95it/s]\n",
      "100%|██████████| 72045/72045 [00:00<00:00, 7175083.26it/s]\n",
      "100%|██████████| 46101/46101 [00:00<00:00, 7143549.90it/s]\n",
      "100%|██████████| 10305/10305 [00:00<00:00, 7100756.16it/s]\n",
      "100%|██████████| 5975/5975 [00:00<00:00, 7057439.14it/s]\n"
     ]
    },
    {
     "name": "stdout",
     "output_type": "stream",
     "text": [
      "\u001b[32m#LOG     :\u001b[0m\u001b[34mbangla.numbers\u001b[0m\n",
      "\u001b[32m#LOG     :\u001b[0m\u001b[34menglish.graphemes\u001b[0m\n",
      "\u001b[32m#LOG     :\u001b[0m\u001b[34menglish.numbers\u001b[0m\n",
      "\u001b[32m#LOG     :\u001b[0m\u001b[34mcommon.symbols\u001b[0m\n",
      "\u001b[32m#LOG     :\u001b[0m\u001b[34mbangla.fonts\u001b[0m\n"
     ]
    },
    {
     "name": "stderr",
     "output_type": "stream",
     "text": [
      "100%|██████████| 21/21 [00:00<00:00, 332378.81it/s]\n",
      "100%|██████████| 2682/2682 [00:00<00:00, 6817650.50it/s]\n",
      "100%|██████████| 982/982 [00:00<00:00, 6012856.25it/s]\n",
      "100%|██████████| 112763/112763 [00:00<00:00, 7113391.72it/s]\n",
      "100%|██████████| 3240/3240 [00:00<00:00, 6825487.17it/s]\n"
     ]
    },
    {
     "name": "stdout",
     "output_type": "stream",
     "text": [
      "\u001b[32m#LOG     :\u001b[0m\u001b[34menglish.fonts\u001b[0m\n",
      "\u001b[32m#LOG     :\u001b[0m\u001b[34mcommon.background\u001b[0m\n",
      "\u001b[32m#LOG     :\u001b[0m\u001b[34mcommon.noise.random\u001b[0m\n",
      "\u001b[32m#LOG     :\u001b[0m\u001b[34mcommon.noise.sign\u001b[0m\n"
     ]
    },
    {
     "data": {
      "text/html": [
       "<div>\n",
       "<style scoped>\n",
       "    .dataframe tbody tr th:only-of-type {\n",
       "        vertical-align: middle;\n",
       "    }\n",
       "\n",
       "    .dataframe tbody tr th {\n",
       "        vertical-align: top;\n",
       "    }\n",
       "\n",
       "    .dataframe thead th {\n",
       "        text-align: right;\n",
       "    }\n",
       "</style>\n",
       "<table border=\"1\" class=\"dataframe\">\n",
       "  <thead>\n",
       "    <tr style=\"text-align: right;\">\n",
       "      <th></th>\n",
       "      <th>filename</th>\n",
       "      <th>label</th>\n",
       "      <th>img_path</th>\n",
       "    </tr>\n",
       "  </thead>\n",
       "  <tbody>\n",
       "    <tr>\n",
       "      <th>0</th>\n",
       "      <td>symbol_0</td>\n",
       "      <td>&gt;</td>\n",
       "      <td>/home/apsisdev/ansary/sourcedata/common/symbol...</td>\n",
       "    </tr>\n",
       "    <tr>\n",
       "      <th>1</th>\n",
       "      <td>symbol_1</td>\n",
       "      <td>&gt;</td>\n",
       "      <td>/home/apsisdev/ansary/sourcedata/common/symbol...</td>\n",
       "    </tr>\n",
       "    <tr>\n",
       "      <th>2</th>\n",
       "      <td>symbol_2</td>\n",
       "      <td>&gt;</td>\n",
       "      <td>/home/apsisdev/ansary/sourcedata/common/symbol...</td>\n",
       "    </tr>\n",
       "    <tr>\n",
       "      <th>3</th>\n",
       "      <td>symbol_3</td>\n",
       "      <td>&gt;</td>\n",
       "      <td>/home/apsisdev/ansary/sourcedata/common/symbol...</td>\n",
       "    </tr>\n",
       "    <tr>\n",
       "      <th>4</th>\n",
       "      <td>symbol_4</td>\n",
       "      <td>&gt;</td>\n",
       "      <td>/home/apsisdev/ansary/sourcedata/common/symbol...</td>\n",
       "    </tr>\n",
       "    <tr>\n",
       "      <th>...</th>\n",
       "      <td>...</td>\n",
       "      <td>...</td>\n",
       "      <td>...</td>\n",
       "    </tr>\n",
       "    <tr>\n",
       "      <th>5970</th>\n",
       "      <td>symbol_5970</td>\n",
       "      <td>&lt;</td>\n",
       "      <td>/home/apsisdev/ansary/sourcedata/common/symbol...</td>\n",
       "    </tr>\n",
       "    <tr>\n",
       "      <th>5971</th>\n",
       "      <td>symbol_5971</td>\n",
       "      <td>&lt;</td>\n",
       "      <td>/home/apsisdev/ansary/sourcedata/common/symbol...</td>\n",
       "    </tr>\n",
       "    <tr>\n",
       "      <th>5972</th>\n",
       "      <td>symbol_5972</td>\n",
       "      <td>&lt;</td>\n",
       "      <td>/home/apsisdev/ansary/sourcedata/common/symbol...</td>\n",
       "    </tr>\n",
       "    <tr>\n",
       "      <th>5973</th>\n",
       "      <td>symbol_5973</td>\n",
       "      <td>&lt;</td>\n",
       "      <td>/home/apsisdev/ansary/sourcedata/common/symbol...</td>\n",
       "    </tr>\n",
       "    <tr>\n",
       "      <th>5974</th>\n",
       "      <td>symbol_5974</td>\n",
       "      <td>&lt;</td>\n",
       "      <td>/home/apsisdev/ansary/sourcedata/common/symbol...</td>\n",
       "    </tr>\n",
       "  </tbody>\n",
       "</table>\n",
       "<p>5975 rows × 3 columns</p>\n",
       "</div>"
      ],
      "text/plain": [
       "         filename label                                           img_path\n",
       "0        symbol_0     >  /home/apsisdev/ansary/sourcedata/common/symbol...\n",
       "1        symbol_1     >  /home/apsisdev/ansary/sourcedata/common/symbol...\n",
       "2        symbol_2     >  /home/apsisdev/ansary/sourcedata/common/symbol...\n",
       "3        symbol_3     >  /home/apsisdev/ansary/sourcedata/common/symbol...\n",
       "4        symbol_4     >  /home/apsisdev/ansary/sourcedata/common/symbol...\n",
       "...           ...   ...                                                ...\n",
       "5970  symbol_5970     <  /home/apsisdev/ansary/sourcedata/common/symbol...\n",
       "5971  symbol_5971     <  /home/apsisdev/ansary/sourcedata/common/symbol...\n",
       "5972  symbol_5972     <  /home/apsisdev/ansary/sourcedata/common/symbol...\n",
       "5973  symbol_5973     <  /home/apsisdev/ansary/sourcedata/common/symbol...\n",
       "5974  symbol_5974     <  /home/apsisdev/ansary/sourcedata/common/symbol...\n",
       "\n",
       "[5975 rows x 3 columns]"
      ]
     },
     "execution_count": 1,
     "metadata": {},
     "output_type": "execute_result"
    }
   ],
   "source": [
    "from coreLib.dataset import DataSet\n",
    "data_dir       = \"/home/apsisdev/ansary/sourcedata/\"\n",
    "ds=DataSet(data_dir)\n",
    "ds.common.symbols.df"
   ]
  },
  {
   "cell_type": "code",
   "execution_count": 3,
   "id": "67704554",
   "metadata": {},
   "outputs": [
    {
     "name": "stdout",
     "output_type": "stream",
     "text": [
      "272\n"
     ]
    },
    {
     "data": {
      "image/png": "[encoded data removed]",
      "text/plain": [
       "<Figure size 432x288 with 1 Axes>"
      ]
     },
     "metadata": {
      "needs_background": "light"
     },
     "output_type": "display_data"
    }
   ],
   "source": [
    "import os\n",
    "import cv2\n",
    "import matplotlib.pyplot as plt\n",
    "%matplotlib inline \n",
    "import random\n",
    "\n",
    "k = random.randint(0, 3238)\n",
    "print(k)\n",
    "\n",
    "img_path=os.path.join(ds.common.noise.sign,\"mixed_\" + str(k) +\".bmp\")\n",
    "img=cv2.imread(img_path,0)\n",
    "plt.imshow(img)\n",
    "plt.show()"
   ]
  },
  {
   "cell_type": "code",
   "execution_count": 4,
   "id": "0e26ac4d",
   "metadata": {},
   "outputs": [
    {
     "data": {
      "text/plain": [
       "'/home/apsisdev/ansary/sourcedata/common/noise/signature/mixed_272.bmp'"
      ]
     },
     "execution_count": 4,
     "metadata": {},
     "output_type": "execute_result"
    }
   ],
   "source": [
    "img_path"
   ]
  },
  {
   "cell_type": "code",
   "execution_count": 15,
   "id": "b3b25df3",
   "metadata": {},
   "outputs": [],
   "source": [
    "import matplotlib.pyplot as plt\n",
    "%matplotlib inline \n",
    "import os \n",
    "import cv2\n",
    "import numpy as np\n",
    "import random\n",
    "\n",
    "from __notes__.memo_utils import memoHeadFunc, memoBottomFunc\n",
    "\n",
    "class_map_csv='/home/apsisdev/ansary/synthdata/PoC/__notes__/class_map.csv'\n",
    "font_path='/home/apsisdev/ansary/synthdata/PoC/__notes__/Bangla.ttf'"
   ]
  },
  {
   "cell_type": "code",
   "execution_count": null,
   "id": "71814c90",
   "metadata": {},
   "outputs": [],
   "source": []
  },
  {
   "cell_type": "code",
   "execution_count": 22,
   "id": "f43862e1",
   "metadata": {},
   "outputs": [],
   "source": [
    "bottom_names_snd_rcv = [\n",
    "                \"প্রেরকের সাক্ষর\", \n",
    "                \"প্রাপকের সাক্ষর\"\n",
    "                \n",
    "                ]\n",
    "\n",
    "bottom_names_mdl = [\"ব্রি. দ্র. এই খানে কিছু লেখা।\"]\n",
    "\n",
    "# bottom_names_mdl = None\n",
    "\n",
    "\n",
    "img_f, sr_iden_list = memoBottomFunc(\n",
    "                                      bottom_names_snd_rcv,\n",
    "                                      bottom_names_mdl,\n",
    "                                      class_map_csv,\n",
    "                                      font_path)"
   ]
  },
  {
   "cell_type": "code",
   "execution_count": 23,
   "id": "fc75495e",
   "metadata": {},
   "outputs": [
    {
     "data": {
      "image/png": "[encoded data removed]",
      "text/plain": [
       "<Figure size 432x288 with 1 Axes>"
      ]
     },
     "metadata": {
      "needs_background": "light"
     },
     "output_type": "display_data"
    },
    {
     "name": "stdout",
     "output_type": "stream",
     "text": [
      "(320, 2608)\n"
     ]
    }
   ],
   "source": [
    "# h,w = img_f.shape\n",
    "# print(w, h)\n",
    "\n",
    "# img_f_pad = padImg(img_f, h*2, w)\n",
    "# plt.imshow(img_f_pad)\n",
    "# plt.show()\n",
    "\n",
    "\n",
    "plt.imshow(img_f)\n",
    "plt.show()\n",
    "\n",
    "print(img_f.shape)"
   ]
  },
  {
   "cell_type": "code",
   "execution_count": 24,
   "id": "aa3d4aac",
   "metadata": {},
   "outputs": [
    {
     "data": {
      "text/plain": [
       "array([  0.,   4.,   5.,   6.,   8.,   9.,  10.,  11.,  13.,  14.,  15.,\n",
       "        17.,  18.,  19.,  20.,  22.,  23.,  25.,  26.,  28.,  29.,  31.,\n",
       "        32.,  34.,  36.,  38.,  40., 255., 855., 856.])"
      ]
     },
     "execution_count": 24,
     "metadata": {},
     "output_type": "execute_result"
    }
   ],
   "source": [
    "np.unique(img_f)"
   ]
  },
  {
   "cell_type": "code",
   "execution_count": 25,
   "id": "6447a1f7",
   "metadata": {},
   "outputs": [],
   "source": [
    "def placeImageOnBackground(img,back,bbox):\n",
    "    '''\n",
    "        @author\n",
    "        places a specific image on a given background at a specific location\n",
    "        args:\n",
    "            img   :   greyscale image to place\n",
    "            back  :   background to place the image\n",
    "            bbox  :   coordinate of bbox i.e., (y_min,y_max,x_min,x_max)\n",
    "        location constraint:\n",
    "            the bounding box centering the (x,y) point can be random\n",
    "        return:\n",
    "            back  :   back image after placing 'img'\n",
    "    '''\n",
    "    (y_min, y_max, x_min, x_max) = bbox\n",
    "    ## back: ignore lines of table\n",
    "    back[y_min:y_max,x_min:x_max]=0\n",
    "    ## img: resize image\n",
    "    h_max = abs(y_max-y_min)\n",
    "    w_max = abs(x_max-x_min)\n",
    "    dim = (h_max, w_max)\n",
    "    _img = cv2.resize(img, dim[::-1], fx=0,fy=0, interpolation = cv2.INTER_NEAREST)\n",
    "    ## place \"img\" on \"back\"\n",
    "    back[y_min:y_max,x_min:x_max]=_img\n",
    "    return back"
   ]
  },
  {
   "cell_type": "code",
   "execution_count": 26,
   "id": "dd597462",
   "metadata": {},
   "outputs": [],
   "source": [
    "def loadSignatureImg(number_image):\n",
    "    imgss = []\n",
    "    for i in range(number_image):\n",
    "        k = random.randint(0, 3238)\n",
    "        img_path=os.path.join(ds.common.noise.sign,\"mixed_\" + str(k) +\".bmp\")\n",
    "        if os.path.exists(img_path):\n",
    "#             print(\"file is there\")\n",
    "            img=cv2.imread(img_path,0)\n",
    "            imgss.append(img)\n",
    "#         else:\n",
    "#             print(str(img_path) + \": not found\")\n",
    "    return imgss\n",
    "\n",
    "sign_imgs = loadSignatureImg(20)\n",
    "# print(len(sign_imgs))\n",
    "\n",
    "num_to_select = len(sr_iden_list)                        # set the number to select here.\n",
    "list_of_random_imgs = random.sample(sign_imgs, num_to_select)\n",
    "# print(len(list_of_random_imgs))"
   ]
  },
  {
   "cell_type": "code",
   "execution_count": 27,
   "id": "d5d590f7",
   "metadata": {},
   "outputs": [
    {
     "name": "stdout",
     "output_type": "stream",
     "text": [
      "32 101\n",
      "97 138 583 656\n",
      "41 73\n",
      "593 1202\n",
      "97 138 2509 2591\n",
      "41 82\n"
     ]
    }
   ],
   "source": [
    "\n",
    "for i,img in zip(sr_iden_list,list_of_random_imgs):\n",
    "    idx = np.where(img_f==i)\n",
    "    h,w=img.shape\n",
    "    print(h,w)\n",
    "    \n",
    "    y_min, y_max, x_min, x_max = np.min(idx[0]), np.max(idx[0]), np.min(idx[1]), np.max(idx[1])\n",
    "    print(y_min, y_max, x_min, x_max)\n",
    "    \n",
    "    ## resize image\n",
    "    h_max = abs(y_max-y_min)\n",
    "    w_max = abs(x_max-x_min)\n",
    "    \n",
    "    print(h_max, w_max)\n",
    "\n",
    "    if w<x_min: \n",
    "        y_min, y_max, x_min, x_max=y_min, y_max, abs(x_min-w), x_max\n",
    "    else:\n",
    "        y_min, y_max, x_min, x_max=y_min, y_max, (x_min-w//2), x_max\n",
    "\n",
    "    bbox = (y_min, y_max, x_min, x_max)\n",
    "\n",
    "    img_f=placeImageOnBackground(img,img_f,bbox)"
   ]
  },
  {
   "cell_type": "code",
   "execution_count": 28,
   "id": "2a9563e8",
   "metadata": {},
   "outputs": [
    {
     "data": {
      "image/png": "[encoded data removed]",
      "text/plain": [
       "<Figure size 432x288 with 1 Axes>"
      ]
     },
     "metadata": {
      "needs_background": "light"
     },
     "output_type": "display_data"
    }
   ],
   "source": [
    "img_f[img_f>0]=255\n",
    "plt.imshow(img_f)\n",
    "plt.show()"
   ]
  },
  {
   "cell_type": "code",
   "execution_count": 29,
   "id": "9ebf9c1b",
   "metadata": {},
   "outputs": [],
   "source": [
    "# img_f_pad[img_f_pad>0]=255\n",
    "# plt.imshow(img_f_pad)\n",
    "# plt.show()"
   ]
  },
  {
   "cell_type": "code",
   "execution_count": 30,
   "id": "70144964",
   "metadata": {},
   "outputs": [],
   "source": [
    "# img_f_pad.shape"
   ]
  },
  {
   "cell_type": "code",
   "execution_count": 31,
   "id": "b7cc0ef6",
   "metadata": {},
   "outputs": [
    {
     "data": {
      "text/plain": [
       "[855, 856]"
      ]
     },
     "execution_count": 31,
     "metadata": {},
     "output_type": "execute_result"
    }
   ],
   "source": [
    "sr_iden_list"
   ]
  },
  {
   "cell_type": "code",
   "execution_count": 32,
   "id": "3a256389",
   "metadata": {},
   "outputs": [],
   "source": [
    "# cv2.drawline"
   ]
  },
  {
   "cell_type": "code",
   "execution_count": 33,
   "id": "8868fbee",
   "metadata": {},
   "outputs": [
    {
     "data": {
      "image/png": "[encoded data removed]",
      "text/plain": [
       "<Figure size 432x288 with 1 Axes>"
      ]
     },
     "metadata": {
      "needs_background": "light"
     },
     "output_type": "display_data"
    }
   ],
   "source": [
    "import cv2  # python-opencv\n",
    "import numpy as np\n",
    "\n",
    "width, height = 639, 84//2 \n",
    "x1, y1 = 0, 84//4 \n",
    "x2, y2 = 639, 84//4 \n",
    "image = np.zeros((height, width)) * 255\n",
    "\n",
    "line_thickness = 2\n",
    "cv2.line(image, (x1, y1), (x2, y2), (255, 0, 0), thickness=line_thickness)\n",
    "\n",
    "plt.imshow(image)\n",
    "plt.show()"
   ]
  },
  {
   "cell_type": "code",
   "execution_count": 34,
   "id": "5b0b5670",
   "metadata": {},
   "outputs": [
    {
     "data": {
      "text/plain": [
       "array([  0., 255.])"
      ]
     },
     "execution_count": 34,
     "metadata": {},
     "output_type": "execute_result"
    }
   ],
   "source": [
    "np.unique(image)"
   ]
  },
  {
   "cell_type": "code",
   "execution_count": 35,
   "id": "7e05ebec",
   "metadata": {},
   "outputs": [
    {
     "data": {
      "text/plain": [
       "'______\\nসাক্ষর'"
      ]
     },
     "execution_count": 35,
     "metadata": {},
     "output_type": "execute_result"
    }
   ],
   "source": [
    "def over(char):\n",
    "    l = len(char)\n",
    "    return l*(\"_\")+\"\\n\"+char\n",
    "\n",
    "over(\"সাক্ষর\")"
   ]
  },
  {
   "cell_type": "code",
   "execution_count": 36,
   "id": "da25e035",
   "metadata": {},
   "outputs": [
    {
     "name": "stdout",
     "output_type": "stream",
     "text": [
      "['______\\nসাক্ষর', 'সাক্ষর', '______\\nসাক্ষর']\n"
     ]
    }
   ],
   "source": [
    "# arr = [\"সাক্ষর\",None, \"সাক্ষর\"]\n",
    "\n",
    "arr = [\"সাক্ষর\",\"সাক্ষর\", \"সাক্ষর\"]\n",
    "\n",
    "k = []\n",
    "for i in range(len(arr)):\n",
    "    if i==1 and arr[i] == None:\n",
    "        k.append(25*(\" \"))\n",
    "    elif i==1 and arr[i] != None:\n",
    "        k.append(arr[i])\n",
    "    else:\n",
    "        k.append(over(arr[i]))\n",
    "    \n",
    "print(k)"
   ]
  },
  {
   "cell_type": "code",
   "execution_count": 37,
   "id": "ba9056d2",
   "metadata": {},
   "outputs": [
    {
     "name": "stdout",
     "output_type": "stream",
     "text": [
      "5\n"
     ]
    }
   ],
   "source": [
    "k = [1,3,4,5]\n",
    "\n",
    "for val in k[3:]:\n",
    "    print(val)"
   ]
  },
  {
   "cell_type": "code",
   "execution_count": null,
   "id": "815340b5",
   "metadata": {},
   "outputs": [],
   "source": []
  },
  {
   "cell_type": "code",
   "execution_count": null,
   "id": "1510ceef",
   "metadata": {},
   "outputs": [],
   "source": []
  }
 ],
 "metadata": {
  "kernelspec": {
   "display_name": "bangla",
   "language": "python",
   "name": "bangla"
  },
  "language_info": {
   "codemirror_mode": {
    "name": "ipython",
    "version": 3
   },
   "file_extension": ".py",
   "mimetype": "text/x-python",
   "name": "python",
   "nbconvert_exporter": "python",
   "pygments_lexer": "ipython3",
   "version": "3.8.5"
  }
 },
 "nbformat": 4,
 "nbformat_minor": 5
}
