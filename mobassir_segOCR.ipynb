{
 "cells": [
  {
   "cell_type": "code",
   "execution_count": 1,
   "id": "9d9147b1",
   "metadata": {},
   "outputs": [],
   "source": [
    "#----------------\n",
    "# variables\n",
    "#----------------\n",
    "img_height=64\n",
    "img_width =384\n",
    "\n",
    "n_train=300000  # needed training image number\n",
    "n_test=1000   # needed testing image number\n",
    "#--semi-fixed\n",
    "data_dir       = \"/home/apsisdev/ansary/DATASETS/synthdata_source\" # resource\n",
    "main_dir       = \"/home/apsisdev/IMPORTANT/\"  # saving "
   ]
  },
  {
   "cell_type": "code",
   "execution_count": 2,
   "id": "d402722a",
   "metadata": {},
   "outputs": [
    {
     "name": "stderr",
     "output_type": "stream",
     "text": [
      " 39%|███▉      | 78999/200840 [00:00<00:00, 789985.10it/s]"
     ]
    },
    {
     "name": "stdout",
     "output_type": "stream",
     "text": [
      "\u001b[32m#LOG     :\u001b[0m\u001b[32mAll paths found\u001b[0m\n"
     ]
    },
    {
     "name": "stderr",
     "output_type": "stream",
     "text": [
      "100%|██████████| 200840/200840 [00:00<00:00, 809082.19it/s]\n",
      "100%|██████████| 72045/72045 [00:00<00:00, 779530.16it/s]\n",
      "  2%|▏         | 17996/1059977 [00:00<00:11, 92798.29it/s]"
     ]
    },
    {
     "name": "stdout",
     "output_type": "stream",
     "text": [
      "\u001b[32m#LOG     :\u001b[0m\u001b[34mProcessing Dictionary:/home/apsisdev/ansary/DATASETS/synthdata_source/bangla/dictionary.csv\u001b[0m\n"
     ]
    },
    {
     "name": "stderr",
     "output_type": "stream",
     "text": [
      "100%|██████████| 1059977/1059977 [00:10<00:00, 101348.77it/s]\n",
      "100%|██████████| 46101/46101 [00:00<00:00, 768146.23it/s]\n",
      "100%|██████████| 10305/10305 [00:00<00:00, 749580.36it/s]\n",
      "100%|██████████| 10305/10305 [00:00<00:00, 1309290.64it/s]\n"
     ]
    },
    {
     "name": "stdout",
     "output_type": "stream",
     "text": [
      "\u001b[32m#LOG     :\u001b[0m\u001b[34mconverting int labels to string\u001b[0m\n"
     ]
    },
    {
     "name": "stderr",
     "output_type": "stream",
     "text": [
      "  2%|▏         | 7904/370098 [00:00<00:04, 79006.17it/s]"
     ]
    },
    {
     "name": "stdout",
     "output_type": "stream",
     "text": [
      "\u001b[32m#LOG     :\u001b[0m\u001b[34mProcessing Dictionary:/home/apsisdev/ansary/DATASETS/synthdata_source/english/dictionary.csv\u001b[0m\n"
     ]
    },
    {
     "name": "stderr",
     "output_type": "stream",
     "text": [
      "100%|██████████| 370098/370098 [00:05<00:00, 73623.47it/s]\n",
      "100%|██████████| 5975/5975 [00:00<00:00, 749520.47it/s]\n"
     ]
    },
    {
     "name": "stdout",
     "output_type": "stream",
     "text": [
      "\u001b[32m#LOG     :\u001b[0m\u001b[34mbangla.graphemes\u001b[0m\n"
     ]
    },
    {
     "name": "stderr",
     "output_type": "stream",
     "text": [
      "100%|██████████| 200840/200840 [00:00<00:00, 6625797.49it/s]\n",
      "100%|██████████| 72045/72045 [00:00<00:00, 6999088.15it/s]\n",
      "100%|██████████| 46101/46101 [00:00<00:00, 7036704.71it/s]\n",
      "100%|██████████| 10305/10305 [00:00<00:00, 6912250.55it/s]\n"
     ]
    },
    {
     "name": "stdout",
     "output_type": "stream",
     "text": [
      "\u001b[32m#LOG     :\u001b[0m\u001b[34mbangla.numbers\u001b[0m\n",
      "\u001b[32m#LOG     :\u001b[0m\u001b[34menglish.graphemes\u001b[0m\n",
      "\u001b[32m#LOG     :\u001b[0m\u001b[34menglish.numbers\u001b[0m\n",
      "\u001b[32m#LOG     :\u001b[0m\u001b[34mcommon.symbols\u001b[0m\n"
     ]
    },
    {
     "name": "stderr",
     "output_type": "stream",
     "text": [
      "100%|██████████| 5975/5975 [00:00<00:00, 6924831.83it/s]\n",
      "100%|██████████| 21/21 [00:00<00:00, 652447.29it/s]\n",
      "100%|██████████| 2682/2682 [00:00<00:00, 6672077.89it/s]\n",
      "100%|██████████| 982/982 [00:00<00:00, 5969284.82it/s]\n",
      "100%|██████████| 112763/112763 [00:00<00:00, 7044314.23it/s]\n",
      "100%|██████████| 3240/3240 [00:00<00:00, 6825487.17it/s]"
     ]
    },
    {
     "name": "stdout",
     "output_type": "stream",
     "text": [
      "\u001b[32m#LOG     :\u001b[0m\u001b[34mbangla.fonts\u001b[0m\n",
      "\u001b[32m#LOG     :\u001b[0m\u001b[34menglish.fonts\u001b[0m\n",
      "\u001b[32m#LOG     :\u001b[0m\u001b[34mcommon.background\u001b[0m\n",
      "\u001b[32m#LOG     :\u001b[0m\u001b[34mcommon.noise.random\u001b[0m\n",
      "\u001b[32m#LOG     :\u001b[0m\u001b[34mcommon.noise.sign\u001b[0m\n"
     ]
    },
    {
     "name": "stderr",
     "output_type": "stream",
     "text": [
      "\n"
     ]
    }
   ],
   "source": [
    "#--------\n",
    "# Resource fix\n",
    "#--------\n",
    "\n",
    "from coreLib.dataset import DataSet\n",
    "from coreLib.utils import create_dir,LOG_INFO\n",
    "ds=DataSet(data_dir)\n",
    "\n"
   ]
  },
  {
   "cell_type": "code",
   "execution_count": 3,
   "id": "0e32a639",
   "metadata": {},
   "outputs": [
    {
     "name": "stdout",
     "output_type": "stream",
     "text": [
      "Strcutre\n"
     ]
    }
   ],
   "source": [
    "import os\n",
    "#--------------\n",
    "# Fixed structre\n",
    "#--------------\n",
    "\n",
    "save_dir=create_dir(main_dir,\"BanglaSynthShort\")\n",
    "train_dir=create_dir(save_dir,\"train\")\n",
    "test_dir=create_dir(save_dir,\"test\")\n",
    "\n",
    "train_imgs_dir=create_dir(train_dir,\"imgs\")\n",
    "train_label_txt=os.path.join(train_dir,\"label.txt\")\n",
    "train_instances_txt=os.path.join(train_dir,\"instances_train.txt\")\n",
    "\n",
    "test_imgs_dir=create_dir(test_dir,\"imgs\")\n",
    "test_label_txt=os.path.join(test_dir,\"label.txt\")\n",
    "test_instances_txt=os.path.join(test_dir,\"instances_test.txt\")\n",
    "\n",
    "dict_txt=os.path.join(save_dir,\"bangla_dict.txt\")\n",
    "dict_txt_grapheme=os.path.join(save_dir,\"bangla_dict_grapheme.txt\")\n",
    "\n",
    "'''\n",
    "# --> \n",
    "* bangalSynthShort\n",
    "    banga_dict_next.txt\n",
    "    * train\n",
    "        * imgs\n",
    "        * label.txt\n",
    "        * instances_train.txt\n",
    "    * test\n",
    "        * imgs\n",
    "        * label.txt\n",
    "        * instances_test.txt-> label.txt\n",
    "'''\n",
    "print(\"Strcutre\")"
   ]
  },
  {
   "cell_type": "code",
   "execution_count": 4,
   "id": "43a5fc2a",
   "metadata": {},
   "outputs": [],
   "source": [
    "#---------------------\n",
    "# data generation\n",
    "#-----------------------\n",
    "from coreLib.word import create_word\n",
    "from coreLib.utils import stripPads\n",
    "from coreLib.config import config\n",
    "import cv2\n",
    "import random\n",
    "import matplotlib.pyplot as plt\n",
    "import numpy as np\n",
    "import os \n",
    "from tqdm.auto import tqdm\n",
    "\n",
    "config.comp_dim=img_height\n",
    "\n",
    "#---------------------------------------------------------------\n",
    "# image utils\n",
    "#---------------------------------------------------------------\n",
    "def padImage(img,pad_loc,pad_dim):\n",
    "    '''\n",
    "        pads an image with white value\n",
    "        args:\n",
    "            img     :       the image to pad\n",
    "            pad_loc :       (lr/tb) lr: left-right pad , tb=top_bottom pad\n",
    "            pad_dim :       the dimension to pad upto \n",
    "    '''\n",
    "    \n",
    "    if pad_loc==\"lr\":\n",
    "        # shape\n",
    "        h,w=img.shape\n",
    "        # pad widths\n",
    "        left_pad_width =(pad_dim-w)//2\n",
    "        # print(left_pad_width)\n",
    "        right_pad_width=pad_dim-w-left_pad_width\n",
    "        # pads\n",
    "        left_pad =np.ones((h,left_pad_width))*255\n",
    "        right_pad=np.ones((h,right_pad_width))*255\n",
    "        # pad\n",
    "        img =np.concatenate([left_pad,img,right_pad],axis=1)\n",
    "    else:\n",
    "        # shape\n",
    "        h,w=img.shape\n",
    "        # pad heights\n",
    "        top_pad_height =(pad_dim-h)//2\n",
    "        bot_pad_height=pad_dim-h-top_pad_height\n",
    "        # pads\n",
    "        top_pad =np.ones((top_pad_height,w))*255\n",
    "        bot_pad=np.ones((bot_pad_height,w))*255\n",
    "        # pad\n",
    "        img =np.concatenate([top_pad,img,bot_pad],axis=0)\n",
    "    return img.astype(\"uint8\")    \n",
    "\n",
    "def correctPadding(img,dim):\n",
    "    '''\n",
    "        corrects an image padding \n",
    "    '''\n",
    "    img_height,img_width=dim\n",
    "    # check for pad\n",
    "    h,w=img.shape\n",
    "    if w > img_width:\n",
    "        # for larger width\n",
    "        h_new= int(img_width* h/w) \n",
    "        img=cv2.resize(img,(img_width,h_new),fx=0,fy=0, interpolation = cv2.INTER_NEAREST)\n",
    "        # pad\n",
    "        img=padImage(img,pad_loc=\"tb\",pad_dim=img_height) \n",
    "    elif w < img_width:\n",
    "        # pad\n",
    "        img=padImage(img,pad_loc=\"lr\",pad_dim=img_width)\n",
    "    # error avoid\n",
    "    img=cv2.resize(img,(img_width,img_height),fx=0,fy=0, interpolation = cv2.INTER_NEAREST)\n",
    "    return img \n"
   ]
  },
  {
   "cell_type": "code",
   "execution_count": 5,
   "id": "853331f6",
   "metadata": {},
   "outputs": [
    {
     "data": {
      "application/vnd.jupyter.widget-view+json": {
       "model_id": "8c85d3a4f95246f6a5af8a6d43e08aa0",
       "version_major": 2,
       "version_minor": 0
      },
      "text/plain": [
       "  0%|          | 0/300000 [00:00<?, ?it/s]"
      ]
     },
     "metadata": {},
     "output_type": "display_data"
    },
    {
     "name": "stdout",
     "output_type": "stream",
     "text": [
      "unsupported operand type(s) for +=: 'NoneType' and 'str'\n",
      "empty range for randrange() (0, 0, 0)\n",
      "unsupported operand type(s) for +=: 'NoneType' and 'str'\n",
      "unsupported operand type(s) for +=: 'NoneType' and 'str'\n",
      "unsupported operand type(s) for +=: 'NoneType' and 'str'\n",
      "unsupported operand type(s) for +=: 'NoneType' and 'str'\n",
      "empty range for randrange() (0, 0, 0)\n",
      "unsupported operand type(s) for +=: 'NoneType' and 'str'\n",
      "unsupported operand type(s) for +=: 'NoneType' and 'str'\n",
      "unsupported operand type(s) for +=: 'NoneType' and 'str'\n",
      "unsupported operand type(s) for +=: 'NoneType' and 'str'\n",
      "unsupported operand type(s) for +=: 'NoneType' and 'str'\n",
      "unsupported operand type(s) for +=: 'NoneType' and 'str'\n",
      "unsupported operand type(s) for +=: 'NoneType' and 'str'\n",
      "unsupported operand type(s) for +=: 'NoneType' and 'str'\n",
      "unsupported operand type(s) for +=: 'NoneType' and 'str'\n",
      "empty range for randrange() (0, 0, 0)\n",
      "unsupported operand type(s) for +=: 'NoneType' and 'str'\n",
      "unsupported operand type(s) for +=: 'NoneType' and 'str'\n",
      "unsupported operand type(s) for +=: 'NoneType' and 'str'\n",
      "unsupported operand type(s) for +=: 'NoneType' and 'str'\n",
      "unsupported operand type(s) for +=: 'NoneType' and 'str'\n",
      "unsupported operand type(s) for +=: 'NoneType' and 'str'\n",
      "empty range for randrange() (0, 0, 0)\n",
      "empty range for randrange() (0, 0, 0)\n"
     ]
    },
    {
     "data": {
      "application/vnd.jupyter.widget-view+json": {
       "model_id": "9ee69005298040fbb3724209ef4539f2",
       "version_major": 2,
       "version_minor": 0
      },
      "text/plain": [
       "  0%|          | 0/299975 [00:00<?, ?it/s]"
      ]
     },
     "metadata": {},
     "output_type": "display_data"
    },
    {
     "data": {
      "application/vnd.jupyter.widget-view+json": {
       "model_id": "501552adcf92401eae7a5c61bead2584",
       "version_major": 2,
       "version_minor": 0
      },
      "text/plain": [
       "  0%|          | 0/299975 [00:00<?, ?it/s]"
      ]
     },
     "metadata": {},
     "output_type": "display_data"
    },
    {
     "data": {
      "application/vnd.jupyter.widget-view+json": {
       "model_id": "d812788b8b4b47d98a91735267b10939",
       "version_major": 2,
       "version_minor": 0
      },
      "text/plain": [
       "  0%|          | 0/299975 [00:00<?, ?it/s]"
      ]
     },
     "metadata": {},
     "output_type": "display_data"
    }
   ],
   "source": [
    "'''\n",
    "    charecter level dictionary: fixed data : 63\n",
    "    \n",
    "    ERROR CASE:\n",
    "        GRAPHEME: Dynamic\n",
    "'''\n",
    "from coreLib.graphemeParser import GraphemeParser\n",
    "GP=GraphemeParser()\n",
    "\n",
    "dict_data=[]\n",
    "dict_data_grapheme=[]\n",
    "#---------------------\n",
    "# train data\n",
    "#-----------------------\n",
    "\n",
    "# image--gen\n",
    "#--------------------------------------------------\n",
    "instances=[]\n",
    "LABELS=[]\n",
    "\n",
    "\n",
    "\n",
    "for i in tqdm(range(n_train)):\n",
    "    try:\n",
    "        '''\n",
    "            White background : Black letters\n",
    "        '''\n",
    "        annotations=[]\n",
    "        iden=3\n",
    "        img,label,iden=create_word(iden,\n",
    "                                   \"bangla\",\n",
    "                                    random.choices(population=[\"handwritten\",\"printed\"],weights=[0.6, 0.4],k=1)[0],\n",
    "                                    \"grapheme\",\n",
    "                                    ds,\n",
    "                                    use_dict=True)\n",
    "        \n",
    "        data=np.ones(img.shape)*255\n",
    "        #{\"char_text\": \"L\", \"char_box\": [13.0, 14.0, 32.0, 12.0, 23.0, 36.0, 3.0, 38.0]}\n",
    "        com=\"\"\n",
    "        for k,v in label.items():\n",
    "            if v!=\" \":\n",
    "                #label\n",
    "                com+=v\n",
    "                # image creation\n",
    "                data[img==k]=0\n",
    "                # annotation\n",
    "                idx = np.where(img==k)\n",
    "                y_min,y_max,x_min,x_max = np.min(idx[0]), np.max(idx[0]), np.min(idx[1]), np.max(idx[1])\n",
    "                annon={}\n",
    "                annon[\"char_text\"]=v \n",
    "                annon[\"char_box\"]=[float(i) for i in [x_min,y_min,x_max,y_min,x_max,y_max,x_min,y_max]]  \n",
    "                annotations.append(annon)\n",
    "\n",
    "        # img save\n",
    "        data=stripPads(data,255)\n",
    "        data=correctPadding(data,dim=(img_height,img_width))\n",
    "        cv2.imwrite(os.path.join(train_imgs_dir,f\"{i}.png\"),data)\n",
    "\n",
    "        # instaces\n",
    "        instances.append({\"file_name\": f\"{i}.png\", \"annotations\":annotations,\"text\":com})\n",
    "        # label\n",
    "        LABELS.append(f\"{i}.png {com}\")\n",
    "        \n",
    "        \n",
    "        # dictionary formation\n",
    "        # char\n",
    "        for c in com:\n",
    "            if c not in dict_data:\n",
    "                dict_data.append(c)\n",
    "        # grapheme\n",
    "        coms=GP.word2grapheme(com)\n",
    "        for c in coms:\n",
    "            if c not in dict_data_grapheme:\n",
    "                dict_data_grapheme.append(c)\n",
    "    except Exception as e:\n",
    "        print(e)\n",
    "        \n",
    "# instances creation\n",
    "#------------------------------------------------------------------------\n",
    "inst_text=[str(i) for i in tqdm(instances)] # text-conv\n",
    "with open(train_instances_txt,\"w\") as f:\n",
    "    for line in tqdm(inst_text):\n",
    "        line=line.replace(\"'\",'\"')\n",
    "        f.write(f\"{line}\\n\")\n",
    "# label creation\n",
    "#-----------------------------------------------------\n",
    "with open(train_label_txt,\"w\") as f:\n",
    "    for line in tqdm(LABELS):\n",
    "        f.write(f\"{line}\\n\")\n"
   ]
  },
  {
   "cell_type": "code",
   "execution_count": 6,
   "id": "83173e10",
   "metadata": {},
   "outputs": [
    {
     "data": {
      "application/vnd.jupyter.widget-view+json": {
       "model_id": "68e0438c7e7a40d79b1db034a53ef0db",
       "version_major": 2,
       "version_minor": 0
      },
      "text/plain": [
       "  0%|          | 0/1000 [00:00<?, ?it/s]"
      ]
     },
     "metadata": {},
     "output_type": "display_data"
    },
    {
     "data": {
      "application/vnd.jupyter.widget-view+json": {
       "model_id": "22fd361f30b345509c3fbd412b490551",
       "version_major": 2,
       "version_minor": 0
      },
      "text/plain": [
       "  0%|          | 0/1000 [00:00<?, ?it/s]"
      ]
     },
     "metadata": {},
     "output_type": "display_data"
    },
    {
     "data": {
      "application/vnd.jupyter.widget-view+json": {
       "model_id": "7cc32b398265463e8dc50f1f617b7d01",
       "version_major": 2,
       "version_minor": 0
      },
      "text/plain": [
       "  0%|          | 0/1000 [00:00<?, ?it/s]"
      ]
     },
     "metadata": {},
     "output_type": "display_data"
    }
   ],
   "source": [
    "#---------------------\n",
    "# test data\n",
    "#-----------------------\n",
    "LABELS=[]\n",
    "# image--gen\n",
    "#--------------------------------------------------\n",
    "for i in tqdm(range(n_train,n_train+n_test)):\n",
    "    try:\n",
    "        '''\n",
    "            White background : Black letters\n",
    "        '''\n",
    "        annotations=[]\n",
    "        iden=3\n",
    "        img,label,iden=create_word(iden,\n",
    "                                   \"bangla\",\n",
    "                                    random.choices(population=[\"handwritten\",\"printed\"],weights=[0.6, 0.4],k=1)[0],\n",
    "                                    \"grapheme\",\n",
    "                                    ds,\n",
    "                                    use_dict=True)\n",
    "        \n",
    "        data=np.ones(img.shape)*255\n",
    "        #{\"char_text\": \"L\", \"char_box\": [13.0, 14.0, 32.0, 12.0, 23.0, 36.0, 3.0, 38.0]}\n",
    "        com=\"\"\n",
    "        for k,v in label.items():\n",
    "            if v!=\" \":\n",
    "                #label\n",
    "                com+=v\n",
    "                # image creation\n",
    "                data[img==k]=0\n",
    "                \n",
    "        # img save\n",
    "        data=stripPads(data,255)\n",
    "        data=correctPadding(data,dim=(img_height,img_width))\n",
    "        cv2.imwrite(os.path.join(test_imgs_dir,f\"{i}.png\"),data)\n",
    "\n",
    "        # label\n",
    "        LABELS.append(f\"{i}.png {com}\")\n",
    "        \n",
    "        \n",
    "        # dictionary formation\n",
    "        # char\n",
    "        for c in com:\n",
    "            if c not in dict_data:\n",
    "                dict_data.append(c)\n",
    "        # grapheme\n",
    "        coms=GP.word2grapheme(com)\n",
    "        for c in coms:\n",
    "            if c not in dict_data_grapheme:\n",
    "                dict_data_grapheme.append(c)\n",
    "    except Exception as e:\n",
    "        print(e)\n",
    "        \n",
    "# instances creation\n",
    "#------------------------------------------------------------------------\n",
    "with open(test_instances_txt,\"w\") as f:\n",
    "    for line in tqdm(LABELS):\n",
    "        f.write(f\"{line}\\n\")\n",
    "# label creation\n",
    "#-----------------------------------------------------\n",
    "with open(test_label_txt,\"w\") as f:\n",
    "    for line in tqdm(LABELS):\n",
    "        f.write(f\"{line}\\n\")"
   ]
  },
  {
   "cell_type": "code",
   "execution_count": 7,
   "id": "41298dc3",
   "metadata": {},
   "outputs": [],
   "source": [
    "#---------------------\n",
    "# dict\n",
    "#-----------------------\n",
    "dict_data=sorted(dict_data)\n",
    "dict_data_grapheme=sorted(dict_data_grapheme)\n",
    "# dicts\n",
    "with open(dict_txt,\"w\") as f:\n",
    "    for c in dict_data:\n",
    "        f.write(f\"{c}\\n\")\n",
    "\n",
    "with open(dict_txt_grapheme,\"w\") as f:\n",
    "    for c in dict_data_grapheme:\n",
    "        f.write(f\"{c}\\n\")\n"
   ]
  },
  {
   "cell_type": "code",
   "execution_count": 8,
   "id": "e84850e6",
   "metadata": {},
   "outputs": [
    {
     "name": "stdout",
     "output_type": "stream",
     "text": [
      " BN-HTRd_Analysis.ipynb         \u001b[0m\u001b[01;35md.png\u001b[0m                      \u001b[01;34mPoC\u001b[0m/\r\n",
      " \u001b[01;34mcoreLib\u001b[0m/                       memoCreation_debug.ipynb   README.md\r\n",
      " debug.ipynb                    \u001b[01;34mmemoLib\u001b[0m/                   requirements.txt\r\n",
      "'detection_data (copy).ipynb'   \u001b[01;35mmemo.png\u001b[0m                   store.py\r\n",
      " detection_data.ipynb           mobassir_segOCR.ipynb      \u001b[01;34mUPDATE\u001b[0m/\r\n"
     ]
    }
   ],
   "source": [
    "ls"
   ]
  },
  {
   "cell_type": "code",
   "execution_count": 9,
   "id": "a76a49eb",
   "metadata": {},
   "outputs": [
    {
     "data": {
      "text/plain": [
       "'/home/apsisdev/ansary/CODES/synthdata'"
      ]
     },
     "execution_count": 9,
     "metadata": {},
     "output_type": "execute_result"
    }
   ],
   "source": [
    "pwd"
   ]
  },
  {
   "cell_type": "code",
   "execution_count": 10,
   "id": "10dc9dc9",
   "metadata": {},
   "outputs": [
    {
     "name": "stdout",
     "output_type": "stream",
     "text": [
      "/home/apsisdev/IMPORTANT/BanglaSynthShort\n"
     ]
    }
   ],
   "source": [
    "cd \"/home/apsisdev/IMPORTANT/BanglaSynthShort\""
   ]
  },
  {
   "cell_type": "code",
   "execution_count": 11,
   "id": "f5dc2113",
   "metadata": {},
   "outputs": [
    {
     "name": "stdout",
     "output_type": "stream",
     "text": [
      "bangla_dict_grapheme.txt  bangla_dict.txt  \u001b[0m\u001b[01;34mtest\u001b[0m/  \u001b[01;34mtrain\u001b[0m/\r\n"
     ]
    }
   ],
   "source": [
    "ls"
   ]
  },
  {
   "cell_type": "code",
   "execution_count": 12,
   "id": "b95d186b",
   "metadata": {},
   "outputs": [
    {
     "name": "stdout",
     "output_type": "stream",
     "text": [
      "\u001b[0m\u001b[01;34mimgs\u001b[0m/  instances_train.txt  label.txt\r\n"
     ]
    }
   ],
   "source": [
    "ls \"/home/apsisdev/IMPORTANT/BanglaSynthShort/train\""
   ]
  },
  {
   "cell_type": "code",
   "execution_count": 13,
   "id": "771b9c67",
   "metadata": {},
   "outputs": [
    {
     "name": "stdout",
     "output_type": "stream",
     "text": [
      "\u001b[0m\u001b[01;34mimgs\u001b[0m/  instances_test.txt  label.txt\r\n"
     ]
    }
   ],
   "source": [
    "ls \"/home/apsisdev/IMPORTANT/BanglaSynthShort/test\""
   ]
  },
  {
   "cell_type": "code",
   "execution_count": 14,
   "id": "4e0b22a0",
   "metadata": {},
   "outputs": [
    {
     "name": "stdout",
     "output_type": "stream",
     "text": [
      "\u001b[0m\u001b[01;35m300000.png\u001b[0m  \u001b[01;35m300185.png\u001b[0m  \u001b[01;35m300370.png\u001b[0m  \u001b[01;35m300555.png\u001b[0m  \u001b[01;35m300740.png\u001b[0m  \u001b[01;35m300925.png\u001b[0m\r\n",
      "\u001b[01;35m300001.png\u001b[0m  \u001b[01;35m300186.png\u001b[0m  \u001b[01;35m300371.png\u001b[0m  \u001b[01;35m300556.png\u001b[0m  \u001b[01;35m300741.png\u001b[0m  \u001b[01;35m300926.png\u001b[0m\r\n",
      "\u001b[01;35m300002.png\u001b[0m  \u001b[01;35m300187.png\u001b[0m  \u001b[01;35m300372.png\u001b[0m  \u001b[01;35m300557.png\u001b[0m  \u001b[01;35m300742.png\u001b[0m  \u001b[01;35m300927.png\u001b[0m\r\n",
      "\u001b[01;35m300003.png\u001b[0m  \u001b[01;35m300188.png\u001b[0m  \u001b[01;35m300373.png\u001b[0m  \u001b[01;35m300558.png\u001b[0m  \u001b[01;35m300743.png\u001b[0m  \u001b[01;35m300928.png\u001b[0m\r\n",
      "\u001b[01;35m300004.png\u001b[0m  \u001b[01;35m300189.png\u001b[0m  \u001b[01;35m300374.png\u001b[0m  \u001b[01;35m300559.png\u001b[0m  \u001b[01;35m300744.png\u001b[0m  \u001b[01;35m300929.png\u001b[0m\r\n",
      "\u001b[01;35m300005.png\u001b[0m  \u001b[01;35m300190.png\u001b[0m  \u001b[01;35m300375.png\u001b[0m  \u001b[01;35m300560.png\u001b[0m  \u001b[01;35m300745.png\u001b[0m  \u001b[01;35m300930.png\u001b[0m\r\n",
      "\u001b[01;35m300006.png\u001b[0m  \u001b[01;35m300191.png\u001b[0m  \u001b[01;35m300376.png\u001b[0m  \u001b[01;35m300561.png\u001b[0m  \u001b[01;35m300746.png\u001b[0m  \u001b[01;35m300931.png\u001b[0m\r\n",
      "\u001b[01;35m300007.png\u001b[0m  \u001b[01;35m300192.png\u001b[0m  \u001b[01;35m300377.png\u001b[0m  \u001b[01;35m300562.png\u001b[0m  \u001b[01;35m300747.png\u001b[0m  \u001b[01;35m300932.png\u001b[0m\r\n",
      "\u001b[01;35m300008.png\u001b[0m  \u001b[01;35m300193.png\u001b[0m  \u001b[01;35m300378.png\u001b[0m  \u001b[01;35m300563.png\u001b[0m  \u001b[01;35m300748.png\u001b[0m  \u001b[01;35m300933.png\u001b[0m\r\n",
      "\u001b[01;35m300009.png\u001b[0m  \u001b[01;35m300194.png\u001b[0m  \u001b[01;35m300379.png\u001b[0m  \u001b[01;35m300564.png\u001b[0m  \u001b[01;35m300749.png\u001b[0m  \u001b[01;35m300934.png\u001b[0m\r\n",
      "\u001b[01;35m300010.png\u001b[0m  \u001b[01;35m300195.png\u001b[0m  \u001b[01;35m300380.png\u001b[0m  \u001b[01;35m300565.png\u001b[0m  \u001b[01;35m300750.png\u001b[0m  \u001b[01;35m300935.png\u001b[0m\r\n",
      "\u001b[01;35m300011.png\u001b[0m  \u001b[01;35m300196.png\u001b[0m  \u001b[01;35m300381.png\u001b[0m  \u001b[01;35m300566.png\u001b[0m  \u001b[01;35m300751.png\u001b[0m  \u001b[01;35m300936.png\u001b[0m\r\n",
      "\u001b[01;35m300012.png\u001b[0m  \u001b[01;35m300197.png\u001b[0m  \u001b[01;35m300382.png\u001b[0m  \u001b[01;35m300567.png\u001b[0m  \u001b[01;35m300752.png\u001b[0m  \u001b[01;35m300937.png\u001b[0m\r\n",
      "\u001b[01;35m300013.png\u001b[0m  \u001b[01;35m300198.png\u001b[0m  \u001b[01;35m300383.png\u001b[0m  \u001b[01;35m300568.png\u001b[0m  \u001b[01;35m300753.png\u001b[0m  \u001b[01;35m300938.png\u001b[0m\r\n",
      "\u001b[01;35m300014.png\u001b[0m  \u001b[01;35m300199.png\u001b[0m  \u001b[01;35m300384.png\u001b[0m  \u001b[01;35m300569.png\u001b[0m  \u001b[01;35m300754.png\u001b[0m  \u001b[01;35m300939.png\u001b[0m\r\n",
      "\u001b[01;35m300015.png\u001b[0m  \u001b[01;35m300200.png\u001b[0m  \u001b[01;35m300385.png\u001b[0m  \u001b[01;35m300570.png\u001b[0m  \u001b[01;35m300755.png\u001b[0m  \u001b[01;35m300940.png\u001b[0m\r\n",
      "\u001b[01;35m300016.png\u001b[0m  \u001b[01;35m300201.png\u001b[0m  \u001b[01;35m300386.png\u001b[0m  \u001b[01;35m300571.png\u001b[0m  \u001b[01;35m300756.png\u001b[0m  \u001b[01;35m300941.png\u001b[0m\r\n",
      "\u001b[01;35m300017.png\u001b[0m  \u001b[01;35m300202.png\u001b[0m  \u001b[01;35m300387.png\u001b[0m  \u001b[01;35m300572.png\u001b[0m  \u001b[01;35m300757.png\u001b[0m  \u001b[01;35m300942.png\u001b[0m\r\n",
      "\u001b[01;35m300018.png\u001b[0m  \u001b[01;35m300203.png\u001b[0m  \u001b[01;35m300388.png\u001b[0m  \u001b[01;35m300573.png\u001b[0m  \u001b[01;35m300758.png\u001b[0m  \u001b[01;35m300943.png\u001b[0m\r\n",
      "\u001b[01;35m300019.png\u001b[0m  \u001b[01;35m300204.png\u001b[0m  \u001b[01;35m300389.png\u001b[0m  \u001b[01;35m300574.png\u001b[0m  \u001b[01;35m300759.png\u001b[0m  \u001b[01;35m300944.png\u001b[0m\r\n",
      "\u001b[01;35m300020.png\u001b[0m  \u001b[01;35m300205.png\u001b[0m  \u001b[01;35m300390.png\u001b[0m  \u001b[01;35m300575.png\u001b[0m  \u001b[01;35m300760.png\u001b[0m  \u001b[01;35m300945.png\u001b[0m\r\n",
      "\u001b[01;35m300021.png\u001b[0m  \u001b[01;35m300206.png\u001b[0m  \u001b[01;35m300391.png\u001b[0m  \u001b[01;35m300576.png\u001b[0m  \u001b[01;35m300761.png\u001b[0m  \u001b[01;35m300946.png\u001b[0m\r\n",
      "\u001b[01;35m300022.png\u001b[0m  \u001b[01;35m300207.png\u001b[0m  \u001b[01;35m300392.png\u001b[0m  \u001b[01;35m300577.png\u001b[0m  \u001b[01;35m300762.png\u001b[0m  \u001b[01;35m300947.png\u001b[0m\r\n",
      "\u001b[01;35m300023.png\u001b[0m  \u001b[01;35m300208.png\u001b[0m  \u001b[01;35m300393.png\u001b[0m  \u001b[01;35m300578.png\u001b[0m  \u001b[01;35m300763.png\u001b[0m  \u001b[01;35m300948.png\u001b[0m\r\n",
      "\u001b[01;35m300024.png\u001b[0m  \u001b[01;35m300209.png\u001b[0m  \u001b[01;35m300394.png\u001b[0m  \u001b[01;35m300579.png\u001b[0m  \u001b[01;35m300764.png\u001b[0m  \u001b[01;35m300949.png\u001b[0m\r\n",
      "\u001b[01;35m300025.png\u001b[0m  \u001b[01;35m300210.png\u001b[0m  \u001b[01;35m300395.png\u001b[0m  \u001b[01;35m300580.png\u001b[0m  \u001b[01;35m300765.png\u001b[0m  \u001b[01;35m300950.png\u001b[0m\r\n",
      "\u001b[01;35m300026.png\u001b[0m  \u001b[01;35m300211.png\u001b[0m  \u001b[01;35m300396.png\u001b[0m  \u001b[01;35m300581.png\u001b[0m  \u001b[01;35m300766.png\u001b[0m  \u001b[01;35m300951.png\u001b[0m\r\n",
      "\u001b[01;35m300027.png\u001b[0m  \u001b[01;35m300212.png\u001b[0m  \u001b[01;35m300397.png\u001b[0m  \u001b[01;35m300582.png\u001b[0m  \u001b[01;35m300767.png\u001b[0m  \u001b[01;35m300952.png\u001b[0m\r\n",
      "\u001b[01;35m300028.png\u001b[0m  \u001b[01;35m300213.png\u001b[0m  \u001b[01;35m300398.png\u001b[0m  \u001b[01;35m300583.png\u001b[0m  \u001b[01;35m300768.png\u001b[0m  \u001b[01;35m300953.png\u001b[0m\r\n",
      "\u001b[01;35m300029.png\u001b[0m  \u001b[01;35m300214.png\u001b[0m  \u001b[01;35m300399.png\u001b[0m  \u001b[01;35m300584.png\u001b[0m  \u001b[01;35m300769.png\u001b[0m  \u001b[01;35m300954.png\u001b[0m\r\n",
      "\u001b[01;35m300030.png\u001b[0m  \u001b[01;35m300215.png\u001b[0m  \u001b[01;35m300400.png\u001b[0m  \u001b[01;35m300585.png\u001b[0m  \u001b[01;35m300770.png\u001b[0m  \u001b[01;35m300955.png\u001b[0m\r\n",
      "\u001b[01;35m300031.png\u001b[0m  \u001b[01;35m300216.png\u001b[0m  \u001b[01;35m300401.png\u001b[0m  \u001b[01;35m300586.png\u001b[0m  \u001b[01;35m300771.png\u001b[0m  \u001b[01;35m300956.png\u001b[0m\r\n",
      "\u001b[01;35m300032.png\u001b[0m  \u001b[01;35m300217.png\u001b[0m  \u001b[01;35m300402.png\u001b[0m  \u001b[01;35m300587.png\u001b[0m  \u001b[01;35m300772.png\u001b[0m  \u001b[01;35m300957.png\u001b[0m\r\n",
      "\u001b[01;35m300033.png\u001b[0m  \u001b[01;35m300218.png\u001b[0m  \u001b[01;35m300403.png\u001b[0m  \u001b[01;35m300588.png\u001b[0m  \u001b[01;35m300773.png\u001b[0m  \u001b[01;35m300958.png\u001b[0m\r\n",
      "\u001b[01;35m300034.png\u001b[0m  \u001b[01;35m300219.png\u001b[0m  \u001b[01;35m300404.png\u001b[0m  \u001b[01;35m300589.png\u001b[0m  \u001b[01;35m300774.png\u001b[0m  \u001b[01;35m300959.png\u001b[0m\r\n",
      "\u001b[01;35m300035.png\u001b[0m  \u001b[01;35m300220.png\u001b[0m  \u001b[01;35m300405.png\u001b[0m  \u001b[01;35m300590.png\u001b[0m  \u001b[01;35m300775.png\u001b[0m  \u001b[01;35m300960.png\u001b[0m\r\n",
      "\u001b[01;35m300036.png\u001b[0m  \u001b[01;35m300221.png\u001b[0m  \u001b[01;35m300406.png\u001b[0m  \u001b[01;35m300591.png\u001b[0m  \u001b[01;35m300776.png\u001b[0m  \u001b[01;35m300961.png\u001b[0m\r\n",
      "\u001b[01;35m300037.png\u001b[0m  \u001b[01;35m300222.png\u001b[0m  \u001b[01;35m300407.png\u001b[0m  \u001b[01;35m300592.png\u001b[0m  \u001b[01;35m300777.png\u001b[0m  \u001b[01;35m300962.png\u001b[0m\r\n",
      "\u001b[01;35m300038.png\u001b[0m  \u001b[01;35m300223.png\u001b[0m  \u001b[01;35m300408.png\u001b[0m  \u001b[01;35m300593.png\u001b[0m  \u001b[01;35m300778.png\u001b[0m  \u001b[01;35m300963.png\u001b[0m\r\n",
      "\u001b[01;35m300039.png\u001b[0m  \u001b[01;35m300224.png\u001b[0m  \u001b[01;35m300409.png\u001b[0m  \u001b[01;35m300594.png\u001b[0m  \u001b[01;35m300779.png\u001b[0m  \u001b[01;35m300964.png\u001b[0m\r\n",
      "\u001b[01;35m300040.png\u001b[0m  \u001b[01;35m300225.png\u001b[0m  \u001b[01;35m300410.png\u001b[0m  \u001b[01;35m300595.png\u001b[0m  \u001b[01;35m300780.png\u001b[0m  \u001b[01;35m300965.png\u001b[0m\r\n",
      "\u001b[01;35m300041.png\u001b[0m  \u001b[01;35m300226.png\u001b[0m  \u001b[01;35m300411.png\u001b[0m  \u001b[01;35m300596.png\u001b[0m  \u001b[01;35m300781.png\u001b[0m  \u001b[01;35m300966.png\u001b[0m\r\n",
      "\u001b[01;35m300042.png\u001b[0m  \u001b[01;35m300227.png\u001b[0m  \u001b[01;35m300412.png\u001b[0m  \u001b[01;35m300597.png\u001b[0m  \u001b[01;35m300782.png\u001b[0m  \u001b[01;35m300967.png\u001b[0m\r\n",
      "\u001b[01;35m300043.png\u001b[0m  \u001b[01;35m300228.png\u001b[0m  \u001b[01;35m300413.png\u001b[0m  \u001b[01;35m300598.png\u001b[0m  \u001b[01;35m300783.png\u001b[0m  \u001b[01;35m300968.png\u001b[0m\r\n",
      "\u001b[01;35m300044.png\u001b[0m  \u001b[01;35m300229.png\u001b[0m  \u001b[01;35m300414.png\u001b[0m  \u001b[01;35m300599.png\u001b[0m  \u001b[01;35m300784.png\u001b[0m  \u001b[01;35m300969.png\u001b[0m\r\n",
      "\u001b[01;35m300045.png\u001b[0m  \u001b[01;35m300230.png\u001b[0m  \u001b[01;35m300415.png\u001b[0m  \u001b[01;35m300600.png\u001b[0m  \u001b[01;35m300785.png\u001b[0m  \u001b[01;35m300970.png\u001b[0m\r\n",
      "\u001b[01;35m300046.png\u001b[0m  \u001b[01;35m300231.png\u001b[0m  \u001b[01;35m300416.png\u001b[0m  \u001b[01;35m300601.png\u001b[0m  \u001b[01;35m300786.png\u001b[0m  \u001b[01;35m300971.png\u001b[0m\r\n",
      "\u001b[01;35m300047.png\u001b[0m  \u001b[01;35m300232.png\u001b[0m  \u001b[01;35m300417.png\u001b[0m  \u001b[01;35m300602.png\u001b[0m  \u001b[01;35m300787.png\u001b[0m  \u001b[01;35m300972.png\u001b[0m\r\n",
      "\u001b[01;35m300048.png\u001b[0m  \u001b[01;35m300233.png\u001b[0m  \u001b[01;35m300418.png\u001b[0m  \u001b[01;35m300603.png\u001b[0m  \u001b[01;35m300788.png\u001b[0m  \u001b[01;35m300973.png\u001b[0m\r\n",
      "\u001b[01;35m300049.png\u001b[0m  \u001b[01;35m300234.png\u001b[0m  \u001b[01;35m300419.png\u001b[0m  \u001b[01;35m300604.png\u001b[0m  \u001b[01;35m300789.png\u001b[0m  \u001b[01;35m300974.png\u001b[0m\r\n",
      "\u001b[01;35m300050.png\u001b[0m  \u001b[01;35m300235.png\u001b[0m  \u001b[01;35m300420.png\u001b[0m  \u001b[01;35m300605.png\u001b[0m  \u001b[01;35m300790.png\u001b[0m  \u001b[01;35m300975.png\u001b[0m\r\n",
      "\u001b[01;35m300051.png\u001b[0m  \u001b[01;35m300236.png\u001b[0m  \u001b[01;35m300421.png\u001b[0m  \u001b[01;35m300606.png\u001b[0m  \u001b[01;35m300791.png\u001b[0m  \u001b[01;35m300976.png\u001b[0m\r\n",
      "\u001b[01;35m300052.png\u001b[0m  \u001b[01;35m300237.png\u001b[0m  \u001b[01;35m300422.png\u001b[0m  \u001b[01;35m300607.png\u001b[0m  \u001b[01;35m300792.png\u001b[0m  \u001b[01;35m300977.png\u001b[0m\r\n",
      "\u001b[01;35m300053.png\u001b[0m  \u001b[01;35m300238.png\u001b[0m  \u001b[01;35m300423.png\u001b[0m  \u001b[01;35m300608.png\u001b[0m  \u001b[01;35m300793.png\u001b[0m  \u001b[01;35m300978.png\u001b[0m\r\n",
      "\u001b[01;35m300054.png\u001b[0m  \u001b[01;35m300239.png\u001b[0m  \u001b[01;35m300424.png\u001b[0m  \u001b[01;35m300609.png\u001b[0m  \u001b[01;35m300794.png\u001b[0m  \u001b[01;35m300979.png\u001b[0m\r\n",
      "\u001b[01;35m300055.png\u001b[0m  \u001b[01;35m300240.png\u001b[0m  \u001b[01;35m300425.png\u001b[0m  \u001b[01;35m300610.png\u001b[0m  \u001b[01;35m300795.png\u001b[0m  \u001b[01;35m300980.png\u001b[0m\r\n",
      "\u001b[01;35m300056.png\u001b[0m  \u001b[01;35m300241.png\u001b[0m  \u001b[01;35m300426.png\u001b[0m  \u001b[01;35m300611.png\u001b[0m  \u001b[01;35m300796.png\u001b[0m  \u001b[01;35m300981.png\u001b[0m\r\n",
      "\u001b[01;35m300057.png\u001b[0m  \u001b[01;35m300242.png\u001b[0m  \u001b[01;35m300427.png\u001b[0m  \u001b[01;35m300612.png\u001b[0m  \u001b[01;35m300797.png\u001b[0m  \u001b[01;35m300982.png\u001b[0m\r\n",
      "\u001b[01;35m300058.png\u001b[0m  \u001b[01;35m300243.png\u001b[0m  \u001b[01;35m300428.png\u001b[0m  \u001b[01;35m300613.png\u001b[0m  \u001b[01;35m300798.png\u001b[0m  \u001b[01;35m300983.png\u001b[0m\r\n",
      "\u001b[01;35m300059.png\u001b[0m  \u001b[01;35m300244.png\u001b[0m  \u001b[01;35m300429.png\u001b[0m  \u001b[01;35m300614.png\u001b[0m  \u001b[01;35m300799.png\u001b[0m  \u001b[01;35m300984.png\u001b[0m\r\n",
      "\u001b[01;35m300060.png\u001b[0m  \u001b[01;35m300245.png\u001b[0m  \u001b[01;35m300430.png\u001b[0m  \u001b[01;35m300615.png\u001b[0m  \u001b[01;35m300800.png\u001b[0m  \u001b[01;35m300985.png\u001b[0m\r\n",
      "\u001b[01;35m300061.png\u001b[0m  \u001b[01;35m300246.png\u001b[0m  \u001b[01;35m300431.png\u001b[0m  \u001b[01;35m300616.png\u001b[0m  \u001b[01;35m300801.png\u001b[0m  \u001b[01;35m300986.png\u001b[0m\r\n",
      "\u001b[01;35m300062.png\u001b[0m  \u001b[01;35m300247.png\u001b[0m  \u001b[01;35m300432.png\u001b[0m  \u001b[01;35m300617.png\u001b[0m  \u001b[01;35m300802.png\u001b[0m  \u001b[01;35m300987.png\u001b[0m\r\n",
      "\u001b[01;35m300063.png\u001b[0m  \u001b[01;35m300248.png\u001b[0m  \u001b[01;35m300433.png\u001b[0m  \u001b[01;35m300618.png\u001b[0m  \u001b[01;35m300803.png\u001b[0m  \u001b[01;35m300988.png\u001b[0m\r\n",
      "\u001b[01;35m300064.png\u001b[0m  \u001b[01;35m300249.png\u001b[0m  \u001b[01;35m300434.png\u001b[0m  \u001b[01;35m300619.png\u001b[0m  \u001b[01;35m300804.png\u001b[0m  \u001b[01;35m300989.png\u001b[0m\r\n",
      "\u001b[01;35m300065.png\u001b[0m  \u001b[01;35m300250.png\u001b[0m  \u001b[01;35m300435.png\u001b[0m  \u001b[01;35m300620.png\u001b[0m  \u001b[01;35m300805.png\u001b[0m  \u001b[01;35m300990.png\u001b[0m\r\n",
      "\u001b[01;35m300066.png\u001b[0m  \u001b[01;35m300251.png\u001b[0m  \u001b[01;35m300436.png\u001b[0m  \u001b[01;35m300621.png\u001b[0m  \u001b[01;35m300806.png\u001b[0m  \u001b[01;35m300991.png\u001b[0m\r\n",
      "\u001b[01;35m300067.png\u001b[0m  \u001b[01;35m300252.png\u001b[0m  \u001b[01;35m300437.png\u001b[0m  \u001b[01;35m300622.png\u001b[0m  \u001b[01;35m300807.png\u001b[0m  \u001b[01;35m300992.png\u001b[0m\r\n",
      "\u001b[01;35m300068.png\u001b[0m  \u001b[01;35m300253.png\u001b[0m  \u001b[01;35m300438.png\u001b[0m  \u001b[01;35m300623.png\u001b[0m  \u001b[01;35m300808.png\u001b[0m  \u001b[01;35m300993.png\u001b[0m\r\n",
      "\u001b[01;35m300069.png\u001b[0m  \u001b[01;35m300254.png\u001b[0m  \u001b[01;35m300439.png\u001b[0m  \u001b[01;35m300624.png\u001b[0m  \u001b[01;35m300809.png\u001b[0m  \u001b[01;35m300994.png\u001b[0m\r\n",
      "\u001b[01;35m300070.png\u001b[0m  \u001b[01;35m300255.png\u001b[0m  \u001b[01;35m300440.png\u001b[0m  \u001b[01;35m300625.png\u001b[0m  \u001b[01;35m300810.png\u001b[0m  \u001b[01;35m300995.png\u001b[0m\r\n",
      "\u001b[01;35m300071.png\u001b[0m  \u001b[01;35m300256.png\u001b[0m  \u001b[01;35m300441.png\u001b[0m  \u001b[01;35m300626.png\u001b[0m  \u001b[01;35m300811.png\u001b[0m  \u001b[01;35m300996.png\u001b[0m\r\n",
      "\u001b[01;35m300072.png\u001b[0m  \u001b[01;35m300257.png\u001b[0m  \u001b[01;35m300442.png\u001b[0m  \u001b[01;35m300627.png\u001b[0m  \u001b[01;35m300812.png\u001b[0m  \u001b[01;35m300997.png\u001b[0m\r\n",
      "\u001b[01;35m300073.png\u001b[0m  \u001b[01;35m300258.png\u001b[0m  \u001b[01;35m300443.png\u001b[0m  \u001b[01;35m300628.png\u001b[0m  \u001b[01;35m300813.png\u001b[0m  \u001b[01;35m300998.png\u001b[0m\r\n",
      "\u001b[01;35m300074.png\u001b[0m  \u001b[01;35m300259.png\u001b[0m  \u001b[01;35m300444.png\u001b[0m  \u001b[01;35m300629.png\u001b[0m  \u001b[01;35m300814.png\u001b[0m  \u001b[01;35m300999.png\u001b[0m\r\n",
      "\u001b[01;35m300075.png\u001b[0m  \u001b[01;35m300260.png\u001b[0m  \u001b[01;35m300445.png\u001b[0m  \u001b[01;35m300630.png\u001b[0m  \u001b[01;35m300815.png\u001b[0m  \u001b[01;35m500.png\u001b[0m\r\n",
      "\u001b[01;35m300076.png\u001b[0m  \u001b[01;35m300261.png\u001b[0m  \u001b[01;35m300446.png\u001b[0m  \u001b[01;35m300631.png\u001b[0m  \u001b[01;35m300816.png\u001b[0m  \u001b[01;35m501.png\u001b[0m\r\n",
      "\u001b[01;35m300077.png\u001b[0m  \u001b[01;35m300262.png\u001b[0m  \u001b[01;35m300447.png\u001b[0m  \u001b[01;35m300632.png\u001b[0m  \u001b[01;35m300817.png\u001b[0m  \u001b[01;35m502.png\u001b[0m\r\n",
      "\u001b[01;35m300078.png\u001b[0m  \u001b[01;35m300263.png\u001b[0m  \u001b[01;35m300448.png\u001b[0m  \u001b[01;35m300633.png\u001b[0m  \u001b[01;35m300818.png\u001b[0m  \u001b[01;35m503.png\u001b[0m\r\n",
      "\u001b[01;35m300079.png\u001b[0m  \u001b[01;35m300264.png\u001b[0m  \u001b[01;35m300449.png\u001b[0m  \u001b[01;35m300634.png\u001b[0m  \u001b[01;35m300819.png\u001b[0m  \u001b[01;35m504.png\u001b[0m\r\n",
      "\u001b[01;35m300080.png\u001b[0m  \u001b[01;35m300265.png\u001b[0m  \u001b[01;35m300450.png\u001b[0m  \u001b[01;35m300635.png\u001b[0m  \u001b[01;35m300820.png\u001b[0m  \u001b[01;35m505.png\u001b[0m\r\n",
      "\u001b[01;35m300081.png\u001b[0m  \u001b[01;35m300266.png\u001b[0m  \u001b[01;35m300451.png\u001b[0m  \u001b[01;35m300636.png\u001b[0m  \u001b[01;35m300821.png\u001b[0m  \u001b[01;35m506.png\u001b[0m\r\n",
      "\u001b[01;35m300082.png\u001b[0m  \u001b[01;35m300267.png\u001b[0m  \u001b[01;35m300452.png\u001b[0m  \u001b[01;35m300637.png\u001b[0m  \u001b[01;35m300822.png\u001b[0m  \u001b[01;35m507.png\u001b[0m\r\n",
      "\u001b[01;35m300083.png\u001b[0m  \u001b[01;35m300268.png\u001b[0m  \u001b[01;35m300453.png\u001b[0m  \u001b[01;35m300638.png\u001b[0m  \u001b[01;35m300823.png\u001b[0m  \u001b[01;35m508.png\u001b[0m\r\n",
      "\u001b[01;35m300084.png\u001b[0m  \u001b[01;35m300269.png\u001b[0m  \u001b[01;35m300454.png\u001b[0m  \u001b[01;35m300639.png\u001b[0m  \u001b[01;35m300824.png\u001b[0m  \u001b[01;35m509.png\u001b[0m\r\n",
      "\u001b[01;35m300085.png\u001b[0m  \u001b[01;35m300270.png\u001b[0m  \u001b[01;35m300455.png\u001b[0m  \u001b[01;35m300640.png\u001b[0m  \u001b[01;35m300825.png\u001b[0m  \u001b[01;35m50.png\u001b[0m\r\n",
      "\u001b[01;35m300086.png\u001b[0m  \u001b[01;35m300271.png\u001b[0m  \u001b[01;35m300456.png\u001b[0m  \u001b[01;35m300641.png\u001b[0m  \u001b[01;35m300826.png\u001b[0m  \u001b[01;35m510.png\u001b[0m\r\n",
      "\u001b[01;35m300087.png\u001b[0m  \u001b[01;35m300272.png\u001b[0m  \u001b[01;35m300457.png\u001b[0m  \u001b[01;35m300642.png\u001b[0m  \u001b[01;35m300827.png\u001b[0m  \u001b[01;35m511.png\u001b[0m\r\n",
      "\u001b[01;35m300088.png\u001b[0m  \u001b[01;35m300273.png\u001b[0m  \u001b[01;35m300458.png\u001b[0m  \u001b[01;35m300643.png\u001b[0m  \u001b[01;35m300828.png\u001b[0m  \u001b[01;35m512.png\u001b[0m\r\n",
      "\u001b[01;35m300089.png\u001b[0m  \u001b[01;35m300274.png\u001b[0m  \u001b[01;35m300459.png\u001b[0m  \u001b[01;35m300644.png\u001b[0m  \u001b[01;35m300829.png\u001b[0m  \u001b[01;35m513.png\u001b[0m\r\n",
      "\u001b[01;35m300090.png\u001b[0m  \u001b[01;35m300275.png\u001b[0m  \u001b[01;35m300460.png\u001b[0m  \u001b[01;35m300645.png\u001b[0m  \u001b[01;35m300830.png\u001b[0m  \u001b[01;35m514.png\u001b[0m\r\n",
      "\u001b[01;35m300091.png\u001b[0m  \u001b[01;35m300276.png\u001b[0m  \u001b[01;35m300461.png\u001b[0m  \u001b[01;35m300646.png\u001b[0m  \u001b[01;35m300831.png\u001b[0m  \u001b[01;35m515.png\u001b[0m\r\n",
      "\u001b[01;35m300092.png\u001b[0m  \u001b[01;35m300277.png\u001b[0m  \u001b[01;35m300462.png\u001b[0m  \u001b[01;35m300647.png\u001b[0m  \u001b[01;35m300832.png\u001b[0m  \u001b[01;35m516.png\u001b[0m\r\n",
      "\u001b[01;35m300093.png\u001b[0m  \u001b[01;35m300278.png\u001b[0m  \u001b[01;35m300463.png\u001b[0m  \u001b[01;35m300648.png\u001b[0m  \u001b[01;35m300833.png\u001b[0m  \u001b[01;35m517.png\u001b[0m\r\n",
      "\u001b[01;35m300094.png\u001b[0m  \u001b[01;35m300279.png\u001b[0m  \u001b[01;35m300464.png\u001b[0m  \u001b[01;35m300649.png\u001b[0m  \u001b[01;35m300834.png\u001b[0m  \u001b[01;35m518.png\u001b[0m\r\n",
      "\u001b[01;35m300095.png\u001b[0m  \u001b[01;35m300280.png\u001b[0m  \u001b[01;35m300465.png\u001b[0m  \u001b[01;35m300650.png\u001b[0m  \u001b[01;35m300835.png\u001b[0m  \u001b[01;35m519.png\u001b[0m\r\n",
      "\u001b[01;35m300096.png\u001b[0m  \u001b[01;35m300281.png\u001b[0m  \u001b[01;35m300466.png\u001b[0m  \u001b[01;35m300651.png\u001b[0m  \u001b[01;35m300836.png\u001b[0m  \u001b[01;35m51.png\u001b[0m\r\n",
      "\u001b[01;35m300097.png\u001b[0m  \u001b[01;35m300282.png\u001b[0m  \u001b[01;35m300467.png\u001b[0m  \u001b[01;35m300652.png\u001b[0m  \u001b[01;35m300837.png\u001b[0m  \u001b[01;35m520.png\u001b[0m\r\n",
      "\u001b[01;35m300098.png\u001b[0m  \u001b[01;35m300283.png\u001b[0m  \u001b[01;35m300468.png\u001b[0m  \u001b[01;35m300653.png\u001b[0m  \u001b[01;35m300838.png\u001b[0m  \u001b[01;35m521.png\u001b[0m\r\n",
      "\u001b[01;35m300099.png\u001b[0m  \u001b[01;35m300284.png\u001b[0m  \u001b[01;35m300469.png\u001b[0m  \u001b[01;35m300654.png\u001b[0m  \u001b[01;35m300839.png\u001b[0m  \u001b[01;35m522.png\u001b[0m\r\n",
      "\u001b[01;35m300100.png\u001b[0m  \u001b[01;35m300285.png\u001b[0m  \u001b[01;35m300470.png\u001b[0m  \u001b[01;35m300655.png\u001b[0m  \u001b[01;35m300840.png\u001b[0m  \u001b[01;35m523.png\u001b[0m\r\n",
      "\u001b[01;35m300101.png\u001b[0m  \u001b[01;35m300286.png\u001b[0m  \u001b[01;35m300471.png\u001b[0m  \u001b[01;35m300656.png\u001b[0m  \u001b[01;35m300841.png\u001b[0m  \u001b[01;35m524.png\u001b[0m\r\n",
      "\u001b[01;35m300102.png\u001b[0m  \u001b[01;35m300287.png\u001b[0m  \u001b[01;35m300472.png\u001b[0m  \u001b[01;35m300657.png\u001b[0m  \u001b[01;35m300842.png\u001b[0m  \u001b[01;35m525.png\u001b[0m\r\n",
      "\u001b[01;35m300103.png\u001b[0m  \u001b[01;35m300288.png\u001b[0m  \u001b[01;35m300473.png\u001b[0m  \u001b[01;35m300658.png\u001b[0m  \u001b[01;35m300843.png\u001b[0m  \u001b[01;35m526.png\u001b[0m\r\n",
      "\u001b[01;35m300104.png\u001b[0m  \u001b[01;35m300289.png\u001b[0m  \u001b[01;35m300474.png\u001b[0m  \u001b[01;35m300659.png\u001b[0m  \u001b[01;35m300844.png\u001b[0m  \u001b[01;35m527.png\u001b[0m\r\n",
      "\u001b[01;35m300105.png\u001b[0m  \u001b[01;35m300290.png\u001b[0m  \u001b[01;35m300475.png\u001b[0m  \u001b[01;35m300660.png\u001b[0m  \u001b[01;35m300845.png\u001b[0m  \u001b[01;35m528.png\u001b[0m\r\n",
      "\u001b[01;35m300106.png\u001b[0m  \u001b[01;35m300291.png\u001b[0m  \u001b[01;35m300476.png\u001b[0m  \u001b[01;35m300661.png\u001b[0m  \u001b[01;35m300846.png\u001b[0m  \u001b[01;35m529.png\u001b[0m\r\n",
      "\u001b[01;35m300107.png\u001b[0m  \u001b[01;35m300292.png\u001b[0m  \u001b[01;35m300477.png\u001b[0m  \u001b[01;35m300662.png\u001b[0m  \u001b[01;35m300847.png\u001b[0m  \u001b[01;35m52.png\u001b[0m\r\n",
      "\u001b[01;35m300108.png\u001b[0m  \u001b[01;35m300293.png\u001b[0m  \u001b[01;35m300478.png\u001b[0m  \u001b[01;35m300663.png\u001b[0m  \u001b[01;35m300848.png\u001b[0m  \u001b[01;35m530.png\u001b[0m\r\n",
      "\u001b[01;35m300109.png\u001b[0m  \u001b[01;35m300294.png\u001b[0m  \u001b[01;35m300479.png\u001b[0m  \u001b[01;35m300664.png\u001b[0m  \u001b[01;35m300849.png\u001b[0m  \u001b[01;35m531.png\u001b[0m\r\n",
      "\u001b[01;35m300110.png\u001b[0m  \u001b[01;35m300295.png\u001b[0m  \u001b[01;35m300480.png\u001b[0m  \u001b[01;35m300665.png\u001b[0m  \u001b[01;35m300850.png\u001b[0m  \u001b[01;35m532.png\u001b[0m\r\n",
      "\u001b[01;35m300111.png\u001b[0m  \u001b[01;35m300296.png\u001b[0m  \u001b[01;35m300481.png\u001b[0m  \u001b[01;35m300666.png\u001b[0m  \u001b[01;35m300851.png\u001b[0m  \u001b[01;35m533.png\u001b[0m\r\n",
      "\u001b[01;35m300112.png\u001b[0m  \u001b[01;35m300297.png\u001b[0m  \u001b[01;35m300482.png\u001b[0m  \u001b[01;35m300667.png\u001b[0m  \u001b[01;35m300852.png\u001b[0m  \u001b[01;35m534.png\u001b[0m\r\n",
      "\u001b[01;35m300113.png\u001b[0m  \u001b[01;35m300298.png\u001b[0m  \u001b[01;35m300483.png\u001b[0m  \u001b[01;35m300668.png\u001b[0m  \u001b[01;35m300853.png\u001b[0m  \u001b[01;35m535.png\u001b[0m\r\n",
      "\u001b[01;35m300114.png\u001b[0m  \u001b[01;35m300299.png\u001b[0m  \u001b[01;35m300484.png\u001b[0m  \u001b[01;35m300669.png\u001b[0m  \u001b[01;35m300854.png\u001b[0m  \u001b[01;35m536.png\u001b[0m\r\n",
      "\u001b[01;35m300115.png\u001b[0m  \u001b[01;35m300300.png\u001b[0m  \u001b[01;35m300485.png\u001b[0m  \u001b[01;35m300670.png\u001b[0m  \u001b[01;35m300855.png\u001b[0m  \u001b[01;35m537.png\u001b[0m\r\n",
      "\u001b[01;35m300116.png\u001b[0m  \u001b[01;35m300301.png\u001b[0m  \u001b[01;35m300486.png\u001b[0m  \u001b[01;35m300671.png\u001b[0m  \u001b[01;35m300856.png\u001b[0m  \u001b[01;35m538.png\u001b[0m\r\n",
      "\u001b[01;35m300117.png\u001b[0m  \u001b[01;35m300302.png\u001b[0m  \u001b[01;35m300487.png\u001b[0m  \u001b[01;35m300672.png\u001b[0m  \u001b[01;35m300857.png\u001b[0m  \u001b[01;35m539.png\u001b[0m\r\n",
      "\u001b[01;35m300118.png\u001b[0m  \u001b[01;35m300303.png\u001b[0m  \u001b[01;35m300488.png\u001b[0m  \u001b[01;35m300673.png\u001b[0m  \u001b[01;35m300858.png\u001b[0m  \u001b[01;35m53.png\u001b[0m\r\n",
      "\u001b[01;35m300119.png\u001b[0m  \u001b[01;35m300304.png\u001b[0m  \u001b[01;35m300489.png\u001b[0m  \u001b[01;35m300674.png\u001b[0m  \u001b[01;35m300859.png\u001b[0m  \u001b[01;35m540.png\u001b[0m\r\n",
      "\u001b[01;35m300120.png\u001b[0m  \u001b[01;35m300305.png\u001b[0m  \u001b[01;35m300490.png\u001b[0m  \u001b[01;35m300675.png\u001b[0m  \u001b[01;35m300860.png\u001b[0m  \u001b[01;35m541.png\u001b[0m\r\n",
      "\u001b[01;35m300121.png\u001b[0m  \u001b[01;35m300306.png\u001b[0m  \u001b[01;35m300491.png\u001b[0m  \u001b[01;35m300676.png\u001b[0m  \u001b[01;35m300861.png\u001b[0m  \u001b[01;35m542.png\u001b[0m\r\n",
      "\u001b[01;35m300122.png\u001b[0m  \u001b[01;35m300307.png\u001b[0m  \u001b[01;35m300492.png\u001b[0m  \u001b[01;35m300677.png\u001b[0m  \u001b[01;35m300862.png\u001b[0m  \u001b[01;35m543.png\u001b[0m\r\n",
      "\u001b[01;35m300123.png\u001b[0m  \u001b[01;35m300308.png\u001b[0m  \u001b[01;35m300493.png\u001b[0m  \u001b[01;35m300678.png\u001b[0m  \u001b[01;35m300863.png\u001b[0m  \u001b[01;35m544.png\u001b[0m\r\n",
      "\u001b[01;35m300124.png\u001b[0m  \u001b[01;35m300309.png\u001b[0m  \u001b[01;35m300494.png\u001b[0m  \u001b[01;35m300679.png\u001b[0m  \u001b[01;35m300864.png\u001b[0m  \u001b[01;35m545.png\u001b[0m\r\n",
      "\u001b[01;35m300125.png\u001b[0m  \u001b[01;35m300310.png\u001b[0m  \u001b[01;35m300495.png\u001b[0m  \u001b[01;35m300680.png\u001b[0m  \u001b[01;35m300865.png\u001b[0m  \u001b[01;35m546.png\u001b[0m\r\n",
      "\u001b[01;35m300126.png\u001b[0m  \u001b[01;35m300311.png\u001b[0m  \u001b[01;35m300496.png\u001b[0m  \u001b[01;35m300681.png\u001b[0m  \u001b[01;35m300866.png\u001b[0m  \u001b[01;35m547.png\u001b[0m\r\n",
      "\u001b[01;35m300127.png\u001b[0m  \u001b[01;35m300312.png\u001b[0m  \u001b[01;35m300497.png\u001b[0m  \u001b[01;35m300682.png\u001b[0m  \u001b[01;35m300867.png\u001b[0m  \u001b[01;35m548.png\u001b[0m\r\n",
      "\u001b[01;35m300128.png\u001b[0m  \u001b[01;35m300313.png\u001b[0m  \u001b[01;35m300498.png\u001b[0m  \u001b[01;35m300683.png\u001b[0m  \u001b[01;35m300868.png\u001b[0m  \u001b[01;35m549.png\u001b[0m\r\n",
      "\u001b[01;35m300129.png\u001b[0m  \u001b[01;35m300314.png\u001b[0m  \u001b[01;35m300499.png\u001b[0m  \u001b[01;35m300684.png\u001b[0m  \u001b[01;35m300869.png\u001b[0m  \u001b[01;35m54.png\u001b[0m\r\n",
      "\u001b[01;35m300130.png\u001b[0m  \u001b[01;35m300315.png\u001b[0m  \u001b[01;35m300500.png\u001b[0m  \u001b[01;35m300685.png\u001b[0m  \u001b[01;35m300870.png\u001b[0m  \u001b[01;35m550.png\u001b[0m\r\n",
      "\u001b[01;35m300131.png\u001b[0m  \u001b[01;35m300316.png\u001b[0m  \u001b[01;35m300501.png\u001b[0m  \u001b[01;35m300686.png\u001b[0m  \u001b[01;35m300871.png\u001b[0m  \u001b[01;35m551.png\u001b[0m\r\n",
      "\u001b[01;35m300132.png\u001b[0m  \u001b[01;35m300317.png\u001b[0m  \u001b[01;35m300502.png\u001b[0m  \u001b[01;35m300687.png\u001b[0m  \u001b[01;35m300872.png\u001b[0m  \u001b[01;35m552.png\u001b[0m\r\n",
      "\u001b[01;35m300133.png\u001b[0m  \u001b[01;35m300318.png\u001b[0m  \u001b[01;35m300503.png\u001b[0m  \u001b[01;35m300688.png\u001b[0m  \u001b[01;35m300873.png\u001b[0m  \u001b[01;35m553.png\u001b[0m\r\n",
      "\u001b[01;35m300134.png\u001b[0m  \u001b[01;35m300319.png\u001b[0m  \u001b[01;35m300504.png\u001b[0m  \u001b[01;35m300689.png\u001b[0m  \u001b[01;35m300874.png\u001b[0m  \u001b[01;35m554.png\u001b[0m\r\n",
      "\u001b[01;35m300135.png\u001b[0m  \u001b[01;35m300320.png\u001b[0m  \u001b[01;35m300505.png\u001b[0m  \u001b[01;35m300690.png\u001b[0m  \u001b[01;35m300875.png\u001b[0m  \u001b[01;35m555.png\u001b[0m\r\n",
      "\u001b[01;35m300136.png\u001b[0m  \u001b[01;35m300321.png\u001b[0m  \u001b[01;35m300506.png\u001b[0m  \u001b[01;35m300691.png\u001b[0m  \u001b[01;35m300876.png\u001b[0m  \u001b[01;35m556.png\u001b[0m\r\n",
      "\u001b[01;35m300137.png\u001b[0m  \u001b[01;35m300322.png\u001b[0m  \u001b[01;35m300507.png\u001b[0m  \u001b[01;35m300692.png\u001b[0m  \u001b[01;35m300877.png\u001b[0m  \u001b[01;35m557.png\u001b[0m\r\n",
      "\u001b[01;35m300138.png\u001b[0m  \u001b[01;35m300323.png\u001b[0m  \u001b[01;35m300508.png\u001b[0m  \u001b[01;35m300693.png\u001b[0m  \u001b[01;35m300878.png\u001b[0m  \u001b[01;35m558.png\u001b[0m\r\n",
      "\u001b[01;35m300139.png\u001b[0m  \u001b[01;35m300324.png\u001b[0m  \u001b[01;35m300509.png\u001b[0m  \u001b[01;35m300694.png\u001b[0m  \u001b[01;35m300879.png\u001b[0m  \u001b[01;35m559.png\u001b[0m\r\n",
      "\u001b[01;35m300140.png\u001b[0m  \u001b[01;35m300325.png\u001b[0m  \u001b[01;35m300510.png\u001b[0m  \u001b[01;35m300695.png\u001b[0m  \u001b[01;35m300880.png\u001b[0m  \u001b[01;35m55.png\u001b[0m\r\n",
      "\u001b[01;35m300141.png\u001b[0m  \u001b[01;35m300326.png\u001b[0m  \u001b[01;35m300511.png\u001b[0m  \u001b[01;35m300696.png\u001b[0m  \u001b[01;35m300881.png\u001b[0m  \u001b[01;35m560.png\u001b[0m\r\n",
      "\u001b[01;35m300142.png\u001b[0m  \u001b[01;35m300327.png\u001b[0m  \u001b[01;35m300512.png\u001b[0m  \u001b[01;35m300697.png\u001b[0m  \u001b[01;35m300882.png\u001b[0m  \u001b[01;35m561.png\u001b[0m\r\n",
      "\u001b[01;35m300143.png\u001b[0m  \u001b[01;35m300328.png\u001b[0m  \u001b[01;35m300513.png\u001b[0m  \u001b[01;35m300698.png\u001b[0m  \u001b[01;35m300883.png\u001b[0m  \u001b[01;35m562.png\u001b[0m\r\n",
      "\u001b[01;35m300144.png\u001b[0m  \u001b[01;35m300329.png\u001b[0m  \u001b[01;35m300514.png\u001b[0m  \u001b[01;35m300699.png\u001b[0m  \u001b[01;35m300884.png\u001b[0m  \u001b[01;35m563.png\u001b[0m\r\n",
      "\u001b[01;35m300145.png\u001b[0m  \u001b[01;35m300330.png\u001b[0m  \u001b[01;35m300515.png\u001b[0m  \u001b[01;35m300700.png\u001b[0m  \u001b[01;35m300885.png\u001b[0m  \u001b[01;35m564.png\u001b[0m\r\n",
      "\u001b[01;35m300146.png\u001b[0m  \u001b[01;35m300331.png\u001b[0m  \u001b[01;35m300516.png\u001b[0m  \u001b[01;35m300701.png\u001b[0m  \u001b[01;35m300886.png\u001b[0m  \u001b[01;35m565.png\u001b[0m\r\n",
      "\u001b[01;35m300147.png\u001b[0m  \u001b[01;35m300332.png\u001b[0m  \u001b[01;35m300517.png\u001b[0m  \u001b[01;35m300702.png\u001b[0m  \u001b[01;35m300887.png\u001b[0m  \u001b[01;35m566.png\u001b[0m\r\n",
      "\u001b[01;35m300148.png\u001b[0m  \u001b[01;35m300333.png\u001b[0m  \u001b[01;35m300518.png\u001b[0m  \u001b[01;35m300703.png\u001b[0m  \u001b[01;35m300888.png\u001b[0m  \u001b[01;35m567.png\u001b[0m\r\n",
      "\u001b[01;35m300149.png\u001b[0m  \u001b[01;35m300334.png\u001b[0m  \u001b[01;35m300519.png\u001b[0m  \u001b[01;35m300704.png\u001b[0m  \u001b[01;35m300889.png\u001b[0m  \u001b[01;35m568.png\u001b[0m\r\n",
      "\u001b[01;35m300150.png\u001b[0m  \u001b[01;35m300335.png\u001b[0m  \u001b[01;35m300520.png\u001b[0m  \u001b[01;35m300705.png\u001b[0m  \u001b[01;35m300890.png\u001b[0m  \u001b[01;35m569.png\u001b[0m\r\n",
      "\u001b[01;35m300151.png\u001b[0m  \u001b[01;35m300336.png\u001b[0m  \u001b[01;35m300521.png\u001b[0m  \u001b[01;35m300706.png\u001b[0m  \u001b[01;35m300891.png\u001b[0m  \u001b[01;35m56.png\u001b[0m\r\n",
      "\u001b[01;35m300152.png\u001b[0m  \u001b[01;35m300337.png\u001b[0m  \u001b[01;35m300522.png\u001b[0m  \u001b[01;35m300707.png\u001b[0m  \u001b[01;35m300892.png\u001b[0m  \u001b[01;35m570.png\u001b[0m\r\n",
      "\u001b[01;35m300153.png\u001b[0m  \u001b[01;35m300338.png\u001b[0m  \u001b[01;35m300523.png\u001b[0m  \u001b[01;35m300708.png\u001b[0m  \u001b[01;35m300893.png\u001b[0m  \u001b[01;35m571.png\u001b[0m\r\n",
      "\u001b[01;35m300154.png\u001b[0m  \u001b[01;35m300339.png\u001b[0m  \u001b[01;35m300524.png\u001b[0m  \u001b[01;35m300709.png\u001b[0m  \u001b[01;35m300894.png\u001b[0m  \u001b[01;35m572.png\u001b[0m\r\n",
      "\u001b[01;35m300155.png\u001b[0m  \u001b[01;35m300340.png\u001b[0m  \u001b[01;35m300525.png\u001b[0m  \u001b[01;35m300710.png\u001b[0m  \u001b[01;35m300895.png\u001b[0m  \u001b[01;35m573.png\u001b[0m\r\n",
      "\u001b[01;35m300156.png\u001b[0m  \u001b[01;35m300341.png\u001b[0m  \u001b[01;35m300526.png\u001b[0m  \u001b[01;35m300711.png\u001b[0m  \u001b[01;35m300896.png\u001b[0m  \u001b[01;35m574.png\u001b[0m\r\n",
      "\u001b[01;35m300157.png\u001b[0m  \u001b[01;35m300342.png\u001b[0m  \u001b[01;35m300527.png\u001b[0m  \u001b[01;35m300712.png\u001b[0m  \u001b[01;35m300897.png\u001b[0m  \u001b[01;35m575.png\u001b[0m\r\n",
      "\u001b[01;35m300158.png\u001b[0m  \u001b[01;35m300343.png\u001b[0m  \u001b[01;35m300528.png\u001b[0m  \u001b[01;35m300713.png\u001b[0m  \u001b[01;35m300898.png\u001b[0m  \u001b[01;35m576.png\u001b[0m\r\n",
      "\u001b[01;35m300159.png\u001b[0m  \u001b[01;35m300344.png\u001b[0m  \u001b[01;35m300529.png\u001b[0m  \u001b[01;35m300714.png\u001b[0m  \u001b[01;35m300899.png\u001b[0m  \u001b[01;35m577.png\u001b[0m\r\n",
      "\u001b[01;35m300160.png\u001b[0m  \u001b[01;35m300345.png\u001b[0m  \u001b[01;35m300530.png\u001b[0m  \u001b[01;35m300715.png\u001b[0m  \u001b[01;35m300900.png\u001b[0m  \u001b[01;35m578.png\u001b[0m\r\n",
      "\u001b[01;35m300161.png\u001b[0m  \u001b[01;35m300346.png\u001b[0m  \u001b[01;35m300531.png\u001b[0m  \u001b[01;35m300716.png\u001b[0m  \u001b[01;35m300901.png\u001b[0m  \u001b[01;35m579.png\u001b[0m\r\n",
      "\u001b[01;35m300162.png\u001b[0m  \u001b[01;35m300347.png\u001b[0m  \u001b[01;35m300532.png\u001b[0m  \u001b[01;35m300717.png\u001b[0m  \u001b[01;35m300902.png\u001b[0m  \u001b[01;35m57.png\u001b[0m\r\n",
      "\u001b[01;35m300163.png\u001b[0m  \u001b[01;35m300348.png\u001b[0m  \u001b[01;35m300533.png\u001b[0m  \u001b[01;35m300718.png\u001b[0m  \u001b[01;35m300903.png\u001b[0m  \u001b[01;35m580.png\u001b[0m\r\n",
      "\u001b[01;35m300164.png\u001b[0m  \u001b[01;35m300349.png\u001b[0m  \u001b[01;35m300534.png\u001b[0m  \u001b[01;35m300719.png\u001b[0m  \u001b[01;35m300904.png\u001b[0m  \u001b[01;35m581.png\u001b[0m\r\n",
      "\u001b[01;35m300165.png\u001b[0m  \u001b[01;35m300350.png\u001b[0m  \u001b[01;35m300535.png\u001b[0m  \u001b[01;35m300720.png\u001b[0m  \u001b[01;35m300905.png\u001b[0m  \u001b[01;35m582.png\u001b[0m\r\n",
      "\u001b[01;35m300166.png\u001b[0m  \u001b[01;35m300351.png\u001b[0m  \u001b[01;35m300536.png\u001b[0m  \u001b[01;35m300721.png\u001b[0m  \u001b[01;35m300906.png\u001b[0m  \u001b[01;35m583.png\u001b[0m\r\n",
      "\u001b[01;35m300167.png\u001b[0m  \u001b[01;35m300352.png\u001b[0m  \u001b[01;35m300537.png\u001b[0m  \u001b[01;35m300722.png\u001b[0m  \u001b[01;35m300907.png\u001b[0m  \u001b[01;35m584.png\u001b[0m\r\n",
      "\u001b[01;35m300168.png\u001b[0m  \u001b[01;35m300353.png\u001b[0m  \u001b[01;35m300538.png\u001b[0m  \u001b[01;35m300723.png\u001b[0m  \u001b[01;35m300908.png\u001b[0m  \u001b[01;35m585.png\u001b[0m\r\n",
      "\u001b[01;35m300169.png\u001b[0m  \u001b[01;35m300354.png\u001b[0m  \u001b[01;35m300539.png\u001b[0m  \u001b[01;35m300724.png\u001b[0m  \u001b[01;35m300909.png\u001b[0m  \u001b[01;35m586.png\u001b[0m\r\n",
      "\u001b[01;35m300170.png\u001b[0m  \u001b[01;35m300355.png\u001b[0m  \u001b[01;35m300540.png\u001b[0m  \u001b[01;35m300725.png\u001b[0m  \u001b[01;35m300910.png\u001b[0m  \u001b[01;35m587.png\u001b[0m\r\n",
      "\u001b[01;35m300171.png\u001b[0m  \u001b[01;35m300356.png\u001b[0m  \u001b[01;35m300541.png\u001b[0m  \u001b[01;35m300726.png\u001b[0m  \u001b[01;35m300911.png\u001b[0m  \u001b[01;35m588.png\u001b[0m\r\n",
      "\u001b[01;35m300172.png\u001b[0m  \u001b[01;35m300357.png\u001b[0m  \u001b[01;35m300542.png\u001b[0m  \u001b[01;35m300727.png\u001b[0m  \u001b[01;35m300912.png\u001b[0m  \u001b[01;35m589.png\u001b[0m\r\n",
      "\u001b[01;35m300173.png\u001b[0m  \u001b[01;35m300358.png\u001b[0m  \u001b[01;35m300543.png\u001b[0m  \u001b[01;35m300728.png\u001b[0m  \u001b[01;35m300913.png\u001b[0m  \u001b[01;35m58.png\u001b[0m\r\n",
      "\u001b[01;35m300174.png\u001b[0m  \u001b[01;35m300359.png\u001b[0m  \u001b[01;35m300544.png\u001b[0m  \u001b[01;35m300729.png\u001b[0m  \u001b[01;35m300914.png\u001b[0m  \u001b[01;35m590.png\u001b[0m\r\n",
      "\u001b[01;35m300175.png\u001b[0m  \u001b[01;35m300360.png\u001b[0m  \u001b[01;35m300545.png\u001b[0m  \u001b[01;35m300730.png\u001b[0m  \u001b[01;35m300915.png\u001b[0m  \u001b[01;35m591.png\u001b[0m\r\n",
      "\u001b[01;35m300176.png\u001b[0m  \u001b[01;35m300361.png\u001b[0m  \u001b[01;35m300546.png\u001b[0m  \u001b[01;35m300731.png\u001b[0m  \u001b[01;35m300916.png\u001b[0m  \u001b[01;35m592.png\u001b[0m\r\n",
      "\u001b[01;35m300177.png\u001b[0m  \u001b[01;35m300362.png\u001b[0m  \u001b[01;35m300547.png\u001b[0m  \u001b[01;35m300732.png\u001b[0m  \u001b[01;35m300917.png\u001b[0m  \u001b[01;35m593.png\u001b[0m\r\n",
      "\u001b[01;35m300178.png\u001b[0m  \u001b[01;35m300363.png\u001b[0m  \u001b[01;35m300548.png\u001b[0m  \u001b[01;35m300733.png\u001b[0m  \u001b[01;35m300918.png\u001b[0m  \u001b[01;35m594.png\u001b[0m\r\n",
      "\u001b[01;35m300179.png\u001b[0m  \u001b[01;35m300364.png\u001b[0m  \u001b[01;35m300549.png\u001b[0m  \u001b[01;35m300734.png\u001b[0m  \u001b[01;35m300919.png\u001b[0m  \u001b[01;35m595.png\u001b[0m\r\n",
      "\u001b[01;35m300180.png\u001b[0m  \u001b[01;35m300365.png\u001b[0m  \u001b[01;35m300550.png\u001b[0m  \u001b[01;35m300735.png\u001b[0m  \u001b[01;35m300920.png\u001b[0m  \u001b[01;35m596.png\u001b[0m\r\n",
      "\u001b[01;35m300181.png\u001b[0m  \u001b[01;35m300366.png\u001b[0m  \u001b[01;35m300551.png\u001b[0m  \u001b[01;35m300736.png\u001b[0m  \u001b[01;35m300921.png\u001b[0m  \u001b[01;35m597.png\u001b[0m\r\n",
      "\u001b[01;35m300182.png\u001b[0m  \u001b[01;35m300367.png\u001b[0m  \u001b[01;35m300552.png\u001b[0m  \u001b[01;35m300737.png\u001b[0m  \u001b[01;35m300922.png\u001b[0m  \u001b[01;35m598.png\u001b[0m\r\n",
      "\u001b[01;35m300183.png\u001b[0m  \u001b[01;35m300368.png\u001b[0m  \u001b[01;35m300553.png\u001b[0m  \u001b[01;35m300738.png\u001b[0m  \u001b[01;35m300923.png\u001b[0m  \u001b[01;35m599.png\u001b[0m\r\n",
      "\u001b[01;35m300184.png\u001b[0m  \u001b[01;35m300369.png\u001b[0m  \u001b[01;35m300554.png\u001b[0m  \u001b[01;35m300739.png\u001b[0m  \u001b[01;35m300924.png\u001b[0m  \u001b[01;35m59.png\u001b[0m\r\n"
     ]
    }
   ],
   "source": [
    "ls \"/home/apsisdev/IMPORTANT/BanglaSynthShort/test/imgs\""
   ]
  },
  {
   "cell_type": "code",
   "execution_count": null,
   "id": "a6f6f91f",
   "metadata": {},
   "outputs": [],
   "source": []
  }
 ],
 "metadata": {
  "kernelspec": {
   "display_name": "bangla",
   "language": "python",
   "name": "bangla"
  },
  "language_info": {
   "codemirror_mode": {
    "name": "ipython",
    "version": 3
   },
   "file_extension": ".py",
   "mimetype": "text/x-python",
   "name": "python",
   "nbconvert_exporter": "python",
   "pygments_lexer": "ipython3",
   "version": "3.8.5"
  }
 },
 "nbformat": 4,
 "nbformat_minor": 5
}
