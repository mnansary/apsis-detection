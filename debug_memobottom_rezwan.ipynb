{
 "cells": [
  {
   "cell_type": "code",
   "execution_count": 1,
   "id": "50c5826c",
   "metadata": {
    "scrolled": true
   },
   "outputs": [
    {
     "name": "stdout",
     "output_type": "stream",
     "text": [
      "\u001b[32m#LOG     :\u001b[0m\u001b[32mAll paths found\u001b[0m\n"
     ]
    },
    {
     "data": {
      "application/vnd.jupyter.widget-view+json": {
       "model_id": "34b5dd7c2dbf4ab2b1475c3beb4415f4",
       "version_major": 2,
       "version_minor": 0
      },
      "text/plain": [
       "  0%|          | 0/200840 [00:00<?, ?it/s]"
      ]
     },
     "metadata": {},
     "output_type": "display_data"
    },
    {
     "data": {
      "application/vnd.jupyter.widget-view+json": {
       "model_id": "c4e69e23c54f40d1b5236a050efaec5a",
       "version_major": 2,
       "version_minor": 0
      },
      "text/plain": [
       "  0%|          | 0/72045 [00:00<?, ?it/s]"
      ]
     },
     "metadata": {},
     "output_type": "display_data"
    },
    {
     "name": "stdout",
     "output_type": "stream",
     "text": [
      "\u001b[32m#LOG     :\u001b[0m\u001b[34mProcessing Dictionary:/home/rezwanul/Desktop/Apsis_Bangla_Handwritten/synth_DataSet/sourcedata/bangla/dictionary.csv\u001b[0m\n"
     ]
    },
    {
     "data": {
      "application/vnd.jupyter.widget-view+json": {
       "model_id": "1f781222a89a4ff882b75b4262eca9a6",
       "version_major": 2,
       "version_minor": 0
      },
      "text/plain": [
       "  0%|          | 0/1059977 [00:00<?, ?it/s]"
      ]
     },
     "metadata": {},
     "output_type": "display_data"
    },
    {
     "data": {
      "application/vnd.jupyter.widget-view+json": {
       "model_id": "dc42a260ddb04ad0ac7099879919ace8",
       "version_major": 2,
       "version_minor": 0
      },
      "text/plain": [
       "  0%|          | 0/46101 [00:00<?, ?it/s]"
      ]
     },
     "metadata": {},
     "output_type": "display_data"
    },
    {
     "data": {
      "application/vnd.jupyter.widget-view+json": {
       "model_id": "cae4180420e54c3c8fa13a08965d0b5e",
       "version_major": 2,
       "version_minor": 0
      },
      "text/plain": [
       "  0%|          | 0/10305 [00:00<?, ?it/s]"
      ]
     },
     "metadata": {},
     "output_type": "display_data"
    },
    {
     "name": "stdout",
     "output_type": "stream",
     "text": [
      "\u001b[32m#LOG     :\u001b[0m\u001b[34mconverting int labels to string\u001b[0m\n"
     ]
    },
    {
     "data": {
      "application/vnd.jupyter.widget-view+json": {
       "model_id": "d480dfd63fc44a8ab2a58af8a98f6c02",
       "version_major": 2,
       "version_minor": 0
      },
      "text/plain": [
       "  0%|          | 0/10305 [00:00<?, ?it/s]"
      ]
     },
     "metadata": {},
     "output_type": "display_data"
    },
    {
     "name": "stdout",
     "output_type": "stream",
     "text": [
      "\u001b[32m#LOG     :\u001b[0m\u001b[34mProcessing Dictionary:/home/rezwanul/Desktop/Apsis_Bangla_Handwritten/synth_DataSet/sourcedata/english/dictionary.csv\u001b[0m\n"
     ]
    },
    {
     "data": {
      "application/vnd.jupyter.widget-view+json": {
       "model_id": "2727e215b5394833a7535f47a45ee73c",
       "version_major": 2,
       "version_minor": 0
      },
      "text/plain": [
       "  0%|          | 0/370098 [00:00<?, ?it/s]"
      ]
     },
     "metadata": {},
     "output_type": "display_data"
    },
    {
     "data": {
      "application/vnd.jupyter.widget-view+json": {
       "model_id": "cc9c1920179643ada9421e509159381c",
       "version_major": 2,
       "version_minor": 0
      },
      "text/plain": [
       "  0%|          | 0/5975 [00:00<?, ?it/s]"
      ]
     },
     "metadata": {},
     "output_type": "display_data"
    },
    {
     "name": "stdout",
     "output_type": "stream",
     "text": [
      "\u001b[32m#LOG     :\u001b[0m\u001b[34mbangla.graphemes\u001b[0m\n"
     ]
    },
    {
     "data": {
      "application/vnd.jupyter.widget-view+json": {
       "model_id": "48d1efa280bc441bb4b37a294f39e705",
       "version_major": 2,
       "version_minor": 0
      },
      "text/plain": [
       "  0%|          | 0/200840 [00:00<?, ?it/s]"
      ]
     },
     "metadata": {},
     "output_type": "display_data"
    },
    {
     "name": "stdout",
     "output_type": "stream",
     "text": [
      "\u001b[32m#LOG     :\u001b[0m\u001b[34mbangla.numbers\u001b[0m\n"
     ]
    },
    {
     "data": {
      "application/vnd.jupyter.widget-view+json": {
       "model_id": "81b9e6bb1ef1481fb7803bae41f0bead",
       "version_major": 2,
       "version_minor": 0
      },
      "text/plain": [
       "  0%|          | 0/72045 [00:00<?, ?it/s]"
      ]
     },
     "metadata": {},
     "output_type": "display_data"
    },
    {
     "name": "stdout",
     "output_type": "stream",
     "text": [
      "\u001b[32m#LOG     :\u001b[0m\u001b[34menglish.graphemes\u001b[0m\n"
     ]
    },
    {
     "data": {
      "application/vnd.jupyter.widget-view+json": {
       "model_id": "ff65db1cec8843d2a4cd32976fcf49bc",
       "version_major": 2,
       "version_minor": 0
      },
      "text/plain": [
       "  0%|          | 0/46101 [00:00<?, ?it/s]"
      ]
     },
     "metadata": {},
     "output_type": "display_data"
    },
    {
     "name": "stdout",
     "output_type": "stream",
     "text": [
      "\u001b[32m#LOG     :\u001b[0m\u001b[34menglish.numbers\u001b[0m\n"
     ]
    },
    {
     "data": {
      "application/vnd.jupyter.widget-view+json": {
       "model_id": "b6d8fef3cbef4decaee4ff2885b27102",
       "version_major": 2,
       "version_minor": 0
      },
      "text/plain": [
       "  0%|          | 0/10305 [00:00<?, ?it/s]"
      ]
     },
     "metadata": {},
     "output_type": "display_data"
    },
    {
     "name": "stdout",
     "output_type": "stream",
     "text": [
      "\u001b[32m#LOG     :\u001b[0m\u001b[34mcommon.symbols\u001b[0m\n"
     ]
    },
    {
     "data": {
      "application/vnd.jupyter.widget-view+json": {
       "model_id": "8f66a830c41a4bfba43624e566d50078",
       "version_major": 2,
       "version_minor": 0
      },
      "text/plain": [
       "  0%|          | 0/5975 [00:00<?, ?it/s]"
      ]
     },
     "metadata": {},
     "output_type": "display_data"
    },
    {
     "name": "stdout",
     "output_type": "stream",
     "text": [
      "\u001b[32m#LOG     :\u001b[0m\u001b[34mbangla.fonts\u001b[0m\n"
     ]
    },
    {
     "data": {
      "application/vnd.jupyter.widget-view+json": {
       "model_id": "22afa58fcf944086a077ffc8c14f73f8",
       "version_major": 2,
       "version_minor": 0
      },
      "text/plain": [
       "  0%|          | 0/21 [00:00<?, ?it/s]"
      ]
     },
     "metadata": {},
     "output_type": "display_data"
    },
    {
     "name": "stdout",
     "output_type": "stream",
     "text": [
      "\u001b[32m#LOG     :\u001b[0m\u001b[34menglish.fonts\u001b[0m\n"
     ]
    },
    {
     "data": {
      "application/vnd.jupyter.widget-view+json": {
       "model_id": "7efbfe4c1d384f1c8ada1a674007fc57",
       "version_major": 2,
       "version_minor": 0
      },
      "text/plain": [
       "  0%|          | 0/2682 [00:00<?, ?it/s]"
      ]
     },
     "metadata": {},
     "output_type": "display_data"
    },
    {
     "name": "stdout",
     "output_type": "stream",
     "text": [
      "\u001b[32m#LOG     :\u001b[0m\u001b[34mcommon.background\u001b[0m\n"
     ]
    },
    {
     "data": {
      "application/vnd.jupyter.widget-view+json": {
       "model_id": "7313ccb7982b4ac9a9796d0c224c638e",
       "version_major": 2,
       "version_minor": 0
      },
      "text/plain": [
       "  0%|          | 0/982 [00:00<?, ?it/s]"
      ]
     },
     "metadata": {},
     "output_type": "display_data"
    },
    {
     "name": "stdout",
     "output_type": "stream",
     "text": [
      "\u001b[32m#LOG     :\u001b[0m\u001b[34mcommon.noise.random\u001b[0m\n"
     ]
    },
    {
     "data": {
      "application/vnd.jupyter.widget-view+json": {
       "model_id": "f20aa56fedbc4901bf7d3b128eb7756c",
       "version_major": 2,
       "version_minor": 0
      },
      "text/plain": [
       "  0%|          | 0/112763 [00:00<?, ?it/s]"
      ]
     },
     "metadata": {},
     "output_type": "display_data"
    },
    {
     "name": "stdout",
     "output_type": "stream",
     "text": [
      "\u001b[32m#LOG     :\u001b[0m\u001b[34mcommon.noise.sign\u001b[0m\n"
     ]
    },
    {
     "data": {
      "application/vnd.jupyter.widget-view+json": {
       "model_id": "05007bfc62c64999bf310f03848877a6",
       "version_major": 2,
       "version_minor": 0
      },
      "text/plain": [
       "  0%|          | 0/3240 [00:00<?, ?it/s]"
      ]
     },
     "metadata": {},
     "output_type": "display_data"
    },
    {
     "data": {
      "text/html": [
       "<div>\n",
       "<style scoped>\n",
       "    .dataframe tbody tr th:only-of-type {\n",
       "        vertical-align: middle;\n",
       "    }\n",
       "\n",
       "    .dataframe tbody tr th {\n",
       "        vertical-align: top;\n",
       "    }\n",
       "\n",
       "    .dataframe thead th {\n",
       "        text-align: right;\n",
       "    }\n",
       "</style>\n",
       "<table border=\"1\" class=\"dataframe\">\n",
       "  <thead>\n",
       "    <tr style=\"text-align: right;\">\n",
       "      <th></th>\n",
       "      <th>filename</th>\n",
       "      <th>label</th>\n",
       "      <th>img_path</th>\n",
       "    </tr>\n",
       "  </thead>\n",
       "  <tbody>\n",
       "    <tr>\n",
       "      <th>0</th>\n",
       "      <td>symbol_0</td>\n",
       "      <td>&gt;</td>\n",
       "      <td>/home/rezwanul/Desktop/Apsis_Bangla_Handwritte...</td>\n",
       "    </tr>\n",
       "    <tr>\n",
       "      <th>1</th>\n",
       "      <td>symbol_1</td>\n",
       "      <td>&gt;</td>\n",
       "      <td>/home/rezwanul/Desktop/Apsis_Bangla_Handwritte...</td>\n",
       "    </tr>\n",
       "    <tr>\n",
       "      <th>2</th>\n",
       "      <td>symbol_2</td>\n",
       "      <td>&gt;</td>\n",
       "      <td>/home/rezwanul/Desktop/Apsis_Bangla_Handwritte...</td>\n",
       "    </tr>\n",
       "    <tr>\n",
       "      <th>3</th>\n",
       "      <td>symbol_3</td>\n",
       "      <td>&gt;</td>\n",
       "      <td>/home/rezwanul/Desktop/Apsis_Bangla_Handwritte...</td>\n",
       "    </tr>\n",
       "    <tr>\n",
       "      <th>4</th>\n",
       "      <td>symbol_4</td>\n",
       "      <td>&gt;</td>\n",
       "      <td>/home/rezwanul/Desktop/Apsis_Bangla_Handwritte...</td>\n",
       "    </tr>\n",
       "    <tr>\n",
       "      <th>...</th>\n",
       "      <td>...</td>\n",
       "      <td>...</td>\n",
       "      <td>...</td>\n",
       "    </tr>\n",
       "    <tr>\n",
       "      <th>5970</th>\n",
       "      <td>symbol_5970</td>\n",
       "      <td>&lt;</td>\n",
       "      <td>/home/rezwanul/Desktop/Apsis_Bangla_Handwritte...</td>\n",
       "    </tr>\n",
       "    <tr>\n",
       "      <th>5971</th>\n",
       "      <td>symbol_5971</td>\n",
       "      <td>&lt;</td>\n",
       "      <td>/home/rezwanul/Desktop/Apsis_Bangla_Handwritte...</td>\n",
       "    </tr>\n",
       "    <tr>\n",
       "      <th>5972</th>\n",
       "      <td>symbol_5972</td>\n",
       "      <td>&lt;</td>\n",
       "      <td>/home/rezwanul/Desktop/Apsis_Bangla_Handwritte...</td>\n",
       "    </tr>\n",
       "    <tr>\n",
       "      <th>5973</th>\n",
       "      <td>symbol_5973</td>\n",
       "      <td>&lt;</td>\n",
       "      <td>/home/rezwanul/Desktop/Apsis_Bangla_Handwritte...</td>\n",
       "    </tr>\n",
       "    <tr>\n",
       "      <th>5974</th>\n",
       "      <td>symbol_5974</td>\n",
       "      <td>&lt;</td>\n",
       "      <td>/home/rezwanul/Desktop/Apsis_Bangla_Handwritte...</td>\n",
       "    </tr>\n",
       "  </tbody>\n",
       "</table>\n",
       "<p>5975 rows × 3 columns</p>\n",
       "</div>"
      ],
      "text/plain": [
       "         filename label                                           img_path\n",
       "0        symbol_0     >  /home/rezwanul/Desktop/Apsis_Bangla_Handwritte...\n",
       "1        symbol_1     >  /home/rezwanul/Desktop/Apsis_Bangla_Handwritte...\n",
       "2        symbol_2     >  /home/rezwanul/Desktop/Apsis_Bangla_Handwritte...\n",
       "3        symbol_3     >  /home/rezwanul/Desktop/Apsis_Bangla_Handwritte...\n",
       "4        symbol_4     >  /home/rezwanul/Desktop/Apsis_Bangla_Handwritte...\n",
       "...           ...   ...                                                ...\n",
       "5970  symbol_5970     <  /home/rezwanul/Desktop/Apsis_Bangla_Handwritte...\n",
       "5971  symbol_5971     <  /home/rezwanul/Desktop/Apsis_Bangla_Handwritte...\n",
       "5972  symbol_5972     <  /home/rezwanul/Desktop/Apsis_Bangla_Handwritte...\n",
       "5973  symbol_5973     <  /home/rezwanul/Desktop/Apsis_Bangla_Handwritte...\n",
       "5974  symbol_5974     <  /home/rezwanul/Desktop/Apsis_Bangla_Handwritte...\n",
       "\n",
       "[5975 rows x 3 columns]"
      ]
     },
     "execution_count": 1,
     "metadata": {},
     "output_type": "execute_result"
    }
   ],
   "source": [
    "from memoLib.dataset import DataSet\n",
    "data_dir       = \"/home/rezwanul/Desktop/Apsis_Bangla_Handwritten/synth_DataSet/sourcedata\"\n",
    "ds=DataSet(data_dir)\n",
    "ds.common.symbols.df"
   ]
  },
  {
   "cell_type": "code",
   "execution_count": 3,
   "id": "67704554",
   "metadata": {},
   "outputs": [
    {
     "name": "stdout",
     "output_type": "stream",
     "text": [
      "215\n"
     ]
    },
    {
     "data": {
      "image/png": "[encoded data removed]",
      "text/plain": [
       "<Figure size 432x288 with 1 Axes>"
      ]
     },
     "metadata": {
      "needs_background": "light"
     },
     "output_type": "display_data"
    }
   ],
   "source": [
    "import os\n",
    "import cv2\n",
    "import matplotlib.pyplot as plt\n",
    "%matplotlib inline \n",
    "import random\n",
    "\n",
    "k = random.randint(0, 3238)\n",
    "print(k)\n",
    "\n",
    "img_path=os.path.join(ds.common.noise.sign,\"mixed_\" + str(k) +\".bmp\")\n",
    "img=cv2.imread(img_path,0)\n",
    "plt.imshow(img)\n",
    "plt.show()"
   ]
  },
  {
   "cell_type": "code",
   "execution_count": 4,
   "id": "0e26ac4d",
   "metadata": {},
   "outputs": [
    {
     "data": {
      "text/plain": [
       "'/home/rezwanul/Desktop/Apsis_Bangla_Handwritten/synth_DataSet/sourcedata/common/noise/signature/mixed_215.bmp'"
      ]
     },
     "execution_count": 4,
     "metadata": {},
     "output_type": "execute_result"
    }
   ],
   "source": [
    "img_path"
   ]
  },
  {
   "cell_type": "code",
   "execution_count": 5,
   "id": "b3b25df3",
   "metadata": {},
   "outputs": [],
   "source": [
    "import matplotlib.pyplot as plt\n",
    "%matplotlib inline \n",
    "import os \n",
    "import cv2\n",
    "import numpy as np\n",
    "import random\n",
    "\n",
    "# from UPDATE.memo_utils import memoHeadFunc, memoBottomFunc\n",
    "\n",
    "# class_map_csv='/home/rezwanul/Desktop/Apsis_Bangla_Handwritten/Ansary_bhai/synthdata/UPDATE/class_map.csv'\n",
    "# font_path='/home/rezwanul/Desktop/Apsis_Bangla_Handwritten/Ansary_bhai/synthdata/UPDATE/Bangla.ttf'"
   ]
  },
  {
   "cell_type": "code",
   "execution_count": null,
   "id": "71814c90",
   "metadata": {},
   "outputs": [],
   "source": []
  },
  {
   "cell_type": "code",
   "execution_count": null,
   "id": "f43862e1",
   "metadata": {},
   "outputs": [
    {
     "data": {
      "image/png": "[encoded data removed]",
      "text/plain": [
       "<Figure size 432x288 with 1 Axes>"
      ]
     },
     "metadata": {
      "needs_background": "light"
     },
     "output_type": "display_data"
    }
   ],
   "source": [
    "from memoLib.bottom import memoBottomFunc, placeSignsOnMemoBottomImage\n",
    "\n",
    "\n",
    "bottom_names_snd_rcv = [\n",
    "                \"প্রেরকের সাক্ষর\", \n",
    "                \"প্রাপকের সাক্ষর\"\n",
    "                \n",
    "                ]\n",
    "\n",
    "bottom_names_mdl = [\"ব্রি. দ্র. এই খানে কিছু লেখা।\"]\n",
    "\n",
    "\n",
    "img_f, sr_iden_list = memoBottomFunc(ds,\n",
    "                                      bottom_names_snd_rcv,\n",
    "                                      bottom_names_mdl)\n",
    "\n",
    "\n",
    "plt.imshow(img_f)\n",
    "plt.show()\n",
    "print(img_f.shape)"
   ]
  },
  {
   "cell_type": "code",
   "execution_count": null,
   "id": "83266b08",
   "metadata": {},
   "outputs": [],
   "source": [
    "final_img = placeSignsOnMemoBottomImage(ds, img_f, sr_iden_list)\n",
    "\n",
    "plt.imshow(final_img)\n",
    "plt.show()\n",
    "print(final_img.shape)"
   ]
  },
  {
   "cell_type": "code",
   "execution_count": 8,
   "id": "72e38d84",
   "metadata": {},
   "outputs": [
    {
     "data": {
      "image/png": "[encoded data removed]",
      "text/plain": [
       "<Figure size 432x288 with 1 Axes>"
      ]
     },
     "metadata": {
      "needs_background": "light"
     },
     "output_type": "display_data"
    }
   ],
   "source": [
    "### Clean view\n",
    "final_img[final_img>0]=255\n",
    "plt.imshow(final_img)\n",
    "plt.show()"
   ]
  },
  {
   "cell_type": "code",
   "execution_count": 6,
   "id": "fc75495e",
   "metadata": {},
   "outputs": [
    {
     "data": {
      "image/png": "[encoded data removed]",
      "text/plain": [
       "<Figure size 432x288 with 1 Axes>"
      ]
     },
     "metadata": {
      "needs_background": "light"
     },
     "output_type": "display_data"
    },
    {
     "name": "stdout",
     "output_type": "stream",
     "text": [
      "(448, 3390)\n"
     ]
    }
   ],
   "source": [
    "# h,w = img_f.shape\n",
    "# print(w, h)\n",
    "\n",
    "# img_f_pad = padImg(img_f, h*2, w)\n",
    "# plt.imshow(img_f_pad)\n",
    "# plt.show()\n",
    "\n",
    "\n",
    "# plt.imshow(img_f)\n",
    "# plt.show()\n",
    "\n",
    "# print(img_f.shape)"
   ]
  },
  {
   "cell_type": "code",
   "execution_count": 7,
   "id": "aa3d4aac",
   "metadata": {},
   "outputs": [
    {
     "data": {
      "text/plain": [
       "array([  0.,   3.,   4.,   5.,   6.,   7.,   8.,   9.,  10.,  11.,  12.,\n",
       "        13.,  14.,  15.,  16.,  17.,  18.,  19.,  20.,  21.,  22.,  23.,\n",
       "        24.,  25.,  26.,  27.,  28.,  29.,  30.,  31.,  32.,  33.,  34.,\n",
       "        35.,  36.,  37.,  38.,  39., 255., 855., 856.])"
      ]
     },
     "execution_count": 7,
     "metadata": {},
     "output_type": "execute_result"
    }
   ],
   "source": [
    "# np.unique(img_f)"
   ]
  },
  {
   "cell_type": "code",
   "execution_count": 8,
   "id": "6447a1f7",
   "metadata": {},
   "outputs": [],
   "source": [
    "# def placeImageOnBackground(img,back,bbox):\n",
    "#     '''\n",
    "#         @author\n",
    "#         places a specific image on a given background at a specific location\n",
    "#         args:\n",
    "#             img   :   greyscale image to place\n",
    "#             back  :   background to place the image\n",
    "#             bbox  :   coordinate of bbox i.e., (y_min,y_max,x_min,x_max)\n",
    "#         location constraint:\n",
    "#             the bounding box centering the (x,y) point can be random\n",
    "#         return:\n",
    "#             back  :   back image after placing 'img'\n",
    "#     '''\n",
    "#     (y_min, y_max, x_min, x_max) = bbox\n",
    "#     ## back: ignore lines of table\n",
    "#     back[y_min:y_max,x_min:x_max]=0\n",
    "#     ## img: resize image\n",
    "#     h_max = abs(y_max-y_min)\n",
    "#     w_max = abs(x_max-x_min)\n",
    "#     dim = (h_max, w_max)\n",
    "#     _img = cv2.resize(img, dim[::-1], fx=0,fy=0, interpolation = cv2.INTER_NEAREST)\n",
    "#     ## place \"img\" on \"back\"\n",
    "#     back[y_min:y_max,x_min:x_max]=_img\n",
    "#     return back"
   ]
  },
  {
   "cell_type": "code",
   "execution_count": 9,
   "id": "dd597462",
   "metadata": {},
   "outputs": [],
   "source": [
    "# def loadSignatureImg(number_image):\n",
    "#     imgss = []\n",
    "#     for i in range(number_image):\n",
    "#         k = random.randint(0, 3238)\n",
    "#         img_path=os.path.join(ds.common.noise.sign,\"mixed_\" + str(k) +\".bmp\")\n",
    "#         if os.path.exists(img_path):\n",
    "#             img=cv2.imread(img_path,0)\n",
    "#             imgss.append(img)\n",
    "#     return imgss\n",
    "\n",
    "# sign_imgs = loadSignatureImg(20)\n",
    "# # print(len(sign_imgs))\n",
    "\n",
    "# num_to_select = len(sr_iden_list)                        # set the number to select here.\n",
    "# list_of_random_imgs = random.sample(sign_imgs, num_to_select)\n",
    "# # print(len(list_of_random_imgs))"
   ]
  },
  {
   "cell_type": "code",
   "execution_count": 10,
   "id": "d5d590f7",
   "metadata": {},
   "outputs": [
    {
     "name": "stdout",
     "output_type": "stream",
     "text": [
      "0\n",
      "(448, 3390)\n",
      "(5, 165, 10, 1043)\n",
      "1\n",
      "(448, 3390)\n",
      "(5, 165, 2543, 3371)\n"
     ]
    }
   ],
   "source": [
    "# i_check = 0\n",
    "# for i,img in zip(sr_iden_list,list_of_random_imgs):\n",
    "#     idx = np.where(img_f==i)\n",
    "# #     h,w=img.shape\n",
    "# #     print(h,w)\n",
    "    \n",
    "#     y_min, y_max, x_min, x_max = np.min(idx[0]), np.max(idx[0]), np.min(idx[1]), np.max(idx[1])\n",
    "# #     print(y_min, y_max, x_min, x_max)\n",
    "    \n",
    "#     print(i_check)\n",
    "#     print(img_f.shape)\n",
    "#     _, w = img_f.shape\n",
    "    \n",
    "#     y_min = 5\n",
    "#     y_max = 165\n",
    "    \n",
    "#     if i_check == 0:\n",
    "#         x_min = 10\n",
    "#         x_max = x_max\n",
    "        \n",
    "#     if i_check == 1:\n",
    "#         x_min = w-w//4\n",
    "#         x_max = x_max\n",
    "\n",
    "# #     if w<x_min: \n",
    "# #         y_min, y_max, x_min, x_max=y_min, y_max, abs(x_min-w), x_max\n",
    "# #     else:\n",
    "# #         y_min, y_max, x_min, x_max=y_min, y_max, (x_min-w//2), x_max\n",
    "\n",
    "# #     ## resize image\n",
    "# #     h_max = abs(y_max-y_min)\n",
    "# #     w_max = abs(x_max-x_min)\n",
    "# #     dim = (h_max, w_max)\n",
    "\n",
    "#     bbox = (y_min, y_max, x_min, x_max)\n",
    "    \n",
    "#     print(bbox)\n",
    "\n",
    "#     img_f=placeImageOnBackground(img,img_f,bbox)\n",
    "    \n",
    "#     i_check += 1"
   ]
  },
  {
   "cell_type": "code",
   "execution_count": 11,
   "id": "2a9563e8",
   "metadata": {},
   "outputs": [
    {
     "data": {
      "image/png": "[encoded data removed]",
      "text/plain": [
       "<Figure size 432x288 with 1 Axes>"
      ]
     },
     "metadata": {
      "needs_background": "light"
     },
     "output_type": "display_data"
    }
   ],
   "source": [
    "# img_f[img_f>0]=255\n",
    "# plt.imshow(img_f)\n",
    "# plt.show()"
   ]
  },
  {
   "cell_type": "code",
   "execution_count": 12,
   "id": "9ebf9c1b",
   "metadata": {},
   "outputs": [],
   "source": [
    "# img_f_pad[img_f_pad>0]=255\n",
    "# plt.imshow(img_f_pad)\n",
    "# plt.show()"
   ]
  },
  {
   "cell_type": "code",
   "execution_count": 18,
   "id": "70144964",
   "metadata": {},
   "outputs": [],
   "source": [
    "# img_f_pad.shape"
   ]
  },
  {
   "cell_type": "code",
   "execution_count": 19,
   "id": "b7cc0ef6",
   "metadata": {},
   "outputs": [
    {
     "data": {
      "text/plain": [
       "[855, 856]"
      ]
     },
     "execution_count": 19,
     "metadata": {},
     "output_type": "execute_result"
    }
   ],
   "source": [
    "# sr_iden_list"
   ]
  },
  {
   "cell_type": "code",
   "execution_count": 20,
   "id": "3a256389",
   "metadata": {},
   "outputs": [],
   "source": [
    "# cv2.drawline"
   ]
  },
  {
   "cell_type": "code",
   "execution_count": 21,
   "id": "8868fbee",
   "metadata": {},
   "outputs": [
    {
     "data": {
      "image/png": "[encoded data removed]",
      "text/plain": [
       "<Figure size 432x288 with 1 Axes>"
      ]
     },
     "metadata": {
      "needs_background": "light"
     },
     "output_type": "display_data"
    }
   ],
   "source": [
    "# import cv2  # python-opencv\n",
    "# import numpy as np\n",
    "\n",
    "# width, height = 639, 84//2 \n",
    "# x1, y1 = 0, 84//4 \n",
    "# x2, y2 = 639, 84//4 \n",
    "# image = np.zeros((height, width)) * 255\n",
    "\n",
    "# line_thickness = 2\n",
    "# cv2.line(image, (x1, y1), (x2, y2), (255, 0, 0), thickness=line_thickness)\n",
    "\n",
    "# plt.imshow(image)\n",
    "# plt.show()"
   ]
  },
  {
   "cell_type": "code",
   "execution_count": 22,
   "id": "5b0b5670",
   "metadata": {},
   "outputs": [
    {
     "data": {
      "text/plain": [
       "array([  0., 255.])"
      ]
     },
     "execution_count": 22,
     "metadata": {},
     "output_type": "execute_result"
    }
   ],
   "source": [
    "# np.unique(image)"
   ]
  },
  {
   "cell_type": "code",
   "execution_count": 23,
   "id": "7e05ebec",
   "metadata": {},
   "outputs": [
    {
     "data": {
      "text/plain": [
       "'______\\nসাক্ষর'"
      ]
     },
     "execution_count": 23,
     "metadata": {},
     "output_type": "execute_result"
    }
   ],
   "source": [
    "# def over(char):\n",
    "#     l = len(char)\n",
    "#     return l*(\"_\")+\"\\n\"+char\n",
    "\n",
    "# over(\"সাক্ষর\")"
   ]
  },
  {
   "cell_type": "code",
   "execution_count": 24,
   "id": "da25e035",
   "metadata": {},
   "outputs": [
    {
     "name": "stdout",
     "output_type": "stream",
     "text": [
      "['______\\nসাক্ষর', 'সাক্ষর', '______\\nসাক্ষর']\n"
     ]
    }
   ],
   "source": [
    "# # arr = [\"সাক্ষর\",None, \"সাক্ষর\"]\n",
    "\n",
    "# arr = [\"সাক্ষর\",\"সাক্ষর\", \"সাক্ষর\"]\n",
    "\n",
    "# k = []\n",
    "# for i in range(len(arr)):\n",
    "#     if i==1 and arr[i] == None:\n",
    "#         k.append(25*(\" \"))\n",
    "#     elif i==1 and arr[i] != None:\n",
    "#         k.append(arr[i])\n",
    "#     else:\n",
    "#         k.append(over(arr[i]))\n",
    "    \n",
    "# print(k)"
   ]
  },
  {
   "cell_type": "code",
   "execution_count": 25,
   "id": "ba9056d2",
   "metadata": {},
   "outputs": [
    {
     "name": "stdout",
     "output_type": "stream",
     "text": [
      "5\n"
     ]
    }
   ],
   "source": [
    "# k = [1,3,4,5]\n",
    "\n",
    "# for val in k[3:]:\n",
    "#     print(val)"
   ]
  },
  {
   "cell_type": "code",
   "execution_count": null,
   "id": "815340b5",
   "metadata": {},
   "outputs": [],
   "source": []
  },
  {
   "cell_type": "code",
   "execution_count": null,
   "id": "1510ceef",
   "metadata": {},
   "outputs": [],
   "source": []
  }
 ],
 "metadata": {
  "kernelspec": {
   "display_name": "Python 3",
   "language": "python",
   "name": "python3"
  },
  "language_info": {
   "codemirror_mode": {
    "name": "ipython",
    "version": 3
   },
   "file_extension": ".py",
   "mimetype": "text/x-python",
   "name": "python",
   "nbconvert_exporter": "python",
   "pygments_lexer": "ipython3",
   "version": "3.8.5"
  }
 },
 "nbformat": 4,
 "nbformat_minor": 5
}
