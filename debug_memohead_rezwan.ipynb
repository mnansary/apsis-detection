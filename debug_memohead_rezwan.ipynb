{
 "cells": [
  {
   "cell_type": "code",
   "execution_count": 1,
   "id": "df6f1ba0",
   "metadata": {},
   "outputs": [
    {
     "name": "stdout",
     "output_type": "stream",
     "text": [
      "\u001b[32m#LOG     :\u001b[0m\u001b[32mAll paths found\u001b[0m\n"
     ]
    },
    {
     "data": {
      "application/vnd.jupyter.widget-view+json": {
       "model_id": "69092fa6e5804bcc9643063ad0373504",
       "version_major": 2,
       "version_minor": 0
      },
      "text/plain": [
       "  0%|          | 0/200840 [00:00<?, ?it/s]"
      ]
     },
     "metadata": {},
     "output_type": "display_data"
    },
    {
     "data": {
      "application/vnd.jupyter.widget-view+json": {
       "model_id": "354108adb9604d6c9ca1930cea50e24e",
       "version_major": 2,
       "version_minor": 0
      },
      "text/plain": [
       "  0%|          | 0/72045 [00:00<?, ?it/s]"
      ]
     },
     "metadata": {},
     "output_type": "display_data"
    },
    {
     "name": "stdout",
     "output_type": "stream",
     "text": [
      "\u001b[32m#LOG     :\u001b[0m\u001b[34mProcessing Dictionary:/home/rezwanul/Desktop/Apsis_Bangla_Handwritten/synth_DataSet/sourcedata/bangla/dictionary.csv\u001b[0m\n"
     ]
    },
    {
     "data": {
      "application/vnd.jupyter.widget-view+json": {
       "model_id": "38aaeb83041845f0a47390065d518bba",
       "version_major": 2,
       "version_minor": 0
      },
      "text/plain": [
       "  0%|          | 0/1059977 [00:00<?, ?it/s]"
      ]
     },
     "metadata": {},
     "output_type": "display_data"
    },
    {
     "data": {
      "application/vnd.jupyter.widget-view+json": {
       "model_id": "44b8253ebf934a7f890224ca88f2c7da",
       "version_major": 2,
       "version_minor": 0
      },
      "text/plain": [
       "  0%|          | 0/46101 [00:00<?, ?it/s]"
      ]
     },
     "metadata": {},
     "output_type": "display_data"
    },
    {
     "data": {
      "application/vnd.jupyter.widget-view+json": {
       "model_id": "73033cac9b6f477b8533095de18df4c8",
       "version_major": 2,
       "version_minor": 0
      },
      "text/plain": [
       "  0%|          | 0/10305 [00:00<?, ?it/s]"
      ]
     },
     "metadata": {},
     "output_type": "display_data"
    },
    {
     "name": "stdout",
     "output_type": "stream",
     "text": [
      "\u001b[32m#LOG     :\u001b[0m\u001b[34mconverting int labels to string\u001b[0m\n"
     ]
    },
    {
     "data": {
      "application/vnd.jupyter.widget-view+json": {
       "model_id": "9011dfd2de2a488f8feadcb3040c7195",
       "version_major": 2,
       "version_minor": 0
      },
      "text/plain": [
       "  0%|          | 0/10305 [00:00<?, ?it/s]"
      ]
     },
     "metadata": {},
     "output_type": "display_data"
    },
    {
     "name": "stdout",
     "output_type": "stream",
     "text": [
      "\u001b[32m#LOG     :\u001b[0m\u001b[34mProcessing Dictionary:/home/rezwanul/Desktop/Apsis_Bangla_Handwritten/synth_DataSet/sourcedata/english/dictionary.csv\u001b[0m\n"
     ]
    },
    {
     "data": {
      "application/vnd.jupyter.widget-view+json": {
       "model_id": "2eb77dbc365f48d48190054e04ac3f17",
       "version_major": 2,
       "version_minor": 0
      },
      "text/plain": [
       "  0%|          | 0/370098 [00:00<?, ?it/s]"
      ]
     },
     "metadata": {},
     "output_type": "display_data"
    },
    {
     "data": {
      "application/vnd.jupyter.widget-view+json": {
       "model_id": "e1fb22b55a2e4368b097fa501af30938",
       "version_major": 2,
       "version_minor": 0
      },
      "text/plain": [
       "  0%|          | 0/5975 [00:00<?, ?it/s]"
      ]
     },
     "metadata": {},
     "output_type": "display_data"
    },
    {
     "name": "stdout",
     "output_type": "stream",
     "text": [
      "\u001b[32m#LOG     :\u001b[0m\u001b[34mbangla.graphemes\u001b[0m\n"
     ]
    },
    {
     "data": {
      "application/vnd.jupyter.widget-view+json": {
       "model_id": "685f4668a0d94082bc7765aa70df518a",
       "version_major": 2,
       "version_minor": 0
      },
      "text/plain": [
       "  0%|          | 0/200840 [00:00<?, ?it/s]"
      ]
     },
     "metadata": {},
     "output_type": "display_data"
    },
    {
     "name": "stdout",
     "output_type": "stream",
     "text": [
      "\u001b[32m#LOG     :\u001b[0m\u001b[34mbangla.numbers\u001b[0m\n"
     ]
    },
    {
     "data": {
      "application/vnd.jupyter.widget-view+json": {
       "model_id": "db39624f2be84730a2281ff3a5c23181",
       "version_major": 2,
       "version_minor": 0
      },
      "text/plain": [
       "  0%|          | 0/72045 [00:00<?, ?it/s]"
      ]
     },
     "metadata": {},
     "output_type": "display_data"
    },
    {
     "name": "stdout",
     "output_type": "stream",
     "text": [
      "\u001b[32m#LOG     :\u001b[0m\u001b[34menglish.graphemes\u001b[0m\n"
     ]
    },
    {
     "data": {
      "application/vnd.jupyter.widget-view+json": {
       "model_id": "4411b415eca74084b067b7c1fa281426",
       "version_major": 2,
       "version_minor": 0
      },
      "text/plain": [
       "  0%|          | 0/46101 [00:00<?, ?it/s]"
      ]
     },
     "metadata": {},
     "output_type": "display_data"
    },
    {
     "name": "stdout",
     "output_type": "stream",
     "text": [
      "\u001b[32m#LOG     :\u001b[0m\u001b[34menglish.numbers\u001b[0m\n"
     ]
    },
    {
     "data": {
      "application/vnd.jupyter.widget-view+json": {
       "model_id": "81cd5434a89f4542b95319921896f661",
       "version_major": 2,
       "version_minor": 0
      },
      "text/plain": [
       "  0%|          | 0/10305 [00:00<?, ?it/s]"
      ]
     },
     "metadata": {},
     "output_type": "display_data"
    },
    {
     "name": "stdout",
     "output_type": "stream",
     "text": [
      "\u001b[32m#LOG     :\u001b[0m\u001b[34mcommon.symbols\u001b[0m\n"
     ]
    },
    {
     "data": {
      "application/vnd.jupyter.widget-view+json": {
       "model_id": "2a4135fc886242a9889e3f225fa7d9c1",
       "version_major": 2,
       "version_minor": 0
      },
      "text/plain": [
       "  0%|          | 0/5975 [00:00<?, ?it/s]"
      ]
     },
     "metadata": {},
     "output_type": "display_data"
    },
    {
     "name": "stdout",
     "output_type": "stream",
     "text": [
      "\u001b[32m#LOG     :\u001b[0m\u001b[34mbangla.fonts\u001b[0m\n"
     ]
    },
    {
     "data": {
      "application/vnd.jupyter.widget-view+json": {
       "model_id": "b2ca8ab180c64e02934d764d5f54e471",
       "version_major": 2,
       "version_minor": 0
      },
      "text/plain": [
       "  0%|          | 0/21 [00:00<?, ?it/s]"
      ]
     },
     "metadata": {},
     "output_type": "display_data"
    },
    {
     "name": "stdout",
     "output_type": "stream",
     "text": [
      "\u001b[32m#LOG     :\u001b[0m\u001b[34menglish.fonts\u001b[0m\n"
     ]
    },
    {
     "data": {
      "application/vnd.jupyter.widget-view+json": {
       "model_id": "40ea3f70a20f4d21b1a58ca9ab36818f",
       "version_major": 2,
       "version_minor": 0
      },
      "text/plain": [
       "  0%|          | 0/2682 [00:00<?, ?it/s]"
      ]
     },
     "metadata": {},
     "output_type": "display_data"
    },
    {
     "name": "stdout",
     "output_type": "stream",
     "text": [
      "\u001b[32m#LOG     :\u001b[0m\u001b[34mcommon.background\u001b[0m\n"
     ]
    },
    {
     "data": {
      "application/vnd.jupyter.widget-view+json": {
       "model_id": "0afb6cbe9c714409a4bf1bc16a0d762e",
       "version_major": 2,
       "version_minor": 0
      },
      "text/plain": [
       "  0%|          | 0/982 [00:00<?, ?it/s]"
      ]
     },
     "metadata": {},
     "output_type": "display_data"
    },
    {
     "name": "stdout",
     "output_type": "stream",
     "text": [
      "\u001b[32m#LOG     :\u001b[0m\u001b[34mcommon.noise.random\u001b[0m\n"
     ]
    },
    {
     "data": {
      "application/vnd.jupyter.widget-view+json": {
       "model_id": "efeb4ee4667348f18a0649b7c5bc3e53",
       "version_major": 2,
       "version_minor": 0
      },
      "text/plain": [
       "  0%|          | 0/112763 [00:00<?, ?it/s]"
      ]
     },
     "metadata": {},
     "output_type": "display_data"
    },
    {
     "name": "stdout",
     "output_type": "stream",
     "text": [
      "\u001b[32m#LOG     :\u001b[0m\u001b[34mcommon.noise.sign\u001b[0m\n"
     ]
    },
    {
     "data": {
      "application/vnd.jupyter.widget-view+json": {
       "model_id": "aa8e77b7c5ae4c46b8d1c530ffca94f8",
       "version_major": 2,
       "version_minor": 0
      },
      "text/plain": [
       "  0%|          | 0/3240 [00:00<?, ?it/s]"
      ]
     },
     "metadata": {},
     "output_type": "display_data"
    },
    {
     "data": {
      "text/html": [
       "<div>\n",
       "<style scoped>\n",
       "    .dataframe tbody tr th:only-of-type {\n",
       "        vertical-align: middle;\n",
       "    }\n",
       "\n",
       "    .dataframe tbody tr th {\n",
       "        vertical-align: top;\n",
       "    }\n",
       "\n",
       "    .dataframe thead th {\n",
       "        text-align: right;\n",
       "    }\n",
       "</style>\n",
       "<table border=\"1\" class=\"dataframe\">\n",
       "  <thead>\n",
       "    <tr style=\"text-align: right;\">\n",
       "      <th></th>\n",
       "      <th>filename</th>\n",
       "      <th>label</th>\n",
       "      <th>img_path</th>\n",
       "    </tr>\n",
       "  </thead>\n",
       "  <tbody>\n",
       "    <tr>\n",
       "      <th>0</th>\n",
       "      <td>symbol_0</td>\n",
       "      <td>&gt;</td>\n",
       "      <td>/home/rezwanul/Desktop/Apsis_Bangla_Handwritte...</td>\n",
       "    </tr>\n",
       "    <tr>\n",
       "      <th>1</th>\n",
       "      <td>symbol_1</td>\n",
       "      <td>&gt;</td>\n",
       "      <td>/home/rezwanul/Desktop/Apsis_Bangla_Handwritte...</td>\n",
       "    </tr>\n",
       "    <tr>\n",
       "      <th>2</th>\n",
       "      <td>symbol_2</td>\n",
       "      <td>&gt;</td>\n",
       "      <td>/home/rezwanul/Desktop/Apsis_Bangla_Handwritte...</td>\n",
       "    </tr>\n",
       "    <tr>\n",
       "      <th>3</th>\n",
       "      <td>symbol_3</td>\n",
       "      <td>&gt;</td>\n",
       "      <td>/home/rezwanul/Desktop/Apsis_Bangla_Handwritte...</td>\n",
       "    </tr>\n",
       "    <tr>\n",
       "      <th>4</th>\n",
       "      <td>symbol_4</td>\n",
       "      <td>&gt;</td>\n",
       "      <td>/home/rezwanul/Desktop/Apsis_Bangla_Handwritte...</td>\n",
       "    </tr>\n",
       "    <tr>\n",
       "      <th>...</th>\n",
       "      <td>...</td>\n",
       "      <td>...</td>\n",
       "      <td>...</td>\n",
       "    </tr>\n",
       "    <tr>\n",
       "      <th>5970</th>\n",
       "      <td>symbol_5970</td>\n",
       "      <td>&lt;</td>\n",
       "      <td>/home/rezwanul/Desktop/Apsis_Bangla_Handwritte...</td>\n",
       "    </tr>\n",
       "    <tr>\n",
       "      <th>5971</th>\n",
       "      <td>symbol_5971</td>\n",
       "      <td>&lt;</td>\n",
       "      <td>/home/rezwanul/Desktop/Apsis_Bangla_Handwritte...</td>\n",
       "    </tr>\n",
       "    <tr>\n",
       "      <th>5972</th>\n",
       "      <td>symbol_5972</td>\n",
       "      <td>&lt;</td>\n",
       "      <td>/home/rezwanul/Desktop/Apsis_Bangla_Handwritte...</td>\n",
       "    </tr>\n",
       "    <tr>\n",
       "      <th>5973</th>\n",
       "      <td>symbol_5973</td>\n",
       "      <td>&lt;</td>\n",
       "      <td>/home/rezwanul/Desktop/Apsis_Bangla_Handwritte...</td>\n",
       "    </tr>\n",
       "    <tr>\n",
       "      <th>5974</th>\n",
       "      <td>symbol_5974</td>\n",
       "      <td>&lt;</td>\n",
       "      <td>/home/rezwanul/Desktop/Apsis_Bangla_Handwritte...</td>\n",
       "    </tr>\n",
       "  </tbody>\n",
       "</table>\n",
       "<p>5975 rows × 3 columns</p>\n",
       "</div>"
      ],
      "text/plain": [
       "         filename label                                           img_path\n",
       "0        symbol_0     >  /home/rezwanul/Desktop/Apsis_Bangla_Handwritte...\n",
       "1        symbol_1     >  /home/rezwanul/Desktop/Apsis_Bangla_Handwritte...\n",
       "2        symbol_2     >  /home/rezwanul/Desktop/Apsis_Bangla_Handwritte...\n",
       "3        symbol_3     >  /home/rezwanul/Desktop/Apsis_Bangla_Handwritte...\n",
       "4        symbol_4     >  /home/rezwanul/Desktop/Apsis_Bangla_Handwritte...\n",
       "...           ...   ...                                                ...\n",
       "5970  symbol_5970     <  /home/rezwanul/Desktop/Apsis_Bangla_Handwritte...\n",
       "5971  symbol_5971     <  /home/rezwanul/Desktop/Apsis_Bangla_Handwritte...\n",
       "5972  symbol_5972     <  /home/rezwanul/Desktop/Apsis_Bangla_Handwritte...\n",
       "5973  symbol_5973     <  /home/rezwanul/Desktop/Apsis_Bangla_Handwritte...\n",
       "5974  symbol_5974     <  /home/rezwanul/Desktop/Apsis_Bangla_Handwritte...\n",
       "\n",
       "[5975 rows x 3 columns]"
      ]
     },
     "execution_count": 1,
     "metadata": {},
     "output_type": "execute_result"
    }
   ],
   "source": [
    "from coreLib.dataset import DataSet\n",
    "data_dir       = \"/home/rezwanul/Desktop/Apsis_Bangla_Handwritten/synth_DataSet/sourcedata\"\n",
    "ds=DataSet(data_dir)\n",
    "ds.common.symbols.df"
   ]
  },
  {
   "cell_type": "code",
   "execution_count": 2,
   "id": "c477e5bf",
   "metadata": {},
   "outputs": [
    {
     "data": {
      "image/png": "[encoded data removed]",
      "text/plain": [
       "<Figure size 432x288 with 1 Axes>"
      ]
     },
     "metadata": {
      "needs_background": "light"
     },
     "output_type": "display_data"
    }
   ],
   "source": [
    "import PIL.Image as Image, PIL.ImageDraw as ImageDraw, PIL.ImageFont as ImageFont\n",
    "import matplotlib.pyplot as plt\n",
    "%matplotlib inline \n",
    "import os \n",
    "import cv2\n",
    "import numpy as np\n",
    "import sys\n",
    "import numpy\n",
    "import random\n",
    "import scipy.ndimage as sni\n",
    "from pprint import pprint\n",
    "\n",
    "\n",
    "# from coreLib.word import create_word\n",
    "\n",
    "# # from coreLib.dataset import DataSet\n",
    "# from __notes__.memo_utils import drawsPrintTextOnTable\n",
    "\n",
    "\n",
    "iden=2\n",
    "from coreLib.word import create_word\n",
    "img,label,iden=create_word(iden,\n",
    "                            \"bangla\",\n",
    "                            \"handwritten\",\n",
    "                            \"graphemes\",\n",
    "                            ds,\n",
    "                            use_dict=True)\n",
    "# max neutralization\n",
    "plt.imshow(img)\n",
    "plt.show()\n"
   ]
  },
  {
   "cell_type": "code",
   "execution_count": 3,
   "id": "ff1e43d6",
   "metadata": {},
   "outputs": [],
   "source": [
    "from __notes__.memo_utils import memoHeadFunc"
   ]
  },
  {
   "cell_type": "code",
   "execution_count": null,
   "id": "ffaddf80",
   "metadata": {},
   "outputs": [],
   "source": [
    "### Call Function: memoHeadFunc()\n",
    "\n",
    "head_names=[\n",
    "               \"এ.স. এন্টারপ্রাইজ\",\n",
    "               \"ড্রিস্ট্রিবিউটরঃ এম/এস হাশেম ট্রেডিং\",\n",
    "               \"হাউস নাম্বারঃ ১২৩৪, বাড্ডা, গুলশান, ঢাকা।\",    \n",
    "               \"মোবাইল নাম্বারঃ ০১৭২৩৪৫৬৭৮৯\",\n",
    "               \"নাম্বারঃ\",\n",
    "               \"তারিখঃ\"\n",
    "               ] \n",
    "\n",
    "head_var_names=[\n",
    "                \n",
    "               \"আউটলেটের নামঃ\",\n",
    "               \"রাউটঃ\",\n",
    "               \"ঠিকানাঃ\"\n",
    "                \n",
    "                ]\n",
    "\n",
    "class_map_csv='/home/rezwanul/Desktop/Apsis_Bangla_Handwritten/synthdata/__notes__/class_map.csv'\n",
    "font_path='/home/rezwanul/Desktop/Apsis_Bangla_Handwritten/synthdata/__notes__/Bangla.ttf'\n",
    "\n",
    "final_image=memoHeadFunc(\n",
    "                  head_names,\n",
    "                  head_var_names,\n",
    "                  class_map_csv_path=class_map_csv,\n",
    "                  font_path=font_path)\n",
    "\n",
    "### Clean View\n",
    "final_image[final_image>0]=255\n",
    "plt.imshow(final_image)\n",
    "plt.show()"
   ]
  },
  {
   "cell_type": "code",
   "execution_count": null,
   "id": "5f84416c",
   "metadata": {},
   "outputs": [],
   "source": []
  }
 ],
 "metadata": {
  "kernelspec": {
   "display_name": "Python 3",
   "language": "python",
   "name": "python3"
  },
  "language_info": {
   "codemirror_mode": {
    "name": "ipython",
    "version": 3
   },
   "file_extension": ".py",
   "mimetype": "text/x-python",
   "name": "python",
   "nbconvert_exporter": "python",
   "pygments_lexer": "ipython3",
   "version": "3.8.5"
  }
 },
 "nbformat": 4,
 "nbformat_minor": 5
}
