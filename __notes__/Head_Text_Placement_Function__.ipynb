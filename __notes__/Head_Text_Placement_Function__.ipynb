{
 "cells": [
  {
   "cell_type": "code",
   "execution_count": 1,
   "metadata": {
    "colab": {
     "base_uri": "https://localhost:8080/"
    },
    "id": "4bLlyaTRFfJ-",
    "outputId": "b97a8485-a63f-43bf-c76c-ba492a5e38f9"
   },
   "outputs": [
    {
     "name": "stdout",
     "output_type": "stream",
     "text": [
      "Drive already mounted at /content/drive; to attempt to forcibly remount, call drive.mount(\"/content/drive\", force_remount=True).\n"
     ]
    }
   ],
   "source": [
    "# from google.colab import drive\n",
    "# drive.mount('/content/drive') "
   ]
  },
  {
   "cell_type": "markdown",
   "metadata": {
    "id": "BWI3k3olFxhk"
   },
   "source": [
    "## Libraqm"
   ]
  },
  {
   "cell_type": "code",
   "execution_count": 2,
   "metadata": {
    "id": "yhUkz2gxFt3Q"
   },
   "outputs": [],
   "source": [
    "# from IPython.display import clear_output\n",
    "# !sudo apt-get install libfreetype6-dev libharfbuzz-dev libfribidi-dev gtk-doc-tools\n",
    "# !git clone https://github.com/HOST-Oman/libraqm.git\n",
    "# clear_output()"
   ]
  },
  {
   "cell_type": "code",
   "execution_count": 3,
   "metadata": {
    "colab": {
     "base_uri": "https://localhost:8080/"
    },
    "id": "Txu2d6jxF1Dk",
    "outputId": "9cdb4776-7272-401b-b59e-f948fdb9f8fd"
   },
   "outputs": [
    {
     "name": "stdout",
     "output_type": "stream",
     "text": [
      "/content/libraqm\n"
     ]
    }
   ],
   "source": [
    "# cd libraqm/"
   ]
  },
  {
   "cell_type": "code",
   "execution_count": 4,
   "metadata": {
    "id": "LvYwepJOF4f4"
   },
   "outputs": [],
   "source": [
    "# !sudo apt-get install autoconf libtool autogen\n",
    "# !sudo /bin/bash autogen.sh \n",
    "# !sudo /bin/bash configure\n",
    "# !sudo make\n",
    "# !sudo make install\n",
    "# !sudo make check\n",
    "# !sudo /sbin/ldconfig\n",
    "# clear_output()"
   ]
  },
  {
   "cell_type": "code",
   "execution_count": 5,
   "metadata": {
    "colab": {
     "base_uri": "https://localhost:8080/"
    },
    "id": "DHuuysO8F8a1",
    "outputId": "b56f9445-abb2-4a8b-ce11-d72e94d9e6b2"
   },
   "outputs": [
    {
     "name": "stdout",
     "output_type": "stream",
     "text": [
      "/content\n"
     ]
    }
   ],
   "source": [
    "# cd .."
   ]
  },
  {
   "cell_type": "code",
   "execution_count": 6,
   "metadata": {
    "id": "6H3hsR0JGABU"
   },
   "outputs": [],
   "source": [
    "# !pip3 uninstall pillow -y\n",
    "# !pip3 install pillow>=7.1.0 --global-option=\"build_ext\" --global-option=\"--enable-freetype\"\n",
    "# clear_output()"
   ]
  },
  {
   "cell_type": "markdown",
   "metadata": {
    "id": "XYMjbwV2GHLt"
   },
   "source": [
    "## Make Sure These Two files are present"
   ]
  },
  {
   "cell_type": "code",
   "execution_count": 1,
   "metadata": {
    "id": "DtTq0n1fGC-Y"
   },
   "outputs": [],
   "source": [
    "class_map_csv='/home/rezwanul/Desktop/Apsis_Bangla_Handwritten/synthdata/__notes__/class_map.csv'\n",
    "font_path='/home/rezwanul/Desktop/Apsis_Bangla_Handwritten/synthdata/__notes__/Bangla.ttf'\n"
   ]
  },
  {
   "cell_type": "markdown",
   "metadata": {
    "id": "QiI9-CHJGSLB"
   },
   "source": [
    "## Error Check"
   ]
  },
  {
   "cell_type": "code",
   "execution_count": 2,
   "metadata": {
    "colab": {
     "base_uri": "https://localhost:8080/",
     "height": 226
    },
    "id": "XQUQVmTxGN0k",
    "outputId": "cb7c9e91-5811-4608-8f8f-0c6c7ee33483"
   },
   "outputs": [
    {
     "data": {
      "image/png": "[encoded data removed]",
      "text/plain": [
       "<Figure size 432x288 with 1 Axes>"
      ]
     },
     "metadata": {
      "needs_background": "light"
     },
     "output_type": "display_data"
    }
   ],
   "source": [
    "import PIL.Image as Image, PIL.ImageDraw as ImageDraw, PIL.ImageFont as ImageFont\n",
    "import matplotlib.pyplot as plt\n",
    "%matplotlib inline \n",
    "import os \n",
    "import cv2\n",
    "import numpy as np\n",
    "\n",
    "\n",
    "def stripPads(arr,val):\n",
    "    '''\n",
    "      strip specific values\n",
    "    '''\n",
    "    arr=arr[~np.all(arr == val, axis=1)]\n",
    "    arr=arr[:, ~np.all(arr == val, axis=0)]\n",
    "    return arr\n",
    "\n",
    "def show_grapheme(char):\n",
    "    HEIGHT = 256\n",
    "    WIDTH = 256\n",
    "    image = Image.new('RGB', (WIDTH, HEIGHT))\n",
    "    draw = ImageDraw.Draw(image)\n",
    "    myfont = ImageFont.truetype('/home/rezwanul/Desktop/Apsis_Bangla_Handwritten/synthdata/__notes__/Bangla.ttf', 128)\n",
    "    w, h = draw.textsize(char, font=myfont)\n",
    "    draw.text(((WIDTH - w) / 2,(HEIGHT - h) / 2), char, font=myfont)\n",
    "    image=image.convert('L')\n",
    "\n",
    "    image=np.array(image)\n",
    "    image[image <= 128]=0\n",
    "    image[image > 128]=255\n",
    "\n",
    "    image=stripPads(image,0)\n",
    "    plt.imshow(image)\n",
    "    plt.show()\n",
    "    \n",
    "show_grapheme(\"জ্জো\")"
   ]
  },
  {
   "cell_type": "markdown",
   "metadata": {
    "id": "71L8nXIJGhSx"
   },
   "source": [
    "## Parser Class"
   ]
  },
  {
   "cell_type": "code",
   "execution_count": 3,
   "metadata": {
    "id": "ydzGX48HGb9G"
   },
   "outputs": [],
   "source": [
    "# -*-coding: utf-8 -\n",
    "'''\n",
    "    @author: Tahsin Reasat\n",
    "    Adoptation:MD. Nazmuddoha Ansary\n",
    "'''\n",
    "#--------------------\n",
    "# imports\n",
    "#--------------------\n",
    "import pandas as pd\n",
    "\n",
    "\n",
    "\n",
    "#--------------------\n",
    "# Parser class\n",
    "#--------------------\n",
    "class GraphemeParser():\n",
    "    def __init__(self,class_map_csv):\n",
    "        # gets class map\n",
    "        self.class_map_csv=class_map_csv\n",
    "        # initializes components\n",
    "        self.__getComps()\n",
    "    \n",
    "    def __getComps(self):\n",
    "        '''\n",
    "            **Private Initialization**\n",
    "\n",
    "            reads and creates dataframe for roots,consonant_diacritic,vowel_diacritic and graphemes \n",
    "            args:\n",
    "                class_map_csv        : path of classes.csv\n",
    "            returns:\n",
    "                tuple(df_root,df_vd,df_cd)\n",
    "                df_root          :     dataframe for grapheme roots\n",
    "                df_vd            :     dataframe for vowel_diacritic \n",
    "                df_cd            :     dataframe for consonant_diacritic\n",
    "                \n",
    "        '''\n",
    "        # read class map\n",
    "        df_map=pd.read_csv(self.class_map_csv)\n",
    "        # get grapheme roots\n",
    "        df_root = df_map.groupby('component_type').get_group('grapheme_root')\n",
    "        df_root.index = df_root['label']\n",
    "        df_root = df_root.drop(columns = ['label','component_type'])\n",
    "        # get vowel_diacritic\n",
    "        df_vd = df_map.groupby('component_type').get_group('vowel_diacritic')\n",
    "        df_vd.index = df_vd['label']\n",
    "        df_vd = df_vd.drop(columns = ['label','component_type'])\n",
    "        # get consonant_diacritic\n",
    "        df_cd = df_map.groupby('component_type').get_group('consonant_diacritic')\n",
    "        df_cd.index = df_cd['label']\n",
    "        df_cd = df_cd.drop(columns = ['label','component_type'])\n",
    "        \n",
    "        self.vds    =df_vd.component.tolist()\n",
    "        self.cds    =df_cd.component.tolist()\n",
    "        self.roots  =df_root.component.tolist()\n",
    "\n",
    "        \n",
    "\n",
    "    def word2grapheme(self,word):\n",
    "        graphemes = []\n",
    "        grapheme = ''\n",
    "        i = 0\n",
    "        while i < len(word):\n",
    "            grapheme += (word[i])\n",
    "            # print(word[i], grapheme, graphemes)\n",
    "            # deciding if the grapheme has ended\n",
    "            if word[i] in ['\\u200d', '্']:\n",
    "                # these denote the grapheme is contnuing\n",
    "                pass\n",
    "            elif word[i] == 'ঁ':  \n",
    "                # 'ঁ' always stays at the end\n",
    "                graphemes.append(grapheme)\n",
    "                grapheme = ''\n",
    "            elif word[i] in list(self.roots) + ['়']:\n",
    "                # root is generally followed by the diacritics\n",
    "                # if there are trailing diacritics, don't end it\n",
    "                if i + 1 == len(word):\n",
    "                    graphemes.append(grapheme)\n",
    "                elif word[i + 1] not in ['্', '\\u200d', 'ঁ', '়'] + list(self.vds):\n",
    "                    # if there are no trailing diacritics end it\n",
    "                    graphemes.append(grapheme)\n",
    "                    grapheme = ''\n",
    "\n",
    "            elif word[i] in self.vds:\n",
    "                # if the current character is a vowel diacritic\n",
    "                # end it if there's no trailing 'ঁ' + diacritics\n",
    "                # Note: vowel diacritics are always placed after consonants\n",
    "                if i + 1 == len(word):\n",
    "                    graphemes.append(grapheme)\n",
    "                elif word[i + 1] not in ['ঁ'] + list(self.vds):\n",
    "                    graphemes.append(grapheme)\n",
    "                    grapheme = ''\n",
    "\n",
    "            i = i + 1\n",
    "            # Note: df_cd's are constructed by df_root + '্'\n",
    "            # so, df_cd is not used in the code\n",
    "\n",
    "        return graphemes\n",
    "\n",
    "    "
   ]
  },
  {
   "cell_type": "code",
   "execution_count": 4,
   "metadata": {
    "id": "RL18psGTGlZs"
   },
   "outputs": [],
   "source": [
    "def createPrintedLine(iden,\n",
    "                       comps,\n",
    "                       font_path,\n",
    "                       font_size):\n",
    "    '''\n",
    "        creates printed word image\n",
    "        args:\n",
    "            iden    :       identifier marking value starting\n",
    "            comps   :       the list of components\n",
    "            font_path:      the desired font path \n",
    "            font_size:      the size of the font\n",
    "        returns:\n",
    "            img     :       marked word image\n",
    "            label   :       dictionary of label {iden:label}\n",
    "            iden    :       the final identifier\n",
    "    '''\n",
    "    val_offset=iden\n",
    "    comps=[str(comp) for comp in comps]\n",
    "    # max dim\n",
    "    min_offset=100\n",
    "    max_dim=len(comps)*font_size+min_offset\n",
    "    # reconfigure comps\n",
    "    mods=['ঁ', 'ং', 'ঃ']\n",
    "    for idx,comp in enumerate(comps):\n",
    "        if idx < len(comps)-1 and comps[idx+1] in mods:\n",
    "            comps[idx]+=comps[idx+1]\n",
    "            comps[idx+1]=None \n",
    "            \n",
    "    comps=[comp for comp in comps if comp is not None]\n",
    "    word=\"\".join(comps)\n",
    "    # font path\n",
    "    font=ImageFont.truetype(font_path, size=font_size)\n",
    "    # sizes of comps\n",
    "    (comp_size,_),(_,_) = font.font.getsize(word)  \n",
    "    # construct labels\n",
    "    label={}\n",
    "    imgs=[]\n",
    "    x=0\n",
    "    y=0\n",
    "    comp_str=''\n",
    "    for comp in comps:\n",
    "        comp_str+=comp\n",
    "        # # calculate increment\n",
    "        # (comp_width,_),(offset,_)=comp_size\n",
    "        # dx = comp_width+offset \n",
    "        # draw\n",
    "        image = Image.new(mode='L', size=(max_dim,max_dim))\n",
    "        draw = ImageDraw.Draw(image)\n",
    "        #draw.text(xy=(x, y), text=comp, fill=iden, font=font)\n",
    "        draw.text(xy=(0, 0), text=comp_str, fill=1, font=font)\n",
    "        \n",
    "        imgs.append(np.array(image))\n",
    "        \n",
    "        # x+=dx\n",
    "        # label\n",
    "        if comp!=' ':\n",
    "            label[iden] = comp \n",
    "            iden+=1\n",
    "          \n",
    "        \n",
    "    # add images\n",
    "    img=sum(imgs)\n",
    "    #img=stripPads(img,0)\n",
    "    img=img[~np.all(img == 0, axis=1)]\n",
    "    img=img[:,:comp_size]\n",
    "    img[img>0]+=val_offset-1\n",
    "    return img,label,iden"
   ]
  },
  {
   "cell_type": "code",
   "execution_count": 5,
   "metadata": {
    "id": "pUOnbhsaH8Os"
   },
   "outputs": [],
   "source": [
    "\n",
    "def padImg(line_img,h_max,w_max):\n",
    "    # shape\n",
    "    h,w=line_img.shape\n",
    "    # pad widths\n",
    "    left_pad_width =(w_max-w)//2   # <<<<<<<<==========\n",
    "    # print(left_pad_width)\n",
    "    right_pad_width=w_max-w-left_pad_width   # <<<<<<<<==========\n",
    "    # pads\n",
    "    left_pad =np.zeros((h,left_pad_width))\n",
    "    right_pad=np.zeros((h,right_pad_width))\n",
    "    # pad\n",
    "    line_img =np.concatenate([left_pad,line_img,right_pad],axis=1)\n",
    "    \n",
    "    # shape\n",
    "    h,w=line_img.shape\n",
    "    # pad heights\n",
    "    top_pad_height =(h_max-h)//2\n",
    "    bot_pad_height=h_max-h-top_pad_height\n",
    "    # pads\n",
    "    top_pad =np.zeros((top_pad_height,w))\n",
    "    bot_pad=np.zeros((bot_pad_height,w))\n",
    "    # pad\n",
    "    line_img =np.concatenate([top_pad,line_img,bot_pad],axis=0)\n",
    "    return line_img"
   ]
  },
  {
   "cell_type": "code",
   "execution_count": 6,
   "metadata": {
    "id": "3v1Y6-5fIyed"
   },
   "outputs": [],
   "source": [
    "# ------------------\n",
    "from pprint import pprint\n",
    "from PIL import Image\n",
    "import PIL.Image as Image, PIL.ImageDraw as ImageDraw, PIL.ImageFont as ImageFont\n",
    "import matplotlib.pyplot as plt\n",
    "%matplotlib inline \n",
    "import os \n",
    "import cv2\n",
    "import numpy as np\n",
    "import regex\n",
    "# ------------------\n",
    "\n",
    "def memoHeadFunc(\n",
    "                  head_names,\n",
    "                  head_var_names,\n",
    "                  class_map_csv_path,\n",
    "                  font_path,\n",
    "                  font_size=128,\n",
    "                  bangla_num=[\"০\",\"১\",\"২\",\"৩\",\"৪\",\"৫\",\"৬\",\"৭\",\"৮\",\"৯\"],\n",
    "                  iden=3\n",
    "\n",
    "                 ):\n",
    "\n",
    "\n",
    "    \"\"\"\n",
    "          @function author:\n",
    "\n",
    "                Create image of top part of Memo\n",
    "\n",
    "            args:\n",
    "                head_names = text values of head part which are unchanged. like \n",
    "                              [\n",
    "                              \"এ.স. এন্টারপ্রাইজ\",\n",
    "                              \"ড্রিস্ট্রিবিউটরঃ এম/এস হাশেম ট্রেডিং\",\n",
    "                              \"হাউস নাম্বারঃ ১২৩৪, বাড্ডা, গুলশান, ঢাকা।\",                                <LIST>\n",
    "                              \"মোবাইল নাম্বারঃ ০১৭২৩৪৫৬৭৮৯\", \n",
    "                              \"নাম্বারঃ\",\n",
    "                              \"তারিখঃ\"\n",
    "                              ]  \n",
    "\n",
    "              head_var_names = text values of head part which are included dot dot. like \n",
    "                                  [\n",
    "\n",
    "                                  \"আউটলেটের নামঃ\",\n",
    "                                  \"রাউটঃ\",                                                       <LIST>\n",
    "                                  \"ঠিকানাঃ\"\n",
    "\n",
    "                                    ]\n",
    "\n",
    "              returns:\n",
    "                    final_img            =  Binary Image after placing text on image.\n",
    "\n",
    "    \"\"\"\n",
    "\n",
    "\n",
    "    gp=GraphemeParser(class_map_csv_path)\n",
    "\n",
    "    ### Add space and dot with last two value of head_names list\n",
    "    head_names[len(head_names)-1] = head_names[len(head_names)-1]+40*(\".\") ## Date\n",
    "    head_names[len(head_names)-2] = head_names[len(head_names)-2]+40*(\" \") # No.\n",
    "\n",
    "    ## Add dot head_var_names list\n",
    "    for i, p in enumerate(head_var_names):\n",
    "        dot_len = 70-len(p)\n",
    "        head_var_names[i] = head_var_names[i]+dot_len*(\".\")\n",
    "\n",
    "    len_head_names = len(head_names)\n",
    "    len_head_var_names = len(head_var_names)\n",
    "\n",
    "    ## merge both list (head_names, head_var_names)\n",
    "    data_Text = head_names + head_var_names\n",
    "\n",
    "    ## Create Function: for Process the Text data\n",
    "    def processText(dataText,\n",
    "                    gp=gp,\n",
    "                    bangla_num=bangla_num                   ########<<<<<<======== Func: processText()\n",
    "                    ):\n",
    "      \n",
    "        data = []\n",
    "        for i, p in enumerate(dataText):\n",
    "            _data=[]\n",
    "            rem_str=p\n",
    "            # find pure bangla words and numbers\n",
    "            words=regex.findall(r\"[^\\x20-\\x2F\\x3A-\\x40\\x5B-\\x60\\x7B-\\x7E-\\x7C]+\",p)\n",
    "            for idx,word in enumerate(words):\n",
    "\n",
    "                comps=[]\n",
    "                # find previous strings\n",
    "                prev_str=rem_str.partition(word)[0]\n",
    "                # get remainder string\n",
    "                rem_str=\"\".join(list(rem_str.partition(word)[2:]))\n",
    "\n",
    "                if prev_str.strip():\n",
    "                    comps+=[c for c in prev_str]\n",
    "                # _data.append(word)   ### <<<<===\n",
    "                if any(char in bangla_num for char in word):\n",
    "                    comps+=[g for g in word]\n",
    "\n",
    "                else:\n",
    "                    comps+=gp.word2grapheme(word)\n",
    "\n",
    "                # for last word\n",
    "                if idx==len(words)-1:\n",
    "                    comps+=[c for c in rem_str]\n",
    "\n",
    "                comps.append(\" \")\n",
    "                _data+=comps\n",
    "\n",
    "            # print(_data)  \n",
    "            # print(len(_data))\n",
    "            data.append(_data)\n",
    "\n",
    "        return data\n",
    "\n",
    "    data = processText(data_Text) ####<<<<<====== call Func: processText()\n",
    "\n",
    "    imgs=[]\n",
    "    labels=[]\n",
    "    h_max,w_max=0,0\n",
    "    # find images and labels\n",
    "    i = 0\n",
    "    for line in data: \n",
    "        i += 1\n",
    "        if i==1:\n",
    "            img,label,iden=createPrintedLine(iden,\n",
    "                                        line,\n",
    "                                        font_path,\n",
    "                                        200)\n",
    "        elif i==2:\n",
    "            img,label,iden=createPrintedLine(iden,\n",
    "                                        line,\n",
    "                                        font_path,\n",
    "                                        170)\n",
    "        else:\n",
    "            img,label,iden=createPrintedLine(iden,\n",
    "                                        line,\n",
    "                                        font_path,\n",
    "                                        font_size)\n",
    "        # print(iden)\n",
    "        h,w=img.shape\n",
    "        if h>h_max:\n",
    "            h_max=h\n",
    "        if w>w_max:\n",
    "            w_max=w\n",
    "\n",
    "        imgs.append(img)\n",
    "        labels.append(label)\n",
    "\n",
    "    h_max+=32\n",
    "    w_max+=32\n",
    "\n",
    "    padded=[]\n",
    "    for img in imgs:\n",
    "        img=padImg(img, h_max, w_max)\n",
    "        padded.append(img)\n",
    "        # plt.imshow(padImg(img, h_max, w_max))\n",
    "        # plt.show()\n",
    "\n",
    "    ## Merge Padded Images without last 2 values\n",
    "    img_1=np.concatenate(padded[:len(head_names)-2],axis=0)\n",
    "    (h_img_1, w_img_1) =  img_1.shape\n",
    "    # plt.imshow(img_1)\n",
    "    # plt.show() \n",
    "\n",
    "    ## merge last 2 values \n",
    "    img_2 = np.concatenate(padded[len(head_names)-2:len(head_names)], axis=1)\n",
    "    (h_img_2, w_img_2) =  img_2.shape\n",
    "    # plt.imshow(img_2)\n",
    "    # plt.show() \n",
    "\n",
    "    ## Need reshape of img_2 to merge img_1 and img_2\n",
    "    h= img_2.shape[0]\n",
    "    w= img.shape[1]\n",
    "    dim = (h, w)\n",
    "    img_2_resized = cv2.resize(img_2, dim[::-1], interpolation = cv2.INTER_AREA)\n",
    "\n",
    "    ## merge img_1 and img_2_resized\n",
    "    img_3 = np.concatenate([img_1, img_2_resized], axis=0)\n",
    "    # plt.imshow(img_3)\n",
    "    # plt.show()\n",
    "\n",
    "    ## Merge head_var_names\n",
    "    im_4 = np.concatenate(padded[len(head_names):], axis=0)\n",
    "    # plt.imshow(im_4)\n",
    "    # plt.show()\n",
    "\n",
    "    ## Merge img_3 and img_4: Final imgage\n",
    "    final_img = np.concatenate([img_3, im_4], axis=0)\n",
    "    # plt.imshow(final_img)\n",
    "    # plt.show()\n",
    "\n",
    "    # return\n",
    "    return final_img"
   ]
  },
  {
   "cell_type": "code",
   "execution_count": 7,
   "metadata": {
    "colab": {
     "base_uri": "https://localhost:8080/",
     "height": 269
    },
    "id": "ShOiXSEEh3PN",
    "outputId": "dbabc6e4-d4a2-4273-883e-0a70e8dc62a9"
   },
   "outputs": [
    {
     "ename": "FileNotFoundError",
     "evalue": "[Errno 2] No such file or directory: '/content/drive/MyDrive/ApsisSolutions/demo_files/class_map.csv'",
     "output_type": "error",
     "traceback": [
      "\u001b[0;31m---------------------------------------------------------------------------\u001b[0m",
      "\u001b[0;31mFileNotFoundError\u001b[0m                         Traceback (most recent call last)",
      "\u001b[0;32m<ipython-input-7-98bd5e5066b3>\u001b[0m in \u001b[0;36m<module>\u001b[0;34m\u001b[0m\n\u001b[1;32m     21\u001b[0m \u001b[0mfont_path\u001b[0m\u001b[0;34m=\u001b[0m\u001b[0;34m'/content/drive/MyDrive/ApsisSolutions/demo_files/Bangla.ttf'\u001b[0m\u001b[0;34m\u001b[0m\u001b[0;34m\u001b[0m\u001b[0m\n\u001b[1;32m     22\u001b[0m \u001b[0;34m\u001b[0m\u001b[0m\n\u001b[0;32m---> 23\u001b[0;31m final_image=memoHeadFunc(\n\u001b[0m\u001b[1;32m     24\u001b[0m                   \u001b[0mhead_names\u001b[0m\u001b[0;34m,\u001b[0m\u001b[0;34m\u001b[0m\u001b[0;34m\u001b[0m\u001b[0m\n\u001b[1;32m     25\u001b[0m                   \u001b[0mhead_var_names\u001b[0m\u001b[0;34m,\u001b[0m\u001b[0;34m\u001b[0m\u001b[0;34m\u001b[0m\u001b[0m\n",
      "\u001b[0;32m<ipython-input-6-add41afbfd4a>\u001b[0m in \u001b[0;36mmemoHeadFunc\u001b[0;34m(head_names, head_var_names, class_map_csv_path, font_path, font_size, bangla_num, iden)\u001b[0m\n\u001b[1;32m     54\u001b[0m \u001b[0;34m\u001b[0m\u001b[0m\n\u001b[1;32m     55\u001b[0m \u001b[0;34m\u001b[0m\u001b[0m\n\u001b[0;32m---> 56\u001b[0;31m     \u001b[0mgp\u001b[0m\u001b[0;34m=\u001b[0m\u001b[0mGraphemeParser\u001b[0m\u001b[0;34m(\u001b[0m\u001b[0mclass_map_csv_path\u001b[0m\u001b[0;34m)\u001b[0m\u001b[0;34m\u001b[0m\u001b[0;34m\u001b[0m\u001b[0m\n\u001b[0m\u001b[1;32m     57\u001b[0m \u001b[0;34m\u001b[0m\u001b[0m\n\u001b[1;32m     58\u001b[0m     \u001b[0;31m### Add space and dot with last two value of head_names list\u001b[0m\u001b[0;34m\u001b[0m\u001b[0;34m\u001b[0m\u001b[0;34m\u001b[0m\u001b[0m\n",
      "\u001b[0;32m<ipython-input-3-4d7bb226d1b4>\u001b[0m in \u001b[0;36m__init__\u001b[0;34m(self, class_map_csv)\u001b[0m\n\u001b[1;32m     19\u001b[0m         \u001b[0mself\u001b[0m\u001b[0;34m.\u001b[0m\u001b[0mclass_map_csv\u001b[0m\u001b[0;34m=\u001b[0m\u001b[0mclass_map_csv\u001b[0m\u001b[0;34m\u001b[0m\u001b[0;34m\u001b[0m\u001b[0m\n\u001b[1;32m     20\u001b[0m         \u001b[0;31m# initializes components\u001b[0m\u001b[0;34m\u001b[0m\u001b[0;34m\u001b[0m\u001b[0;34m\u001b[0m\u001b[0m\n\u001b[0;32m---> 21\u001b[0;31m         \u001b[0mself\u001b[0m\u001b[0;34m.\u001b[0m\u001b[0m__getComps\u001b[0m\u001b[0;34m(\u001b[0m\u001b[0;34m)\u001b[0m\u001b[0;34m\u001b[0m\u001b[0;34m\u001b[0m\u001b[0m\n\u001b[0m\u001b[1;32m     22\u001b[0m \u001b[0;34m\u001b[0m\u001b[0m\n\u001b[1;32m     23\u001b[0m     \u001b[0;32mdef\u001b[0m \u001b[0m__getComps\u001b[0m\u001b[0;34m(\u001b[0m\u001b[0mself\u001b[0m\u001b[0;34m)\u001b[0m\u001b[0;34m:\u001b[0m\u001b[0;34m\u001b[0m\u001b[0;34m\u001b[0m\u001b[0m\n",
      "\u001b[0;32m<ipython-input-3-4d7bb226d1b4>\u001b[0m in \u001b[0;36m__getComps\u001b[0;34m(self)\u001b[0m\n\u001b[1;32m     36\u001b[0m         '''\n\u001b[1;32m     37\u001b[0m         \u001b[0;31m# read class map\u001b[0m\u001b[0;34m\u001b[0m\u001b[0;34m\u001b[0m\u001b[0;34m\u001b[0m\u001b[0m\n\u001b[0;32m---> 38\u001b[0;31m         \u001b[0mdf_map\u001b[0m\u001b[0;34m=\u001b[0m\u001b[0mpd\u001b[0m\u001b[0;34m.\u001b[0m\u001b[0mread_csv\u001b[0m\u001b[0;34m(\u001b[0m\u001b[0mself\u001b[0m\u001b[0;34m.\u001b[0m\u001b[0mclass_map_csv\u001b[0m\u001b[0;34m)\u001b[0m\u001b[0;34m\u001b[0m\u001b[0;34m\u001b[0m\u001b[0m\n\u001b[0m\u001b[1;32m     39\u001b[0m         \u001b[0;31m# get grapheme roots\u001b[0m\u001b[0;34m\u001b[0m\u001b[0;34m\u001b[0m\u001b[0;34m\u001b[0m\u001b[0m\n\u001b[1;32m     40\u001b[0m         \u001b[0mdf_root\u001b[0m \u001b[0;34m=\u001b[0m \u001b[0mdf_map\u001b[0m\u001b[0;34m.\u001b[0m\u001b[0mgroupby\u001b[0m\u001b[0;34m(\u001b[0m\u001b[0;34m'component_type'\u001b[0m\u001b[0;34m)\u001b[0m\u001b[0;34m.\u001b[0m\u001b[0mget_group\u001b[0m\u001b[0;34m(\u001b[0m\u001b[0;34m'grapheme_root'\u001b[0m\u001b[0;34m)\u001b[0m\u001b[0;34m\u001b[0m\u001b[0;34m\u001b[0m\u001b[0m\n",
      "\u001b[0;32m~/.local/lib/python3.8/site-packages/pandas/io/parsers.py\u001b[0m in \u001b[0;36mread_csv\u001b[0;34m(filepath_or_buffer, sep, delimiter, header, names, index_col, usecols, squeeze, prefix, mangle_dupe_cols, dtype, engine, converters, true_values, false_values, skipinitialspace, skiprows, skipfooter, nrows, na_values, keep_default_na, na_filter, verbose, skip_blank_lines, parse_dates, infer_datetime_format, keep_date_col, date_parser, dayfirst, cache_dates, iterator, chunksize, compression, thousands, decimal, lineterminator, quotechar, quoting, doublequote, escapechar, comment, encoding, dialect, error_bad_lines, warn_bad_lines, delim_whitespace, low_memory, memory_map, float_precision, storage_options)\u001b[0m\n\u001b[1;32m    608\u001b[0m     \u001b[0mkwds\u001b[0m\u001b[0;34m.\u001b[0m\u001b[0mupdate\u001b[0m\u001b[0;34m(\u001b[0m\u001b[0mkwds_defaults\u001b[0m\u001b[0;34m)\u001b[0m\u001b[0;34m\u001b[0m\u001b[0;34m\u001b[0m\u001b[0m\n\u001b[1;32m    609\u001b[0m \u001b[0;34m\u001b[0m\u001b[0m\n\u001b[0;32m--> 610\u001b[0;31m     \u001b[0;32mreturn\u001b[0m \u001b[0m_read\u001b[0m\u001b[0;34m(\u001b[0m\u001b[0mfilepath_or_buffer\u001b[0m\u001b[0;34m,\u001b[0m \u001b[0mkwds\u001b[0m\u001b[0;34m)\u001b[0m\u001b[0;34m\u001b[0m\u001b[0;34m\u001b[0m\u001b[0m\n\u001b[0m\u001b[1;32m    611\u001b[0m \u001b[0;34m\u001b[0m\u001b[0m\n\u001b[1;32m    612\u001b[0m \u001b[0;34m\u001b[0m\u001b[0m\n",
      "\u001b[0;32m~/.local/lib/python3.8/site-packages/pandas/io/parsers.py\u001b[0m in \u001b[0;36m_read\u001b[0;34m(filepath_or_buffer, kwds)\u001b[0m\n\u001b[1;32m    460\u001b[0m \u001b[0;34m\u001b[0m\u001b[0m\n\u001b[1;32m    461\u001b[0m     \u001b[0;31m# Create the parser.\u001b[0m\u001b[0;34m\u001b[0m\u001b[0;34m\u001b[0m\u001b[0;34m\u001b[0m\u001b[0m\n\u001b[0;32m--> 462\u001b[0;31m     \u001b[0mparser\u001b[0m \u001b[0;34m=\u001b[0m \u001b[0mTextFileReader\u001b[0m\u001b[0;34m(\u001b[0m\u001b[0mfilepath_or_buffer\u001b[0m\u001b[0;34m,\u001b[0m \u001b[0;34m**\u001b[0m\u001b[0mkwds\u001b[0m\u001b[0;34m)\u001b[0m\u001b[0;34m\u001b[0m\u001b[0;34m\u001b[0m\u001b[0m\n\u001b[0m\u001b[1;32m    463\u001b[0m \u001b[0;34m\u001b[0m\u001b[0m\n\u001b[1;32m    464\u001b[0m     \u001b[0;32mif\u001b[0m \u001b[0mchunksize\u001b[0m \u001b[0;32mor\u001b[0m \u001b[0miterator\u001b[0m\u001b[0;34m:\u001b[0m\u001b[0;34m\u001b[0m\u001b[0;34m\u001b[0m\u001b[0m\n",
      "\u001b[0;32m~/.local/lib/python3.8/site-packages/pandas/io/parsers.py\u001b[0m in \u001b[0;36m__init__\u001b[0;34m(self, f, engine, **kwds)\u001b[0m\n\u001b[1;32m    817\u001b[0m             \u001b[0mself\u001b[0m\u001b[0;34m.\u001b[0m\u001b[0moptions\u001b[0m\u001b[0;34m[\u001b[0m\u001b[0;34m\"has_index_names\"\u001b[0m\u001b[0;34m]\u001b[0m \u001b[0;34m=\u001b[0m \u001b[0mkwds\u001b[0m\u001b[0;34m[\u001b[0m\u001b[0;34m\"has_index_names\"\u001b[0m\u001b[0;34m]\u001b[0m\u001b[0;34m\u001b[0m\u001b[0;34m\u001b[0m\u001b[0m\n\u001b[1;32m    818\u001b[0m \u001b[0;34m\u001b[0m\u001b[0m\n\u001b[0;32m--> 819\u001b[0;31m         \u001b[0mself\u001b[0m\u001b[0;34m.\u001b[0m\u001b[0m_engine\u001b[0m \u001b[0;34m=\u001b[0m \u001b[0mself\u001b[0m\u001b[0;34m.\u001b[0m\u001b[0m_make_engine\u001b[0m\u001b[0;34m(\u001b[0m\u001b[0mself\u001b[0m\u001b[0;34m.\u001b[0m\u001b[0mengine\u001b[0m\u001b[0;34m)\u001b[0m\u001b[0;34m\u001b[0m\u001b[0;34m\u001b[0m\u001b[0m\n\u001b[0m\u001b[1;32m    820\u001b[0m \u001b[0;34m\u001b[0m\u001b[0m\n\u001b[1;32m    821\u001b[0m     \u001b[0;32mdef\u001b[0m \u001b[0mclose\u001b[0m\u001b[0;34m(\u001b[0m\u001b[0mself\u001b[0m\u001b[0;34m)\u001b[0m\u001b[0;34m:\u001b[0m\u001b[0;34m\u001b[0m\u001b[0;34m\u001b[0m\u001b[0m\n",
      "\u001b[0;32m~/.local/lib/python3.8/site-packages/pandas/io/parsers.py\u001b[0m in \u001b[0;36m_make_engine\u001b[0;34m(self, engine)\u001b[0m\n\u001b[1;32m   1048\u001b[0m             )\n\u001b[1;32m   1049\u001b[0m         \u001b[0;31m# error: Too many arguments for \"ParserBase\"\u001b[0m\u001b[0;34m\u001b[0m\u001b[0;34m\u001b[0m\u001b[0;34m\u001b[0m\u001b[0m\n\u001b[0;32m-> 1050\u001b[0;31m         \u001b[0;32mreturn\u001b[0m \u001b[0mmapping\u001b[0m\u001b[0;34m[\u001b[0m\u001b[0mengine\u001b[0m\u001b[0;34m]\u001b[0m\u001b[0;34m(\u001b[0m\u001b[0mself\u001b[0m\u001b[0;34m.\u001b[0m\u001b[0mf\u001b[0m\u001b[0;34m,\u001b[0m \u001b[0;34m**\u001b[0m\u001b[0mself\u001b[0m\u001b[0;34m.\u001b[0m\u001b[0moptions\u001b[0m\u001b[0;34m)\u001b[0m  \u001b[0;31m# type: ignore[call-arg]\u001b[0m\u001b[0;34m\u001b[0m\u001b[0;34m\u001b[0m\u001b[0m\n\u001b[0m\u001b[1;32m   1051\u001b[0m \u001b[0;34m\u001b[0m\u001b[0m\n\u001b[1;32m   1052\u001b[0m     \u001b[0;32mdef\u001b[0m \u001b[0m_failover_to_python\u001b[0m\u001b[0;34m(\u001b[0m\u001b[0mself\u001b[0m\u001b[0;34m)\u001b[0m\u001b[0;34m:\u001b[0m\u001b[0;34m\u001b[0m\u001b[0;34m\u001b[0m\u001b[0m\n",
      "\u001b[0;32m~/.local/lib/python3.8/site-packages/pandas/io/parsers.py\u001b[0m in \u001b[0;36m__init__\u001b[0;34m(self, src, **kwds)\u001b[0m\n\u001b[1;32m   1865\u001b[0m \u001b[0;34m\u001b[0m\u001b[0m\n\u001b[1;32m   1866\u001b[0m         \u001b[0;31m# open handles\u001b[0m\u001b[0;34m\u001b[0m\u001b[0;34m\u001b[0m\u001b[0;34m\u001b[0m\u001b[0m\n\u001b[0;32m-> 1867\u001b[0;31m         \u001b[0mself\u001b[0m\u001b[0;34m.\u001b[0m\u001b[0m_open_handles\u001b[0m\u001b[0;34m(\u001b[0m\u001b[0msrc\u001b[0m\u001b[0;34m,\u001b[0m \u001b[0mkwds\u001b[0m\u001b[0;34m)\u001b[0m\u001b[0;34m\u001b[0m\u001b[0;34m\u001b[0m\u001b[0m\n\u001b[0m\u001b[1;32m   1868\u001b[0m         \u001b[0;32massert\u001b[0m \u001b[0mself\u001b[0m\u001b[0;34m.\u001b[0m\u001b[0mhandles\u001b[0m \u001b[0;32mis\u001b[0m \u001b[0;32mnot\u001b[0m \u001b[0;32mNone\u001b[0m\u001b[0;34m\u001b[0m\u001b[0;34m\u001b[0m\u001b[0m\n\u001b[1;32m   1869\u001b[0m         \u001b[0;32mfor\u001b[0m \u001b[0mkey\u001b[0m \u001b[0;32min\u001b[0m \u001b[0;34m(\u001b[0m\u001b[0;34m\"storage_options\"\u001b[0m\u001b[0;34m,\u001b[0m \u001b[0;34m\"encoding\"\u001b[0m\u001b[0;34m,\u001b[0m \u001b[0;34m\"memory_map\"\u001b[0m\u001b[0;34m,\u001b[0m \u001b[0;34m\"compression\"\u001b[0m\u001b[0;34m)\u001b[0m\u001b[0;34m:\u001b[0m\u001b[0;34m\u001b[0m\u001b[0;34m\u001b[0m\u001b[0m\n",
      "\u001b[0;32m~/.local/lib/python3.8/site-packages/pandas/io/parsers.py\u001b[0m in \u001b[0;36m_open_handles\u001b[0;34m(self, src, kwds)\u001b[0m\n\u001b[1;32m   1360\u001b[0m         \u001b[0mLet\u001b[0m \u001b[0mthe\u001b[0m \u001b[0mreaders\u001b[0m \u001b[0mopen\u001b[0m \u001b[0mIOHanldes\u001b[0m \u001b[0mafter\u001b[0m \u001b[0mthey\u001b[0m \u001b[0mare\u001b[0m \u001b[0mdone\u001b[0m \u001b[0;32mwith\u001b[0m \u001b[0mtheir\u001b[0m \u001b[0mpotential\u001b[0m \u001b[0mraises\u001b[0m\u001b[0;34m.\u001b[0m\u001b[0;34m\u001b[0m\u001b[0;34m\u001b[0m\u001b[0m\n\u001b[1;32m   1361\u001b[0m         \"\"\"\n\u001b[0;32m-> 1362\u001b[0;31m         self.handles = get_handle(\n\u001b[0m\u001b[1;32m   1363\u001b[0m             \u001b[0msrc\u001b[0m\u001b[0;34m,\u001b[0m\u001b[0;34m\u001b[0m\u001b[0;34m\u001b[0m\u001b[0m\n\u001b[1;32m   1364\u001b[0m             \u001b[0;34m\"r\"\u001b[0m\u001b[0;34m,\u001b[0m\u001b[0;34m\u001b[0m\u001b[0;34m\u001b[0m\u001b[0m\n",
      "\u001b[0;32m~/.local/lib/python3.8/site-packages/pandas/io/common.py\u001b[0m in \u001b[0;36mget_handle\u001b[0;34m(path_or_buf, mode, encoding, compression, memory_map, is_text, errors, storage_options)\u001b[0m\n\u001b[1;32m    640\u001b[0m                 \u001b[0merrors\u001b[0m \u001b[0;34m=\u001b[0m \u001b[0;34m\"replace\"\u001b[0m\u001b[0;34m\u001b[0m\u001b[0;34m\u001b[0m\u001b[0m\n\u001b[1;32m    641\u001b[0m             \u001b[0;31m# Encoding\u001b[0m\u001b[0;34m\u001b[0m\u001b[0;34m\u001b[0m\u001b[0;34m\u001b[0m\u001b[0m\n\u001b[0;32m--> 642\u001b[0;31m             handle = open(\n\u001b[0m\u001b[1;32m    643\u001b[0m                 \u001b[0mhandle\u001b[0m\u001b[0;34m,\u001b[0m\u001b[0;34m\u001b[0m\u001b[0;34m\u001b[0m\u001b[0m\n\u001b[1;32m    644\u001b[0m                 \u001b[0mioargs\u001b[0m\u001b[0;34m.\u001b[0m\u001b[0mmode\u001b[0m\u001b[0;34m,\u001b[0m\u001b[0;34m\u001b[0m\u001b[0;34m\u001b[0m\u001b[0m\n",
      "\u001b[0;31mFileNotFoundError\u001b[0m: [Errno 2] No such file or directory: '/content/drive/MyDrive/ApsisSolutions/demo_files/class_map.csv'"
     ]
    }
   ],
   "source": [
    "### Call Function: memoHeadFunc()\n",
    "\n",
    "head_names=[\n",
    "               \"এ.স. এন্টারপ্রাইজ\",\n",
    "               \"ড্রিস্ট্রিবিউটরঃ এম/এস হাশেম ট্রেডিং\",\n",
    "               \"হাউস নাম্বারঃ ১২৩৪, বাড্ডা, গুলশান, ঢাকা।\",    \n",
    "               \"মোবাইল নাম্বারঃ ০১৭২৩৪৫৬৭৮৯\",\n",
    "               \"নাম্বারঃ\",\n",
    "               \"তারিখঃ\"\n",
    "               ] \n",
    "\n",
    "head_var_names=[\n",
    "                \n",
    "               \"আউটলেটের নামঃ\",\n",
    "               \"রাউটঃ\",\n",
    "               \"ঠিকানাঃ\"\n",
    "                \n",
    "                ]\n",
    "\n",
    "class_map_csv='/home/rezwanul/Desktop/Apsis_Bangla_Handwritten/synthdata/__notes__/class_map.csv'\n",
    "font_path='/home/rezwanul/Desktop/Apsis_Bangla_Handwritten/synthdata/__notes__/Bangla.ttf'\n",
    "\n",
    "final_image=memoHeadFunc(\n",
    "                  head_names,\n",
    "                  head_var_names,\n",
    "                  class_map_csv_path=class_map_csv,\n",
    "                  font_path=font_path)\n",
    "\n",
    "### Clean View\n",
    "final_image[final_image>0]=255\n",
    "plt.imshow(final_image)\n",
    "plt.show()\n"
   ]
  },
  {
   "cell_type": "code",
   "execution_count": null,
   "metadata": {
    "colab": {
     "base_uri": "https://localhost:8080/",
     "height": 269
    },
    "id": "1sCxGbrR3dmF",
    "outputId": "35500bde-a607-430e-ef68-2d2151bbd1fb"
   },
   "outputs": [],
   "source": [
    "### Call Function: memoHeadFunc()\n",
    "\n",
    "head_names=[\n",
    "               \"ঢাকা সার্ভিস\", \n",
    "               \"এ.স. এন্টারপ্রাইজ\",\n",
    "               \"ড্রিস্ট্রিবিউটরঃ এম/এস হাশেম ট্রেডিং\",\n",
    "               \"হাউস নাম্বারঃ ১২৩৪, বাড্ডা, গুলশান, ঢাকা।\",    \n",
    "               \"মোবাইল নাম্বারঃ ০১৭২৩৪৫৬৭৮৯\",\n",
    "               \"নাম্বারঃ\",\n",
    "               \"তারিখঃ\"\n",
    "               ] \n",
    "\n",
    "head_var_names=[\n",
    "                \n",
    "               \"আউটলেটের নামঃ\",\n",
    "               \"রাউটঃ\",\n",
    "               \"ঠিকানাঃ\",\n",
    "                \"জাতীয়তাঃ\" \n",
    "                \n",
    "                ]\n",
    "\n",
    "class_map_csv='/home/rezwanul/Desktop/Apsis_Bangla_Handwritten/synthdata/__notes__/class_map.csv'\n",
    "font_path='/home/rezwanul/Desktop/Apsis_Bangla_Handwritten/synthdata/__notes__/Bangla.ttf'\n",
    "\n",
    "final_image=memoHeadFunc(\n",
    "                  head_names,\n",
    "                  head_var_names,\n",
    "                  class_map_csv_path=class_map_csv,\n",
    "                  font_path=font_path)\n",
    "\n",
    "### Clean View\n",
    "final_image[final_image>0]=255\n",
    "plt.imshow(final_image)\n",
    "plt.show()"
   ]
  },
  {
   "cell_type": "markdown",
   "metadata": {
    "id": "-Dk9D6nXmusZ"
   },
   "source": [
    "### Clear View"
   ]
  },
  {
   "cell_type": "code",
   "execution_count": 15,
   "metadata": {
    "colab": {
     "base_uri": "https://localhost:8080/",
     "height": 269
    },
    "id": "BjxCwktSmwjj",
    "outputId": "24e06f40-8e75-4844-8b0d-7d7882890bab"
   },
   "outputs": [
    {
     "data": {
      "image/png": "[encoded data removed]",
      "text/plain": [
       "<Figure size 432x288 with 1 Axes>"
      ]
     },
     "metadata": {
      "needs_background": "light",
      "tags": []
     },
     "output_type": "display_data"
    }
   ],
   "source": [
    "final_image[final_image>0]=255\n",
    "plt.imshow(final_image)\n",
    "plt.show()"
   ]
  },
  {
   "cell_type": "code",
   "execution_count": 15,
   "metadata": {
    "id": "JluK6sEAm6fM"
   },
   "outputs": [],
   "source": []
  },
  {
   "cell_type": "code",
   "execution_count": 15,
   "metadata": {
    "id": "27f-4qn8m619"
   },
   "outputs": [],
   "source": []
  },
  {
   "cell_type": "code",
   "execution_count": 15,
   "metadata": {
    "id": "ngkbRdGrh8DH"
   },
   "outputs": [],
   "source": []
  }
 ],
 "metadata": {
  "colab": {
   "collapsed_sections": [],
   "name": "Head Text Placement Function.ipynb",
   "provenance": []
  },
  "kernelspec": {
   "display_name": "Python 3",
   "language": "python",
   "name": "python3"
  },
  "language_info": {
   "codemirror_mode": {
    "name": "ipython",
    "version": 3
   },
   "file_extension": ".py",
   "mimetype": "text/x-python",
   "name": "python",
   "nbconvert_exporter": "python",
   "pygments_lexer": "ipython3",
   "version": "3.8.5"
  }
 },
 "nbformat": 4,
 "nbformat_minor": 1
}
