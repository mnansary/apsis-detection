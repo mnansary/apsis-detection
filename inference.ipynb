{
 "cells": [
  {
   "cell_type": "markdown",
   "id": "another-wholesale",
   "metadata": {},
   "source": [
    "# Set Proper Weight Path"
   ]
  },
  {
   "cell_type": "code",
   "execution_count": null,
   "id": "higher-aerospace",
   "metadata": {},
   "outputs": [],
   "source": [
    "weight_path='/media/ansary/DriveData/Work/bengalAI/banglaCraft/models/densenet121.h5'"
   ]
  },
  {
   "cell_type": "markdown",
   "id": "proprietary-garbage",
   "metadata": {},
   "source": [
    "# Imports"
   ]
  },
  {
   "cell_type": "code",
   "execution_count": null,
   "id": "skilled-shopping",
   "metadata": {},
   "outputs": [],
   "source": [
    "import tensorflow as tf\n",
    "from tensorflow import keras\n",
    "import os \n",
    "import numpy as np\n",
    "import cv2\n",
    "import matplotlib.pyplot as plt\n",
    "%matplotlib inline"
   ]
  },
  {
   "cell_type": "markdown",
   "id": "clear-simulation",
   "metadata": {},
   "source": [
    "# Modeling"
   ]
  },
  {
   "cell_type": "code",
   "execution_count": null,
   "id": "valued-taiwan",
   "metadata": {},
   "outputs": [],
   "source": [
    "\n",
    "#--------------------\n",
    "# up-conv implemented from paper\n",
    "#--------------------\n",
    "\n",
    "def upconv(x, n, filters):\n",
    "    x = keras.layers.Conv2D(filters=filters, kernel_size=1, strides=1, name=f'upconv{n}.conv.0')(x)\n",
    "    x = keras.layers.BatchNormalization(epsilon=1e-5, momentum=0.9, name=f'upconv{n}.conv.1')(x)\n",
    "    x = keras.layers.Activation('relu', name=f'upconv{n}.conv.2')(x)\n",
    "    x = keras.layers.Conv2D(filters=filters // 2,\n",
    "                            kernel_size=3,\n",
    "                            strides=1,\n",
    "                            padding='same',\n",
    "                            name=f'upconv{n}.conv.3')(x)\n",
    "    x = keras.layers.BatchNormalization(epsilon=1e-5, momentum=0.9, name=f'upconv{n}.conv.4')(x)\n",
    "    x = keras.layers.Activation('relu', name=f'upconv{n}.conv.5')(x)\n",
    "    return x\n",
    "\n",
    "\n",
    "\n",
    "\n",
    "\n",
    "\n",
    "\n",
    "\n",
    "def build_backbone(inputs,weights):\n",
    "    backbone = tf.keras.applications.DenseNet121(include_top=False,\n",
    "                                                    input_tensor=inputs,\n",
    "                                                    weights=weights)\n",
    "    return [backbone.get_layer(index=i).output for i in [311, 139, 51, 4]]\n",
    "\n",
    "\n",
    "def base_model(input_shape=(512,512,3),weights=None):\n",
    "    '''\n",
    "        creates the craft model\n",
    "        args:\n",
    "            input_shape   :   the input shape of each image (defalut:(512,512,3))\n",
    "            weights       :   weights for transfer learning (default:None, Available:imagenet)\n",
    "        returns:\n",
    "            a tf.keras model \n",
    "    '''\n",
    "    inputs = keras.layers.Input(input_shape)\n",
    "\n",
    "    s4, s3, s2, s1 = build_backbone(inputs=inputs,weights=weights)\n",
    "\n",
    "    s5 = keras.layers.MaxPooling2D(pool_size=3, strides=1, padding='same',\n",
    "                                   name='basenet.slice5.0')(s4)\n",
    "    s5 = keras.layers.Conv2D(1024,\n",
    "                             kernel_size=(3, 3),\n",
    "                             padding='same',\n",
    "                             strides=1,\n",
    "                             dilation_rate=6,\n",
    "                             name='basenet.slice5.1')(s5)\n",
    "    s5 = keras.layers.Conv2D(1024,\n",
    "                             kernel_size=1,\n",
    "                             strides=1,\n",
    "                             padding='same',\n",
    "                             name='basenet.slice5.2')(s5)\n",
    "\n",
    "    \n",
    "    \n",
    "    \n",
    "    y = keras.layers.Concatenate()([s5, s4])\n",
    "    y = upconv(y, n=1, filters=512)\n",
    "    y = keras.layers.UpSampling2D(size=(2, 2),interpolation='bilinear')(y)\n",
    "    \n",
    "    y = keras.layers.Concatenate()([y, s3])\n",
    "    y = upconv(y, n=2, filters=256)\n",
    "    y = keras.layers.UpSampling2D(size=(2, 2),interpolation='bilinear')(y)\n",
    "    \n",
    "    y = keras.layers.Concatenate()([y, s2])\n",
    "    y = upconv(y, n=3, filters=128)\n",
    "    y = keras.layers.UpSampling2D(size=(2, 2),interpolation='bilinear')(y)\n",
    "    \n",
    "    y = keras.layers.Concatenate()([y, s1])\n",
    "    \n",
    "    features = upconv(y, n=4, filters=64)\n",
    "\n",
    "    y = keras.layers.Conv2D(filters=32, kernel_size=3, strides=1, padding='same',\n",
    "                            name='conv_cls.0')(features)\n",
    "    y = keras.layers.Activation('relu', name='conv_cls.1')(y)\n",
    "    y = keras.layers.Conv2D(filters=32, kernel_size=3, strides=1, padding='same',\n",
    "                            name='conv_cls.2')(y)\n",
    "    y = keras.layers.Activation('relu', name='conv_cls.3')(y)\n",
    "    y = keras.layers.Conv2D(filters=16, kernel_size=3, strides=1, padding='same',\n",
    "                            name='conv_cls.4')(y)\n",
    "    y = keras.layers.Activation('relu', name='conv_cls.5')(y)\n",
    "    y = keras.layers.Conv2D(filters=16, kernel_size=1, strides=1, padding='same',\n",
    "                            name='conv_cls.6')(y)\n",
    "    y = keras.layers.Activation('relu', name='conv_cls.7')(y)\n",
    "    y = keras.layers.Conv2D(filters=2, kernel_size=1, strides=1, padding='same',\n",
    "                            name='conv_cls.8')(y)\n",
    "    y = keras.layers.Activation('sigmoid')(y)\n",
    "    \n",
    "    model = keras.models.Model(inputs=inputs, outputs=y)\n",
    "    \n",
    "    return model\n",
    "\n",
    "model=base_model()\n",
    "model.load_weights(weight_path)\n",
    "print(\"loaded model weights\")"
   ]
  },
  {
   "cell_type": "markdown",
   "id": "academic-chorus",
   "metadata": {},
   "source": [
    "# Inference\n",
    "* **properly give the image path to infer on**"
   ]
  },
  {
   "cell_type": "code",
   "execution_count": null,
   "id": "danish-treasurer",
   "metadata": {},
   "outputs": [],
   "source": [
    "img_path=\"/media/ansary/DriveData/Work/APSIS/RetData/t.png\""
   ]
  },
  {
   "cell_type": "code",
   "execution_count": null,
   "id": "motivated-commitment",
   "metadata": {},
   "outputs": [],
   "source": [
    "img=cv2.imread(img_path)\n",
    "img=cv2.resize(img,(512,512))\n",
    "img=cv2.cvtColor(img,cv2.COLOR_BGR2RGB)\n",
    "plt.imshow(img)\n",
    "plt.show()"
   ]
  },
  {
   "cell_type": "code",
   "execution_count": null,
   "id": "innovative-consultancy",
   "metadata": {},
   "outputs": [],
   "source": [
    "data=np.expand_dims(img,axis=0)\n",
    "data=data/255.0\n",
    "pred=model.predict(data)[0]\n",
    "tmap=np.squeeze(pred[:,:,0])\n",
    "lmap=np.squeeze(pred[:,:,1])\n"
   ]
  },
  {
   "cell_type": "code",
   "execution_count": null,
   "id": "single-highway",
   "metadata": {},
   "outputs": [],
   "source": [
    "from coreLib.core import getBoxes,drawBoxes\n",
    "boxes=getBoxes(tmap,lmap)\n",
    "canvas=drawBoxes(img,boxes)\n",
    "plt.imshow(canvas)\n",
    "plt.show()"
   ]
  },
  {
   "cell_type": "code",
   "execution_count": null,
   "id": "optimum-rehabilitation",
   "metadata": {},
   "outputs": [],
   "source": []
  }
 ],
 "metadata": {
  "kernelspec": {
   "display_name": "bengalai",
   "language": "python",
   "name": "bengalai"
  },
  "language_info": {
   "codemirror_mode": {
    "name": "ipython",
    "version": 3
   },
   "file_extension": ".py",
   "mimetype": "text/x-python",
   "name": "python",
   "nbconvert_exporter": "python",
   "pygments_lexer": "ipython3",
   "version": "3.6.9"
  }
 },
 "nbformat": 4,
 "nbformat_minor": 5
}
