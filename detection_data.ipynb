{
 "cells": [
  {
   "cell_type": "code",
   "execution_count": 1,
   "id": "a4436920",
   "metadata": {},
   "outputs": [
    {
     "name": "stdout",
     "output_type": "stream",
     "text": [
      "\u001b[32m#LOG     :\u001b[0m\u001b[32mAll paths found\u001b[0m\n"
     ]
    },
    {
     "name": "stderr",
     "output_type": "stream",
     "text": [
      "100%|██████████| 200840/200840 [00:00<00:00, 346767.54it/s]\n",
      "100%|██████████| 72045/72045 [00:00<00:00, 372571.56it/s]\n",
      "  0%|          | 1376/1059977 [00:00<01:29, 11781.80it/s]"
     ]
    },
    {
     "name": "stdout",
     "output_type": "stream",
     "text": [
      "\u001b[32m#LOG     :\u001b[0m\u001b[34mProcessing Dictionary:/media/ansary/DriveData/Work/bengalAI/datasets/CraftData/source/bangla/dictionary.csv\u001b[0m\n"
     ]
    },
    {
     "name": "stderr",
     "output_type": "stream",
     "text": [
      "100%|██████████| 1059977/1059977 [00:21<00:00, 48271.78it/s]\n",
      "100%|██████████| 46101/46101 [00:00<00:00, 274855.02it/s]\n",
      "100%|██████████| 10305/10305 [00:00<00:00, 224133.24it/s]\n",
      "100%|██████████| 10305/10305 [00:00<00:00, 563825.55it/s]\n"
     ]
    },
    {
     "name": "stdout",
     "output_type": "stream",
     "text": [
      "\u001b[32m#LOG     :\u001b[0m\u001b[34mconverting int labels to string\u001b[0m\n"
     ]
    },
    {
     "name": "stderr",
     "output_type": "stream",
     "text": [
      "  1%|          | 3464/370098 [00:00<00:10, 34635.08it/s]"
     ]
    },
    {
     "name": "stdout",
     "output_type": "stream",
     "text": [
      "\u001b[32m#LOG     :\u001b[0m\u001b[34mProcessing Dictionary:/media/ansary/DriveData/Work/bengalAI/datasets/CraftData/source/english/dictionary.csv\u001b[0m\n"
     ]
    },
    {
     "name": "stderr",
     "output_type": "stream",
     "text": [
      "100%|██████████| 370098/370098 [00:10<00:00, 34906.74it/s]\n",
      "100%|██████████| 5975/5975 [00:00<00:00, 217156.68it/s]\n"
     ]
    },
    {
     "name": "stdout",
     "output_type": "stream",
     "text": [
      "\u001b[32m#LOG     :\u001b[0m\u001b[34mbangla.graphemes\u001b[0m\n"
     ]
    },
    {
     "name": "stderr",
     "output_type": "stream",
     "text": [
      "100%|██████████| 200840/200840 [00:00<00:00, 1448704.53it/s]\n"
     ]
    },
    {
     "name": "stdout",
     "output_type": "stream",
     "text": [
      "\u001b[32m#LOG     :\u001b[0m\u001b[34mbangla.numbers\u001b[0m\n"
     ]
    },
    {
     "name": "stderr",
     "output_type": "stream",
     "text": [
      "100%|██████████| 72045/72045 [00:00<00:00, 2750704.40it/s]\n",
      "100%|██████████| 46101/46101 [00:00<00:00, 3352142.03it/s]\n"
     ]
    },
    {
     "name": "stdout",
     "output_type": "stream",
     "text": [
      "\u001b[32m#LOG     :\u001b[0m\u001b[34menglish.graphemes\u001b[0m\n",
      "\u001b[32m#LOG     :\u001b[0m\u001b[34menglish.numbers\u001b[0m\n"
     ]
    },
    {
     "name": "stderr",
     "output_type": "stream",
     "text": [
      "100%|██████████| 10305/10305 [00:00<00:00, 2158524.91it/s]\n",
      "100%|██████████| 5975/5975 [00:00<00:00, 1584432.34it/s]\n",
      "100%|██████████| 21/21 [00:00<00:00, 143220.14it/s]\n",
      "100%|██████████| 2682/2682 [00:00<00:00, 2610005.41it/s]\n",
      "100%|██████████| 982/982 [00:00<00:00, 2373951.89it/s]\n"
     ]
    },
    {
     "name": "stdout",
     "output_type": "stream",
     "text": [
      "\u001b[32m#LOG     :\u001b[0m\u001b[34mcommon.symbols\u001b[0m\n",
      "\u001b[32m#LOG     :\u001b[0m\u001b[34mbangla.fonts\u001b[0m\n",
      "\u001b[32m#LOG     :\u001b[0m\u001b[34menglish.fonts\u001b[0m\n",
      "\u001b[32m#LOG     :\u001b[0m\u001b[34mcommon.background\u001b[0m\n",
      "\u001b[32m#LOG     :\u001b[0m\u001b[34mcommon.noise.random\u001b[0m\n"
     ]
    },
    {
     "name": "stderr",
     "output_type": "stream",
     "text": [
      "100%|██████████| 112763/112763 [00:00<00:00, 2400299.94it/s]\n",
      "100%|██████████| 3240/3240 [00:00<00:00, 2531112.86it/s]\n"
     ]
    },
    {
     "name": "stdout",
     "output_type": "stream",
     "text": [
      "\u001b[32m#LOG     :\u001b[0m\u001b[34mcommon.noise.sign\u001b[0m\n"
     ]
    }
   ],
   "source": [
    "from coreLib.dataset import DataSet\n",
    "from coreLib.utils import create_dir,LOG_INFO\n",
    "data_dir       = \"/media/ansary/DriveData/Work/bengalAI/datasets/CraftData/source/\"\n",
    "save_dir       = \"/media/ansary/DriveData/Work/bengalAI/datasets/CraftData/\"\n",
    "ds=DataSet(data_dir)\n",
    "\n",
    "# data\n",
    "nb_train  =  25000\n",
    "nb_test   =  5000\n",
    "\n",
    "\n",
    "# create dirs\n",
    "save_dir   =  create_dir(save_dir,\"banglaDetHor\")\n",
    "train_dir  =  create_dir(save_dir,\"train\")\n",
    "test_dir   =  create_dir(save_dir,\"test\")\n",
    "\n",
    "# train\n",
    "train_image_dir  =  create_dir(train_dir,\"images\")\n",
    "train_char_dir   =  create_dir(train_dir,\"char_level\")\n",
    "train_word_dir   =  create_dir(train_dir,\"word_level\")\n",
    "train_poly_dir   =  create_dir(train_dir,\"annotations\")\n",
    "\n",
    "\n",
    "\n",
    "# test\n",
    "test_image_dir  =  create_dir(test_dir,\"images\")\n",
    "test_char_dir   =  create_dir(test_dir,\"char_level\")\n",
    "test_word_dir   =  create_dir(test_dir,\"word_level\")\n",
    "test_poly_dir   =  create_dir(test_dir,\"annotations\")"
   ]
  },
  {
   "cell_type": "code",
   "execution_count": 2,
   "id": "64acd65d",
   "metadata": {},
   "outputs": [],
   "source": [
    "class train:\n",
    "    image=train_image_dir\n",
    "    char =train_char_dir\n",
    "    word =train_word_dir\n",
    "    poly =train_poly_dir\n",
    "\n",
    "class test:\n",
    "    image=test_image_dir\n",
    "    char =test_char_dir\n",
    "    word =test_word_dir\n",
    "    poly =test_poly_dir"
   ]
  },
  {
   "cell_type": "code",
   "execution_count": 3,
   "id": "b8495dcf",
   "metadata": {},
   "outputs": [
    {
     "name": "stderr",
     "output_type": "stream",
     "text": [
      "100%|██████████| 982/982 [00:00<00:00, 1567874.58it/s]\n"
     ]
    }
   ],
   "source": [
    "from coreLib.render import createSceneImage,backgroundGenerator,createImageData\n",
    "from coreLib.config import config\n",
    "from coreLib.format import convertToTotalText\n",
    "backGen=backgroundGenerator(ds,dim=(config.back_dim,config.back_dim))\n",
    "back=next(backGen)"
   ]
  },
  {
   "cell_type": "code",
   "execution_count": 4,
   "id": "47c2c765",
   "metadata": {},
   "outputs": [],
   "source": [
    "import os\n",
    "import cv2\n",
    "from tqdm.auto import tqdm\n",
    "import matplotlib.pyplot as plt\n",
    "def saveData(nb,mode):\n",
    "    '''\n",
    "        number of images to save\n",
    "    '''\n",
    "    for i in tqdm(range(nb)):\n",
    "        try:\n",
    "            # data execution\n",
    "            page,labels=createSceneImage(ds)\n",
    "            back=createImageData(backGen,page,labels)\n",
    "            charmap,wordmap,lines=convertToTotalText(page,labels)\n",
    "            plt.imshow(wordmap)\n",
    "            plt.show()\n",
    "            # data formation\n",
    "            img_path =os.path.join(mode.image,f\"img{i}.png\")\n",
    "            char_path=os.path.join(mode.char,f\"img{i}.png\")\n",
    "            word_path=os.path.join(mode.word,f\"img{i}.png\")\n",
    "            poly_path=os.path.join(mode.poly,f\"ploy_gt_img{i}.txt\")\n",
    "            # save\n",
    "            cv2.imwrite(img_path,back)\n",
    "            cv2.imwrite(char_path,charmap)\n",
    "            cv2.imwrite(word_path,wordmap)\n",
    "            with open(poly_path,\"w\") as pt:\n",
    "                for line in lines:\n",
    "                    pt.write(f\"{line}\\n\")\n",
    "        except Exception as e:\n",
    "            pass\n",
    "        \n",
    "            "
   ]
  },
  {
   "cell_type": "code",
   "execution_count": 5,
   "id": "c97548f9",
   "metadata": {},
   "outputs": [
    {
     "data": {
      "application/vnd.jupyter.widget-view+json": {
       "model_id": "255b851dbc944ce0b82f4103645bd69f",
       "version_major": 2,
       "version_minor": 0
      },
      "text/plain": [
       "  0%|          | 0/1 [00:00<?, ?it/s]"
      ]
     },
     "metadata": {},
     "output_type": "display_data"
    },
    {
     "data": {
      "image/png": "[encoded data removed]",
      "text/plain": [
       "<Figure size 432x288 with 1 Axes>"
      ]
     },
     "metadata": {
      "needs_background": "light"
     },
     "output_type": "display_data"
    }
   ],
   "source": [
    " #saveData(nb_train,train)\n",
    " saveData(1,test)\n",
    "    "
   ]
  },
  {
   "cell_type": "code",
   "execution_count": null,
   "id": "f2050f2d",
   "metadata": {},
   "outputs": [],
   "source": []
  }
 ],
 "metadata": {
  "kernelspec": {
   "display_name": "bangla",
   "language": "python",
   "name": "bangla"
  },
  "language_info": {
   "codemirror_mode": {
    "name": "ipython",
    "version": 3
   },
   "file_extension": ".py",
   "mimetype": "text/x-python",
   "name": "python",
   "nbconvert_exporter": "python",
   "pygments_lexer": "ipython3",
   "version": "3.8.5"
  }
 },
 "nbformat": 4,
 "nbformat_minor": 5
}
