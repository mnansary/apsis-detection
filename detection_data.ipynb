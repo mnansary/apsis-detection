{
 "cells": [
  {
   "cell_type": "code",
   "execution_count": 1,
   "id": "a4436920",
   "metadata": {},
   "outputs": [
    {
     "name": "stderr",
     "output_type": "stream",
     "text": [
      " 38%|███▊      | 76361/200840 [00:00<00:00, 763608.91it/s]"
     ]
    },
    {
     "name": "stdout",
     "output_type": "stream",
     "text": [
      "\u001b[32m#LOG     :\u001b[0m\u001b[32mAll paths found\u001b[0m\n"
     ]
    },
    {
     "name": "stderr",
     "output_type": "stream",
     "text": [
      "100%|██████████| 200840/200840 [00:00<00:00, 811538.26it/s]\n",
      "100%|██████████| 72045/72045 [00:00<00:00, 787296.67it/s]\n",
      "  2%|▏         | 17877/1059977 [00:00<00:11, 91913.23it/s]"
     ]
    },
    {
     "name": "stdout",
     "output_type": "stream",
     "text": [
      "\u001b[32m#LOG     :\u001b[0m\u001b[34mProcessing Dictionary:/home/apsisdev/ansary/sourcedata/bangla/dictionary.csv\u001b[0m\n"
     ]
    },
    {
     "name": "stderr",
     "output_type": "stream",
     "text": [
      "100%|██████████| 1059977/1059977 [00:10<00:00, 103033.49it/s]\n",
      "100%|██████████| 46101/46101 [00:00<00:00, 773372.19it/s]\n",
      "100%|██████████| 10305/10305 [00:00<00:00, 783566.34it/s]\n",
      "100%|██████████| 10305/10305 [00:00<00:00, 1328282.20it/s]\n"
     ]
    },
    {
     "name": "stdout",
     "output_type": "stream",
     "text": [
      "\u001b[32m#LOG     :\u001b[0m\u001b[34mconverting int labels to string\u001b[0m\n"
     ]
    },
    {
     "name": "stderr",
     "output_type": "stream",
     "text": [
      "  2%|▏         | 7994/370098 [00:00<00:04, 79935.69it/s]"
     ]
    },
    {
     "name": "stdout",
     "output_type": "stream",
     "text": [
      "\u001b[32m#LOG     :\u001b[0m\u001b[34mProcessing Dictionary:/home/apsisdev/ansary/sourcedata/english/dictionary.csv\u001b[0m\n"
     ]
    },
    {
     "name": "stderr",
     "output_type": "stream",
     "text": [
      "100%|██████████| 370098/370098 [00:04<00:00, 74651.26it/s]\n",
      "100%|██████████| 5975/5975 [00:00<00:00, 792191.13it/s]\n"
     ]
    },
    {
     "name": "stdout",
     "output_type": "stream",
     "text": [
      "\u001b[32m#LOG     :\u001b[0m\u001b[34mbangla.graphemes\u001b[0m\n"
     ]
    },
    {
     "name": "stderr",
     "output_type": "stream",
     "text": [
      "100%|██████████| 200840/200840 [00:00<00:00, 7123272.97it/s]\n",
      "100%|██████████| 72045/72045 [00:00<00:00, 7330696.29it/s]\n"
     ]
    },
    {
     "name": "stdout",
     "output_type": "stream",
     "text": [
      "\u001b[32m#LOG     :\u001b[0m\u001b[34mbangla.numbers\u001b[0m\n",
      "\u001b[32m#LOG     :\u001b[0m\u001b[34menglish.graphemes\u001b[0m\n"
     ]
    },
    {
     "name": "stderr",
     "output_type": "stream",
     "text": [
      "100%|██████████| 46101/46101 [00:00<00:00, 6842478.81it/s]\n",
      "100%|██████████| 10305/10305 [00:00<00:00, 7220565.11it/s]\n",
      "100%|██████████| 5975/5975 [00:00<00:00, 6973001.22it/s]\n",
      "100%|██████████| 21/21 [00:00<00:00, 349525.33it/s]\n",
      "100%|██████████| 2682/2682 [00:00<00:00, 3959564.71it/s]\n",
      "100%|██████████| 982/982 [00:00<00:00, 5078676.36it/s]\n"
     ]
    },
    {
     "name": "stdout",
     "output_type": "stream",
     "text": [
      "\u001b[32m#LOG     :\u001b[0m\u001b[34menglish.numbers\u001b[0m\n",
      "\u001b[32m#LOG     :\u001b[0m\u001b[34mcommon.symbols\u001b[0m\n",
      "\u001b[32m#LOG     :\u001b[0m\u001b[34mbangla.fonts\u001b[0m\n",
      "\u001b[32m#LOG     :\u001b[0m\u001b[34menglish.fonts\u001b[0m\n",
      "\u001b[32m#LOG     :\u001b[0m\u001b[34mcommon.background\u001b[0m\n",
      "\u001b[32m#LOG     :\u001b[0m\u001b[34mcommon.noise.random\u001b[0m\n"
     ]
    },
    {
     "name": "stderr",
     "output_type": "stream",
     "text": [
      "100%|██████████| 112763/112763 [00:00<00:00, 7219806.47it/s]\n",
      "100%|██████████| 3240/3240 [00:00<00:00, 6968997.42it/s]"
     ]
    },
    {
     "name": "stdout",
     "output_type": "stream",
     "text": [
      "\u001b[32m#LOG     :\u001b[0m\u001b[34mcommon.noise.sign\u001b[0m\n"
     ]
    },
    {
     "name": "stderr",
     "output_type": "stream",
     "text": [
      "\n"
     ]
    }
   ],
   "source": [
    "from coreLib.dataset import DataSet\n",
    "from coreLib.utils import create_dir,LOG_INFO\n",
    "data_dir       = \"/home/apsisdev/ansary/sourcedata\"\n",
    "save_dir       = \"/home/apsisdev/IMPORTANT\"\n",
    "ds=DataSet(data_dir)\n",
    "\n",
    "\n",
    "\n",
    "\n",
    "# create dirs\n",
    "save_dir   =  create_dir(save_dir,\"bangla_totaltext\")\n",
    "imgs_dir   =  create_dir(save_dir,\"imgs\")\n",
    "anon_dir   =  create_dir(save_dir,\"annotations\")\n",
    "charmap_dir  =  create_dir(save_dir,\"charmaps\")\n",
    "wordmap_dir  =  create_dir(save_dir,\"wordmaps\")\n",
    "\n",
    "# train\n",
    "train_image_dir  =  create_dir(imgs_dir,\"training\")\n",
    "train_char_dir   =  create_dir(charmap_dir,\"training\")\n",
    "train_word_dir   =  create_dir(wordmap_dir,\"training\")\n",
    "train_poly_dir   =  create_dir(anon_dir,\"training\")\n",
    "\n",
    "\n",
    "\n",
    "# test\n",
    "\n",
    "test_image_dir  =  create_dir(imgs_dir,\"test\")\n",
    "test_char_dir   =  create_dir(charmap_dir,\"test\")\n",
    "test_word_dir   =  create_dir(wordmap_dir,\"test\")\n",
    "test_poly_dir   =  create_dir(anon_dir,\"test\")\n"
   ]
  },
  {
   "cell_type": "code",
   "execution_count": 2,
   "id": "64acd65d",
   "metadata": {},
   "outputs": [],
   "source": [
    "class train:\n",
    "    image=train_image_dir\n",
    "    char =train_char_dir\n",
    "    word =train_word_dir\n",
    "    poly =train_poly_dir\n",
    "\n",
    "class test:\n",
    "    image=test_image_dir\n",
    "    char =test_char_dir\n",
    "    word =test_word_dir\n",
    "    poly =test_poly_dir"
   ]
  },
  {
   "cell_type": "code",
   "execution_count": 3,
   "id": "b8495dcf",
   "metadata": {},
   "outputs": [
    {
     "name": "stderr",
     "output_type": "stream",
     "text": [
      "100%|██████████| 982/982 [00:00<00:00, 5273759.96it/s]\n"
     ]
    }
   ],
   "source": [
    "from coreLib.render import createSceneImage,backgroundGenerator,createImageData\n",
    "from coreLib.config import config\n",
    "from coreLib.format import convertToTotalText\n",
    "backGen=backgroundGenerator(ds,dim=(config.back_dim,config.back_dim))\n",
    "back=next(backGen)"
   ]
  },
  {
   "cell_type": "code",
   "execution_count": 4,
   "id": "47c2c765",
   "metadata": {},
   "outputs": [],
   "source": [
    "import os\n",
    "import cv2\n",
    "from tqdm.auto import tqdm\n",
    "\n",
    "def saveData(nb,mode):\n",
    "    '''\n",
    "        number of images to save\n",
    "    '''\n",
    "    for i in tqdm(range(nb)):\n",
    "        try:\n",
    "            # data execution\n",
    "            page,labels=createSceneImage(ds)\n",
    "            back=createImageData(backGen,page,labels)\n",
    "            charmap,wordmap,lines=convertToTotalText(page,labels)\n",
    "            # data formation\n",
    "            img_path =os.path.join(mode.image,f\"img{i}.png\")\n",
    "            char_path=os.path.join(mode.char,f\"img{i}.png\")\n",
    "            word_path=os.path.join(mode.word,f\"img{i}.png\")\n",
    "            poly_path=os.path.join(mode.poly,f\"poly_gt_img{i}.txt\")\n",
    "            # save\n",
    "            cv2.imwrite(img_path,back)\n",
    "            cv2.imwrite(char_path,charmap)\n",
    "            cv2.imwrite(word_path,wordmap)\n",
    "            with open(poly_path,\"w\") as pt:\n",
    "                for line in lines:\n",
    "                    pt.write(f\"{line}\\n\")\n",
    "        except Exception as e:\n",
    "            pass\n",
    "        \n",
    "            "
   ]
  },
  {
   "cell_type": "code",
   "execution_count": null,
   "id": "c97548f9",
   "metadata": {},
   "outputs": [
    {
     "data": {
      "application/vnd.jupyter.widget-view+json": {
       "model_id": "6a28d892f5d347eabbe9aad67c06f3d8",
       "version_major": 2,
       "version_minor": 0
      },
      "text/plain": [
       "  0%|          | 0/50000 [00:00<?, ?it/s]"
      ]
     },
     "metadata": {},
     "output_type": "display_data"
    }
   ],
   "source": [
    "# data\n",
    "nb_train  =  50000\n",
    "nb_test   =  1000\n",
    "saveData(nb_train,train)\n",
    "saveData(nb_test,test)\n",
    "    "
   ]
  },
  {
   "cell_type": "code",
   "execution_count": null,
   "id": "86335f56",
   "metadata": {},
   "outputs": [],
   "source": []
  }
 ],
 "metadata": {
  "kernelspec": {
   "display_name": "bangla",
   "language": "python",
   "name": "bangla"
  },
  "language_info": {
   "codemirror_mode": {
    "name": "ipython",
    "version": 3
   },
   "file_extension": ".py",
   "mimetype": "text/x-python",
   "name": "python",
   "nbconvert_exporter": "python",
   "pygments_lexer": "ipython3",
   "version": "3.8.5"
  }
 },
 "nbformat": 4,
 "nbformat_minor": 5
}
