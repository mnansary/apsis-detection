{
 "cells": [
  {
   "cell_type": "code",
   "execution_count": null,
   "id": "a4436920",
   "metadata": {},
   "outputs": [],
   "source": [
    "from coreLib.dataset import DataSet\n",
    "from coreLib.utils import create_dir,LOG_INFO\n",
    "data_dir       = \"/media/ansary/DriveData/Work/bengalAI/datasets/CraftData/source/\"\n",
    "save_dir       = \"/media/ansary/DriveData/Work/bengalAI/datasets/CraftData/\"\n",
    "ds=DataSet(data_dir)\n",
    "\n",
    "# data\n",
    "nb_train  =  25000\n",
    "nb_test   =  5000\n",
    "\n",
    "\n",
    "# create dirs\n",
    "save_dir   =  create_dir(save_dir,\"banglaDetHor\")\n",
    "train_dir  =  create_dir(save_dir,\"train\")\n",
    "test_dir   =  create_dir(save_dir,\"test\")\n",
    "\n",
    "# train\n",
    "train_image_dir  =  create_dir(train_dir,\"images\")\n",
    "train_char_dir   =  create_dir(train_dir,\"char_level\")\n",
    "train_word_dir   =  create_dir(train_dir,\"word_level\")\n",
    "train_poly_dir   =  create_dir(train_dir,\"annotations\")\n",
    "\n",
    "\n",
    "\n",
    "# test\n",
    "test_image_dir  =  create_dir(test_dir,\"images\")\n",
    "test_char_dir   =  create_dir(test_dir,\"char_level\")\n",
    "test_word_dir   =  create_dir(test_dir,\"word_level\")\n",
    "test_poly_dir   =  create_dir(test_dir,\"annotations\")"
   ]
  },
  {
   "cell_type": "code",
   "execution_count": null,
   "id": "64acd65d",
   "metadata": {},
   "outputs": [],
   "source": [
    "class train:\n",
    "    image=train_image_dir\n",
    "    char =train_char_dir\n",
    "    word =train_word_dir\n",
    "    poly =train_poly_dir\n",
    "\n",
    "class test:\n",
    "    image=test_image_dir\n",
    "    char =test_char_dir\n",
    "    word =test_word_dir\n",
    "    poly =test_poly_dir"
   ]
  },
  {
   "cell_type": "code",
   "execution_count": null,
   "id": "b8495dcf",
   "metadata": {},
   "outputs": [],
   "source": [
    "from coreLib.render import createSceneImage,backgroundGenerator,createImageData\n",
    "from coreLib.config import config\n",
    "from coreLib.format import convertToTotalText\n",
    "backGen=backgroundGenerator(ds,dim=(config.back_dim,config.back_dim))\n",
    "back=next(backGen)"
   ]
  },
  {
   "cell_type": "code",
   "execution_count": null,
   "id": "47c2c765",
   "metadata": {},
   "outputs": [],
   "source": [
    "import os\n",
    "import cv2\n",
    "from tqdm.auto import tqdm\n",
    "\n",
    "def saveData(nb,mode):\n",
    "    '''\n",
    "        number of images to save\n",
    "    '''\n",
    "    for i in tqdm(range(nb)):\n",
    "        try:\n",
    "            # data execution\n",
    "            page,labels=createSceneImage(ds)\n",
    "            back=createImageData(backGen,page,labels)\n",
    "            charmap,wordmap,lines=convertToTotalText(page,labels)\n",
    "            # data formation\n",
    "            img_path =os.path.join(mode.image,f\"img{i}.png\")\n",
    "            char_path=os.path.join(mode.char,f\"img{i}.png\")\n",
    "            word_path=os.path.join(mode.word,f\"img{i}.png\")\n",
    "            poly_path=os.path.join(mode.poly,f\"ploy_gt_img{i}.txt\")\n",
    "            # save\n",
    "            cv2.imwrite(img_path,back)\n",
    "            cv2.imwrite(char_path,charmap)\n",
    "            cv2.imwrite(word_path,wordmap)\n",
    "            with open(poly_path,\"w\") as pt:\n",
    "                for line in lines:\n",
    "                    pt.write(f\"{line}\\n\")\n",
    "        except Exception as e:\n",
    "            pass\n",
    "        \n",
    "            "
   ]
  },
  {
   "cell_type": "code",
   "execution_count": null,
   "id": "c97548f9",
   "metadata": {},
   "outputs": [],
   "source": [
    " saveData(nb_train,train)\n",
    " saveData(nb_test,test)\n",
    "    "
   ]
  }
 ],
 "metadata": {
  "kernelspec": {
   "display_name": "bangla",
   "language": "python",
   "name": "bangla"
  },
  "language_info": {
   "codemirror_mode": {
    "name": "ipython",
    "version": 3
   },
   "file_extension": ".py",
   "mimetype": "text/x-python",
   "name": "python",
   "nbconvert_exporter": "python",
   "pygments_lexer": "ipython3",
   "version": "3.8.5"
  }
 },
 "nbformat": 4,
 "nbformat_minor": 5
}
