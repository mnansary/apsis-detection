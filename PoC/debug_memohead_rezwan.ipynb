{
 "cells": [
  {
   "cell_type": "code",
   "execution_count": 1,
   "id": "9920e66b",
   "metadata": {
    "scrolled": true
   },
   "outputs": [
    {
     "name": "stdout",
     "output_type": "stream",
     "text": [
      "\u001b[32m#LOG     :\u001b[0m\u001b[32mAll paths found\u001b[0m\n"
     ]
    },
    {
     "data": {
      "application/vnd.jupyter.widget-view+json": {
       "model_id": "6e2289b915264725b30140e2d4840294",
       "version_major": 2,
       "version_minor": 0
      },
      "text/plain": [
       "  0%|          | 0/200840 [00:00<?, ?it/s]"
      ]
     },
     "metadata": {},
     "output_type": "display_data"
    },
    {
     "data": {
      "application/vnd.jupyter.widget-view+json": {
       "model_id": "f34b585401d34ae28325d061b0b74372",
       "version_major": 2,
       "version_minor": 0
      },
      "text/plain": [
       "  0%|          | 0/72045 [00:00<?, ?it/s]"
      ]
     },
     "metadata": {},
     "output_type": "display_data"
    },
    {
     "name": "stdout",
     "output_type": "stream",
     "text": [
      "\u001b[32m#LOG     :\u001b[0m\u001b[34mProcessing Dictionary:/home/rezwanul/Desktop/Apsis_Bangla_Handwritten/synth_DataSet/sourcedata/bangla/dictionary.csv\u001b[0m\n"
     ]
    },
    {
     "data": {
      "application/vnd.jupyter.widget-view+json": {
       "model_id": "243e688c54fe4236912e17b45f9d0a9b",
       "version_major": 2,
       "version_minor": 0
      },
      "text/plain": [
       "  0%|          | 0/1059977 [00:00<?, ?it/s]"
      ]
     },
     "metadata": {},
     "output_type": "display_data"
    },
    {
     "data": {
      "application/vnd.jupyter.widget-view+json": {
       "model_id": "3b1bd159bc0f41968eba642b20f1da7e",
       "version_major": 2,
       "version_minor": 0
      },
      "text/plain": [
       "  0%|          | 0/46101 [00:00<?, ?it/s]"
      ]
     },
     "metadata": {},
     "output_type": "display_data"
    },
    {
     "data": {
      "application/vnd.jupyter.widget-view+json": {
       "model_id": "d3439ef77799402a8364736f56cc2f9f",
       "version_major": 2,
       "version_minor": 0
      },
      "text/plain": [
       "  0%|          | 0/10305 [00:00<?, ?it/s]"
      ]
     },
     "metadata": {},
     "output_type": "display_data"
    },
    {
     "name": "stdout",
     "output_type": "stream",
     "text": [
      "\u001b[32m#LOG     :\u001b[0m\u001b[34mconverting int labels to string\u001b[0m\n"
     ]
    },
    {
     "data": {
      "application/vnd.jupyter.widget-view+json": {
       "model_id": "68e26bdf46cc408a8ee851b26b9af066",
       "version_major": 2,
       "version_minor": 0
      },
      "text/plain": [
       "  0%|          | 0/10305 [00:00<?, ?it/s]"
      ]
     },
     "metadata": {},
     "output_type": "display_data"
    },
    {
     "name": "stdout",
     "output_type": "stream",
     "text": [
      "\u001b[32m#LOG     :\u001b[0m\u001b[34mProcessing Dictionary:/home/rezwanul/Desktop/Apsis_Bangla_Handwritten/synth_DataSet/sourcedata/english/dictionary.csv\u001b[0m\n"
     ]
    },
    {
     "data": {
      "application/vnd.jupyter.widget-view+json": {
       "model_id": "6e647f090ced46079833bc23bd1a41fd",
       "version_major": 2,
       "version_minor": 0
      },
      "text/plain": [
       "  0%|          | 0/370098 [00:00<?, ?it/s]"
      ]
     },
     "metadata": {},
     "output_type": "display_data"
    },
    {
     "data": {
      "application/vnd.jupyter.widget-view+json": {
       "model_id": "3116edd9dfa9494bbf4cc5b34deb3551",
       "version_major": 2,
       "version_minor": 0
      },
      "text/plain": [
       "  0%|          | 0/5975 [00:00<?, ?it/s]"
      ]
     },
     "metadata": {},
     "output_type": "display_data"
    },
    {
     "name": "stdout",
     "output_type": "stream",
     "text": [
      "\u001b[32m#LOG     :\u001b[0m\u001b[34mbangla.graphemes\u001b[0m\n"
     ]
    },
    {
     "data": {
      "application/vnd.jupyter.widget-view+json": {
       "model_id": "026c04b7707441248c319ca28b68658a",
       "version_major": 2,
       "version_minor": 0
      },
      "text/plain": [
       "  0%|          | 0/200840 [00:00<?, ?it/s]"
      ]
     },
     "metadata": {},
     "output_type": "display_data"
    },
    {
     "name": "stdout",
     "output_type": "stream",
     "text": [
      "\u001b[32m#LOG     :\u001b[0m\u001b[34mbangla.numbers\u001b[0m\n"
     ]
    },
    {
     "data": {
      "application/vnd.jupyter.widget-view+json": {
       "model_id": "65ed708d29554311a082f9efd87fdd33",
       "version_major": 2,
       "version_minor": 0
      },
      "text/plain": [
       "  0%|          | 0/72045 [00:00<?, ?it/s]"
      ]
     },
     "metadata": {},
     "output_type": "display_data"
    },
    {
     "name": "stdout",
     "output_type": "stream",
     "text": [
      "\u001b[32m#LOG     :\u001b[0m\u001b[34menglish.graphemes\u001b[0m\n"
     ]
    },
    {
     "data": {
      "application/vnd.jupyter.widget-view+json": {
       "model_id": "3737984e12c04344998738be66710128",
       "version_major": 2,
       "version_minor": 0
      },
      "text/plain": [
       "  0%|          | 0/46101 [00:00<?, ?it/s]"
      ]
     },
     "metadata": {},
     "output_type": "display_data"
    },
    {
     "name": "stdout",
     "output_type": "stream",
     "text": [
      "\u001b[32m#LOG     :\u001b[0m\u001b[34menglish.numbers\u001b[0m\n"
     ]
    },
    {
     "data": {
      "application/vnd.jupyter.widget-view+json": {
       "model_id": "20ea7c2017814bf2afdc36bf52a660cc",
       "version_major": 2,
       "version_minor": 0
      },
      "text/plain": [
       "  0%|          | 0/10305 [00:00<?, ?it/s]"
      ]
     },
     "metadata": {},
     "output_type": "display_data"
    },
    {
     "name": "stdout",
     "output_type": "stream",
     "text": [
      "\u001b[32m#LOG     :\u001b[0m\u001b[34mcommon.symbols\u001b[0m\n"
     ]
    },
    {
     "data": {
      "application/vnd.jupyter.widget-view+json": {
       "model_id": "184ee0cdc8bb4e48989314afdb37d635",
       "version_major": 2,
       "version_minor": 0
      },
      "text/plain": [
       "  0%|          | 0/5975 [00:00<?, ?it/s]"
      ]
     },
     "metadata": {},
     "output_type": "display_data"
    },
    {
     "name": "stdout",
     "output_type": "stream",
     "text": [
      "\u001b[32m#LOG     :\u001b[0m\u001b[34mbangla.fonts\u001b[0m\n"
     ]
    },
    {
     "data": {
      "application/vnd.jupyter.widget-view+json": {
       "model_id": "4eba16fec6fd45a3b4a329570f4c8725",
       "version_major": 2,
       "version_minor": 0
      },
      "text/plain": [
       "  0%|          | 0/21 [00:00<?, ?it/s]"
      ]
     },
     "metadata": {},
     "output_type": "display_data"
    },
    {
     "name": "stdout",
     "output_type": "stream",
     "text": [
      "\u001b[32m#LOG     :\u001b[0m\u001b[34menglish.fonts\u001b[0m\n"
     ]
    },
    {
     "data": {
      "application/vnd.jupyter.widget-view+json": {
       "model_id": "8fc6ff79adff47848b2372552e0ef014",
       "version_major": 2,
       "version_minor": 0
      },
      "text/plain": [
       "  0%|          | 0/2682 [00:00<?, ?it/s]"
      ]
     },
     "metadata": {},
     "output_type": "display_data"
    },
    {
     "name": "stdout",
     "output_type": "stream",
     "text": [
      "\u001b[32m#LOG     :\u001b[0m\u001b[34mcommon.background\u001b[0m\n"
     ]
    },
    {
     "data": {
      "application/vnd.jupyter.widget-view+json": {
       "model_id": "1012a9ee7f094e75afc928e6a2755af7",
       "version_major": 2,
       "version_minor": 0
      },
      "text/plain": [
       "  0%|          | 0/982 [00:00<?, ?it/s]"
      ]
     },
     "metadata": {},
     "output_type": "display_data"
    },
    {
     "name": "stdout",
     "output_type": "stream",
     "text": [
      "\u001b[32m#LOG     :\u001b[0m\u001b[34mcommon.noise.random\u001b[0m\n"
     ]
    },
    {
     "data": {
      "application/vnd.jupyter.widget-view+json": {
       "model_id": "32df19151ccd49d58bacb7d2ce622f05",
       "version_major": 2,
       "version_minor": 0
      },
      "text/plain": [
       "  0%|          | 0/112763 [00:00<?, ?it/s]"
      ]
     },
     "metadata": {},
     "output_type": "display_data"
    },
    {
     "name": "stdout",
     "output_type": "stream",
     "text": [
      "\u001b[32m#LOG     :\u001b[0m\u001b[34mcommon.noise.sign\u001b[0m\n"
     ]
    },
    {
     "data": {
      "application/vnd.jupyter.widget-view+json": {
       "model_id": "186d396323f64492aa5342490ad7a8f6",
       "version_major": 2,
       "version_minor": 0
      },
      "text/plain": [
       "  0%|          | 0/3240 [00:00<?, ?it/s]"
      ]
     },
     "metadata": {},
     "output_type": "display_data"
    },
    {
     "data": {
      "text/html": [
       "<div>\n",
       "<style scoped>\n",
       "    .dataframe tbody tr th:only-of-type {\n",
       "        vertical-align: middle;\n",
       "    }\n",
       "\n",
       "    .dataframe tbody tr th {\n",
       "        vertical-align: top;\n",
       "    }\n",
       "\n",
       "    .dataframe thead th {\n",
       "        text-align: right;\n",
       "    }\n",
       "</style>\n",
       "<table border=\"1\" class=\"dataframe\">\n",
       "  <thead>\n",
       "    <tr style=\"text-align: right;\">\n",
       "      <th></th>\n",
       "      <th>filename</th>\n",
       "      <th>label</th>\n",
       "      <th>img_path</th>\n",
       "    </tr>\n",
       "  </thead>\n",
       "  <tbody>\n",
       "    <tr>\n",
       "      <th>0</th>\n",
       "      <td>symbol_0</td>\n",
       "      <td>&gt;</td>\n",
       "      <td>/home/rezwanul/Desktop/Apsis_Bangla_Handwritte...</td>\n",
       "    </tr>\n",
       "    <tr>\n",
       "      <th>1</th>\n",
       "      <td>symbol_1</td>\n",
       "      <td>&gt;</td>\n",
       "      <td>/home/rezwanul/Desktop/Apsis_Bangla_Handwritte...</td>\n",
       "    </tr>\n",
       "    <tr>\n",
       "      <th>2</th>\n",
       "      <td>symbol_2</td>\n",
       "      <td>&gt;</td>\n",
       "      <td>/home/rezwanul/Desktop/Apsis_Bangla_Handwritte...</td>\n",
       "    </tr>\n",
       "    <tr>\n",
       "      <th>3</th>\n",
       "      <td>symbol_3</td>\n",
       "      <td>&gt;</td>\n",
       "      <td>/home/rezwanul/Desktop/Apsis_Bangla_Handwritte...</td>\n",
       "    </tr>\n",
       "    <tr>\n",
       "      <th>4</th>\n",
       "      <td>symbol_4</td>\n",
       "      <td>&gt;</td>\n",
       "      <td>/home/rezwanul/Desktop/Apsis_Bangla_Handwritte...</td>\n",
       "    </tr>\n",
       "    <tr>\n",
       "      <th>...</th>\n",
       "      <td>...</td>\n",
       "      <td>...</td>\n",
       "      <td>...</td>\n",
       "    </tr>\n",
       "    <tr>\n",
       "      <th>5970</th>\n",
       "      <td>symbol_5970</td>\n",
       "      <td>&lt;</td>\n",
       "      <td>/home/rezwanul/Desktop/Apsis_Bangla_Handwritte...</td>\n",
       "    </tr>\n",
       "    <tr>\n",
       "      <th>5971</th>\n",
       "      <td>symbol_5971</td>\n",
       "      <td>&lt;</td>\n",
       "      <td>/home/rezwanul/Desktop/Apsis_Bangla_Handwritte...</td>\n",
       "    </tr>\n",
       "    <tr>\n",
       "      <th>5972</th>\n",
       "      <td>symbol_5972</td>\n",
       "      <td>&lt;</td>\n",
       "      <td>/home/rezwanul/Desktop/Apsis_Bangla_Handwritte...</td>\n",
       "    </tr>\n",
       "    <tr>\n",
       "      <th>5973</th>\n",
       "      <td>symbol_5973</td>\n",
       "      <td>&lt;</td>\n",
       "      <td>/home/rezwanul/Desktop/Apsis_Bangla_Handwritte...</td>\n",
       "    </tr>\n",
       "    <tr>\n",
       "      <th>5974</th>\n",
       "      <td>symbol_5974</td>\n",
       "      <td>&lt;</td>\n",
       "      <td>/home/rezwanul/Desktop/Apsis_Bangla_Handwritte...</td>\n",
       "    </tr>\n",
       "  </tbody>\n",
       "</table>\n",
       "<p>5975 rows × 3 columns</p>\n",
       "</div>"
      ],
      "text/plain": [
       "         filename label                                           img_path\n",
       "0        symbol_0     >  /home/rezwanul/Desktop/Apsis_Bangla_Handwritte...\n",
       "1        symbol_1     >  /home/rezwanul/Desktop/Apsis_Bangla_Handwritte...\n",
       "2        symbol_2     >  /home/rezwanul/Desktop/Apsis_Bangla_Handwritte...\n",
       "3        symbol_3     >  /home/rezwanul/Desktop/Apsis_Bangla_Handwritte...\n",
       "4        symbol_4     >  /home/rezwanul/Desktop/Apsis_Bangla_Handwritte...\n",
       "...           ...   ...                                                ...\n",
       "5970  symbol_5970     <  /home/rezwanul/Desktop/Apsis_Bangla_Handwritte...\n",
       "5971  symbol_5971     <  /home/rezwanul/Desktop/Apsis_Bangla_Handwritte...\n",
       "5972  symbol_5972     <  /home/rezwanul/Desktop/Apsis_Bangla_Handwritte...\n",
       "5973  symbol_5973     <  /home/rezwanul/Desktop/Apsis_Bangla_Handwritte...\n",
       "5974  symbol_5974     <  /home/rezwanul/Desktop/Apsis_Bangla_Handwritte...\n",
       "\n",
       "[5975 rows x 3 columns]"
      ]
     },
     "execution_count": 1,
     "metadata": {},
     "output_type": "execute_result"
    }
   ],
   "source": [
    "from memoLib.dataset import DataSet\n",
    "data_dir       = \"/home/rezwanul/Desktop/Apsis_Bangla_Handwritten/synth_DataSet/sourcedata\"\n",
    "ds=DataSet(data_dir)\n",
    "ds.common.symbols.df"
   ]
  },
  {
   "cell_type": "code",
   "execution_count": 2,
   "id": "adeb8c21",
   "metadata": {},
   "outputs": [
    {
     "data": {
      "image/png": "[encoded data removed]",
      "text/plain": [
       "<Figure size 432x288 with 1 Axes>"
      ]
     },
     "metadata": {
      "needs_background": "light"
     },
     "output_type": "display_data"
    }
   ],
   "source": [
    "import matplotlib.pyplot as plt\n",
    "%matplotlib inline \n",
    "from memoLib.head import memoHeadFunc, placeHandTextOnMemoHeadImage\n",
    "\n",
    "head_names=[\n",
    "               \"এ.স. এন্টারপ্রাইজ\",\n",
    "               \"ড্রিস্ট্রিবিউটরঃ এম/এস হাশেম ট্রেডিং\",\n",
    "               \"হাউস নাম্বারঃ ১২৩৪, বাড্ডা, গুলশান, ঢাকা।\",    \n",
    "               \"মোবাইল নাম্বারঃ ০১৭২৩৪৫৬৭৮৯\",\n",
    "               \"নাম্বারঃ\",\n",
    "               \"তারিখঃ\"\n",
    "               ] \n",
    "\n",
    "head_var_names=[\n",
    "                \n",
    "               \"আউটলেটের নামঃ\",\n",
    "               \"রাউটঃ\",\n",
    "               \"ঠিকানাঃ\"\n",
    "                \n",
    "                ]\n",
    "\n",
    "\n",
    "### Call Function: memoHeadFunc()\n",
    "final_image, _lst, _lst_dn = memoHeadFunc(ds,head_names,head_var_names)\n",
    "plt.imshow(final_image)\n",
    "plt.show()\n"
   ]
  },
  {
   "cell_type": "code",
   "execution_count": 3,
   "id": "2444ec09",
   "metadata": {},
   "outputs": [
    {
     "data": {
      "image/png": "[encoded data removed]",
      "text/plain": [
       "<Figure size 432x288 with 1 Axes>"
      ]
     },
     "metadata": {
      "needs_background": "light"
     },
     "output_type": "display_data"
    }
   ],
   "source": [
    "### Call Function: placeHandTextOnMemoHeadImage()\n",
    "\n",
    "place_hand_text_on_head_img = placeHandTextOnMemoHeadImage(ds, final_image, _lst, _lst_dn)\n",
    "plt.imshow(place_hand_text_on_head_img)\n",
    "plt.show()"
   ]
  },
  {
   "cell_type": "code",
   "execution_count": 4,
   "id": "f4867247",
   "metadata": {},
   "outputs": [
    {
     "data": {
      "image/png": "[encoded data removed]",
      "text/plain": [
       "<Figure size 432x288 with 1 Axes>"
      ]
     },
     "metadata": {
      "needs_background": "light"
     },
     "output_type": "display_data"
    }
   ],
   "source": [
    "### Clean View\n",
    "\n",
    "place_hand_text_on_head_img[place_hand_text_on_head_img>0]=255\n",
    "plt.imshow(place_hand_text_on_head_img)\n",
    "plt.show()"
   ]
  },
  {
   "cell_type": "code",
   "execution_count": null,
   "id": "6e146d13",
   "metadata": {},
   "outputs": [],
   "source": []
  },
  {
   "cell_type": "code",
   "execution_count": null,
   "id": "241116b5",
   "metadata": {},
   "outputs": [],
   "source": []
  },
  {
   "cell_type": "code",
   "execution_count": 2,
   "id": "05720893",
   "metadata": {},
   "outputs": [],
   "source": [
    "# import numpy as np \n",
    "# from memoLib.word import createPrintedLine, processLine\n",
    "# from memoLib.config import config\n",
    "# from memoLib.utils import padImg\n",
    "# import matplotlib.pyplot as plt\n",
    "# import random\n",
    "# import os\n",
    "# from glob import glob"
   ]
  },
  {
   "cell_type": "code",
   "execution_count": 3,
   "id": "cc59073b",
   "metadata": {},
   "outputs": [
    {
     "data": {
      "image/png": "[encoded data removed]",
      "text/plain": [
       "<Figure size 432x288 with 1 Axes>"
      ]
     },
     "metadata": {
      "needs_background": "light"
     },
     "output_type": "display_data"
    }
   ],
   "source": [
    "\n",
    "# head_names=[\n",
    "#                \"এ.স. এন্টারপ্রাইজ\",\n",
    "#                \"ড্রিস্ট্রিবিউটরঃ এম/এস হাশেম ট্রেডিং\",\n",
    "#                \"হাউস নাম্বারঃ ১২৩৪, বাড্ডা, গুলশান, ঢাকা।\",    \n",
    "#                \"মোবাইল নাম্বারঃ ০১৭২৩৪৫৬৭৮৯\",\n",
    "#                \"নাম্বারঃ\",\n",
    "#                \"তারিখঃ\"\n",
    "#                ] \n",
    "\n",
    "# head_var_names=[\n",
    "                \n",
    "#                \"আউটলেটের নামঃ\",\n",
    "#                \"রাউটঃ\",\n",
    "#                \"ঠিকানাঃ\"\n",
    "                \n",
    "#                 ]\n",
    "# ### Add space and dot with last two value of head_names list\n",
    "# head_names[len(head_names)-1] = head_names[len(head_names)-1]+config.date_no.rep*config.ext ## Date\n",
    "# head_names[len(head_names)-2] = head_names[len(head_names)-2]+config.date_no.rep*config.ext # No.\n",
    "\n",
    "# ## Add dot head_var_names list\n",
    "# for i, p in enumerate(head_var_names):\n",
    "#     dot_len = config.date_no.space-len(p)\n",
    "#     head_var_names[i] = head_var_names[i]+dot_len*config.ext\n",
    "\n",
    "# # len_head_names = len(head_names)\n",
    "# # len_head_var_names = len(head_var_names)\n",
    "\n",
    "# ## merge both list (head_names, head_var_names)\n",
    "# data_Text = head_names + head_var_names\n",
    "# data = [processLine(line) for line in data_Text]\n",
    "\n",
    "\n",
    "# # stable-fixed\n",
    "# iden=3\n",
    "\n",
    "# imgs=[]\n",
    "# labels=[]\n",
    "\n",
    "# h_max,w_max=0,0\n",
    "\n",
    "# fonts=[_font for _font in  glob(os.path.join( ds.bangla.fonts,\"*.ttf\")) if \"ANSI\" not in _font]\n",
    "# font_path=random.choice(fonts)\n",
    "# # find images and labels\n",
    "# i = 0\n",
    "# for line in data: \n",
    "#     i += 1\n",
    "#     if i==1:\n",
    "#         img,label,iden=createPrintedLine(iden,line,font_path,config.headline1_font_size)\n",
    "#     elif i==2:\n",
    "#         img,label,iden=createPrintedLine(iden,line,font_path,config.headline2_font_size)\n",
    "#     else:\n",
    "#         img,label,iden=createPrintedLine(iden,line,font_path,config.headline3_font_size)\n",
    "    \n",
    "    \n",
    "#     # print(iden)\n",
    "#     h,w=img.shape\n",
    "#     if h>h_max:\n",
    "#         h_max=h\n",
    "#     if w>w_max:\n",
    "#         w_max=w\n",
    "\n",
    "#     imgs.append(img)\n",
    "#     labels.append(label)\n",
    "\n",
    "# # padding\n",
    "#     #######################################\n",
    "# h_max+=config.line_pad\n",
    "# w_max+=config.line_pad\n",
    "# padded=[]\n",
    "# for img in imgs:\n",
    "#    img=padImg(img, h_max, w_max)\n",
    "#    padded.append(img)\n",
    "\n",
    "# ## Merge Padded Images without last 2 values\n",
    "# img_1=np.concatenate(padded[:len(head_names)-2],axis=0)\n",
    "\n",
    "\n",
    "# plt.imshow(img_1)\n",
    "# plt.show()"
   ]
  },
  {
   "cell_type": "code",
   "execution_count": 4,
   "id": "35c8d4c0",
   "metadata": {},
   "outputs": [
    {
     "data": {
      "image/png": "[encoded data removed]",
      "text/plain": [
       "<Figure size 432x288 with 1 Axes>"
      ]
     },
     "metadata": {
      "needs_background": "light"
     },
     "output_type": "display_data"
    }
   ],
   "source": [
    "# img_1=img_1[~np.all(img_1 == 0, axis=1)]\n",
    "\n",
    "# plt.imshow(img_1)\n",
    "# plt.show()"
   ]
  },
  {
   "cell_type": "code",
   "execution_count": null,
   "id": "fd0e5bf3",
   "metadata": {},
   "outputs": [],
   "source": [
    "# ### Call Function: memoHeadFunc()\n",
    "\n",
    "# head_names=[\n",
    "#                \"এ.স. এন্টারপ্রাইজ\",\n",
    "#                \"ড্রিস্ট্রিবিউটরঃ এম/এস হাশেম ট্রেডিং\",\n",
    "#                \"হাউস নাম্বারঃ ১২৩৪, বাড্ডা, গুলশান, ঢাকা।\",    \n",
    "#                \"মোবাইল নাম্বারঃ ০১৭২৩৪৫৬৭৮৯\",\n",
    "#                \"নাম্বারঃ\",\n",
    "#                \"তারিখঃ\"\n",
    "#                ] \n",
    "\n",
    "# head_var_names=[\n",
    "                \n",
    "#                \"আউটলেটের নামঃ\",\n",
    "#                \"রাউটঃ\",\n",
    "#                \"ঠিকানাঃ\"\n",
    "                \n",
    "#                 ]\n",
    "\n",
    "# class_map_csv='/home/apsisdev/ansary/synthdata/__notes__/class_map.csv'\n",
    "# font_path='/home/apsisdev/ansary/synthdata/__notes__/Bangla.ttf'\n",
    "\n",
    "# final_image, _lst, _lst_dn=memoHeadFunc(\n",
    "#                                           head_names,\n",
    "#                                           head_var_names,\n",
    "#                                           class_map_csv_path=class_map_csv,\n",
    "#                                           font_path=font_path)\n",
    "\n",
    "# # __final_image = final_image\n",
    "# # ### Clean View\n",
    "# # __final_image[__final_image>0]=255\n",
    "# # plt.imshow(__final_image)\n",
    "# # plt.show()"
   ]
  },
  {
   "cell_type": "code",
   "execution_count": 17,
   "id": "ab3c1760",
   "metadata": {},
   "outputs": [],
   "source": [
    "# def createPrintedLine(iden,comps,\n",
    "#                       font_path,\n",
    "#                       font_size):\n",
    "#     '''\n",
    "#         creates printed word image\n",
    "#         args:\n",
    "#             iden    :       identifier marking value starting\n",
    "#             linecomps   :       the list of components\n",
    "#             font_path:      the desired font path \n",
    "#             font_size:      the size of the font\n",
    "            \n",
    "#         returns:\n",
    "#             img     :       marked word image\n",
    "#             label   :       dictionary of label {iden:label}\n",
    "#             iden    :       the final identifier\n",
    "#     '''\n",
    "#     label={}\n",
    "#     font=PIL.ImageFont.truetype(font_path, size=font_size)\n",
    "    \n",
    "#     # max dim\n",
    "#     min_offset=100\n",
    "    \n",
    "#     comps=[comp for comp in comps if comp is not None]\n",
    "#     # FIND # \n",
    "#     if config.ext in comps:\n",
    "#         _exts=comps[comps.index(config.ext):]\n",
    "#         comps=comps[:comps.index(config.ext)]  \n",
    "#     else:\n",
    "#         _exts=None\n",
    "\n",
    "      \n",
    "    \n",
    "#     max_dim=len(comps)*font_size+min_offset\n",
    "    \n",
    "#     # reconfigure comps\n",
    "#     mods=['ঁ', 'ং', 'ঃ']\n",
    "#     for idx,comp in enumerate(comps):\n",
    "#         if idx < len(comps)-1 and comps[idx+1] in mods:\n",
    "#             comps[idx]+=comps[idx+1]\n",
    "#             comps[idx+1]=None \n",
    "            \n",
    "#     comps=[comp for comp in comps if comp is not None]\n",
    "#     # construct labels\n",
    "    \n",
    "#     imgs=[]\n",
    "#     comp_str=''\n",
    "    \n",
    "#     for comp in comps:\n",
    "#         if comp==\" \":\n",
    "#             comp_str+=config.ext\n",
    "\n",
    "            \n",
    "#         comp_str+=comp    \n",
    "#         # draw\n",
    "#         image = PIL.Image.new(mode='L', size=(max_dim,max_dim))\n",
    "#         draw = PIL.ImageDraw.Draw(image)\n",
    "#         draw.text(xy=(0, 0), text=comp_str, fill=1, font=font)\n",
    "        \n",
    "#         imgs.append(np.array(image))\n",
    "#         if comp==\" \":\n",
    "#             comp=\"space\"\n",
    "#         # label\n",
    "#         label[iden] = comp \n",
    "#         iden+=1\n",
    "        \n",
    "        \n",
    "#     # add images\n",
    "#     img=sum(imgs)\n",
    "#     img=stripPads(img,0)\n",
    "#     # offset\n",
    "#     vals=list(np.unique(img))\n",
    "#     vals=sorted(vals,reverse=True)\n",
    "#     vals=vals[:-1]\n",
    "#     # set values\n",
    "#     _img=np.zeros(img.shape)\n",
    "#     for v,l in zip(vals,label.keys()):\n",
    "#         _img[img==v]=l\n",
    "#     # resize\n",
    "#     h,w=_img.shape \n",
    "#     width= int(font_size* w/h) \n",
    "#     img=cv2.resize(_img,(width,font_size),fx=0,fy=0, interpolation = cv2.INTER_NEAREST)\n",
    "    \n",
    "\n",
    "#     # handle extensions\n",
    "#     if _exts is not None:\n",
    "#         img=handleExtensions(img,len(_exts),iden,font,font_size)\n",
    "#         # label\n",
    "#         label[iden] = \"ext\"\n",
    "#         iden+=1\n",
    "#     return img,label,iden\n",
    "\n",
    "\n",
    "# def handleExtensions(img,len_ext,iden,font,ext_size):\n",
    "#     '''\n",
    "#         creates/ adds extensions to lines\n",
    "#         arg:\n",
    "#             img     : final staged marked image\n",
    "#             len_ext : length of extension\n",
    "#             iden    : marking end value \n",
    "#             font    : the image font\n",
    "#             ext_size: proper size of the extensions\n",
    "#     '''\n",
    "#     ext_sym=random.choice(config.date_no.exts)\n",
    "#     # draw\n",
    "#     image = PIL.Image.new(mode='L', size=font.getsize(ext_sym))\n",
    "#     draw = PIL.ImageDraw.Draw(image)\n",
    "#     draw.text(xy=(0, 0), text=ext_sym, fill=iden, font=font)\n",
    "    \n",
    "#     ext_img=[np.array(image) for _ in range(len_ext)]\n",
    "#     ext_img=np.concatenate(ext_img,axis=1)\n",
    "#     # reshape\n",
    "#     H,W=img.shape\n",
    "\n",
    "#     h,w=ext_img.shape\n",
    "#     width= int(H* w/h) \n",
    "#     ext_img=cv2.resize(ext_img,(width,H),fx=0,fy=0, interpolation = cv2.INTER_NEAREST)\n",
    "    \n",
    "#     return np.concatenate([img,ext_img],axis=1) "
   ]
  },
  {
   "cell_type": "code",
   "execution_count": null,
   "id": "a1968a3b",
   "metadata": {},
   "outputs": [],
   "source": [
    "# _lst"
   ]
  },
  {
   "cell_type": "code",
   "execution_count": null,
   "id": "6905a596",
   "metadata": {},
   "outputs": [],
   "source": [
    "# _lst_dn"
   ]
  },
  {
   "cell_type": "code",
   "execution_count": null,
   "id": "34b7fdc1",
   "metadata": {},
   "outputs": [],
   "source": [
    "# np.unique(final_image)"
   ]
  },
  {
   "cell_type": "code",
   "execution_count": null,
   "id": "f2bf7b2e",
   "metadata": {},
   "outputs": [],
   "source": [
    "# # Updated_others_locs=[555,555]\n",
    "\n",
    "# for i,img in zip(_lst,imgss):\n",
    "#         idx = np.where(final_image==i)\n",
    "#         h,w=img.shape\n",
    "#         print(\"hand image: \", h,w)\n",
    "        \n",
    "#         y_min, y_max, x_min, x_max = np.min(idx[0]), np.max(idx[0]), np.min(idx[1]), np.max(idx[1])\n",
    "#         print(y_min, y_max, x_min, x_max)\n",
    "        \n",
    "#         ## resize image\n",
    "#         h_max = abs(y_max-y_min)\n",
    "#         w_max = abs(x_max-x_min)\n",
    "#         print(h_max, w_max)\n",
    "        \n",
    "#         if w<x_min: \n",
    "#             y_min, y_max, x_min, x_max=y_min, y_max, x_min-w, x_max\n",
    "#         else:\n",
    "#             y_min, y_max, x_min, x_max=y_min, y_max, x_min-w//2, x_max\n",
    "            \n",
    "#         h_max = abs(y_max-y_min)\n",
    "#         w_max = abs(x_max-x_min)\n",
    "#         print(h_max, w_max)\n",
    "        \n",
    "#         dim=(h_max,w_max)\n",
    "#         _img = cv2.resize(img, dim[::-1], fx=0,fy=0, interpolation = cv2.INTER_NEAREST)\n",
    "        \n",
    "#         ## place hand text into text image\n",
    "#         final_image[y_min:y_max,x_min:x_max]=_img\n",
    "        "
   ]
  },
  {
   "cell_type": "code",
   "execution_count": null,
   "id": "a0c1db07",
   "metadata": {},
   "outputs": [],
   "source": [
    "# for i,img in zip(_lst_dn,imgss_num_date):\n",
    "#         idx = np.where(final_image==i)\n",
    "#         h,w=img.shape\n",
    "#         print(\"hand image: \", h,w)\n",
    "        \n",
    "#         y_min, y_max, x_min, x_max = np.min(idx[0]), np.max(idx[0]), np.min(idx[1]), np.max(idx[1])\n",
    "#         print(y_min, y_max, x_min, x_max)\n",
    "        \n",
    "#         ## resize image\n",
    "#         h_max = abs(y_max-y_min)\n",
    "#         w_max = abs(x_max-x_min)\n",
    "#         print(h_max, w_max)\n",
    "        \n",
    "#         if w<x_min: \n",
    "#             y_min, y_max, x_min, x_max=y_min, y_max, x_min-w, x_max\n",
    "#         else:\n",
    "#             y_min, y_max, x_min, x_max=y_min, y_max, x_min-w//2, x_max\n",
    "            \n",
    "#         h_max = abs(y_max-y_min)\n",
    "#         w_max = abs(x_max-x_min)\n",
    "#         print(h_max, w_max)\n",
    "        \n",
    "#         dim=(h_max,w_max)\n",
    "#         _img = cv2.resize(img, dim[::-1], fx=0,fy=0, interpolation = cv2.INTER_NEAREST)\n",
    "        \n",
    "#         ## place hand text into text image\n",
    "#         final_image[y_min:y_max,x_min:x_max]=_img"
   ]
  }
 ],
 "metadata": {
  "kernelspec": {
   "display_name": "Python 3",
   "language": "python",
   "name": "python3"
  },
  "language_info": {
   "codemirror_mode": {
    "name": "ipython",
    "version": 3
   },
   "file_extension": ".py",
   "mimetype": "text/x-python",
   "name": "python",
   "nbconvert_exporter": "python",
   "pygments_lexer": "ipython3",
   "version": "3.8.5"
  }
 },
 "nbformat": 4,
 "nbformat_minor": 5
}
