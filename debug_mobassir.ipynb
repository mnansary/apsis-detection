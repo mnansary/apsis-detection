{
 "cells": [
  {
   "cell_type": "code",
   "execution_count": 1,
   "id": "5c7b4f3b",
   "metadata": {},
   "outputs": [
    {
     "name": "stdout",
     "output_type": "stream",
     "text": [
      "\u001b[32m#LOG     :\u001b[0m\u001b[32mAll paths found\u001b[0m\n"
     ]
    },
    {
     "data": {
      "application/vnd.jupyter.widget-view+json": {
       "model_id": "1a9021c1ae0e4ff5a129258e599e2b39",
       "version_major": 2,
       "version_minor": 0
      },
      "text/plain": [
       "  0%|          | 0/200840 [00:00<?, ?it/s]"
      ]
     },
     "metadata": {},
     "output_type": "display_data"
    },
    {
     "data": {
      "application/vnd.jupyter.widget-view+json": {
       "model_id": "725285a2bf554f539390c3c779fa65ae",
       "version_major": 2,
       "version_minor": 0
      },
      "text/plain": [
       "  0%|          | 0/72045 [00:00<?, ?it/s]"
      ]
     },
     "metadata": {},
     "output_type": "display_data"
    },
    {
     "name": "stdout",
     "output_type": "stream",
     "text": [
      "\u001b[32m#LOG     :\u001b[0m\u001b[34mProcessing Dictionary:/media/ansary/DriveData/Work/bengalAI/datasets/CraftData/source/bangla/dictionary.csv\u001b[0m\n"
     ]
    },
    {
     "data": {
      "application/vnd.jupyter.widget-view+json": {
       "model_id": "003869642d3f4af09ab39f2f79fa91ef",
       "version_major": 2,
       "version_minor": 0
      },
      "text/plain": [
       "  0%|          | 0/1059977 [00:00<?, ?it/s]"
      ]
     },
     "metadata": {},
     "output_type": "display_data"
    },
    {
     "data": {
      "application/vnd.jupyter.widget-view+json": {
       "model_id": "11230c616dda4868b3a0e69cf6ab860a",
       "version_major": 2,
       "version_minor": 0
      },
      "text/plain": [
       "  0%|          | 0/46101 [00:00<?, ?it/s]"
      ]
     },
     "metadata": {},
     "output_type": "display_data"
    },
    {
     "data": {
      "application/vnd.jupyter.widget-view+json": {
       "model_id": "71919087c9984f4ab25596147c5ad7c5",
       "version_major": 2,
       "version_minor": 0
      },
      "text/plain": [
       "  0%|          | 0/10305 [00:00<?, ?it/s]"
      ]
     },
     "metadata": {},
     "output_type": "display_data"
    },
    {
     "name": "stdout",
     "output_type": "stream",
     "text": [
      "\u001b[32m#LOG     :\u001b[0m\u001b[34mconverting int labels to string\u001b[0m\n"
     ]
    },
    {
     "data": {
      "application/vnd.jupyter.widget-view+json": {
       "model_id": "0125f18917e5480184cfd5f008484eda",
       "version_major": 2,
       "version_minor": 0
      },
      "text/plain": [
       "  0%|          | 0/10305 [00:00<?, ?it/s]"
      ]
     },
     "metadata": {},
     "output_type": "display_data"
    },
    {
     "name": "stdout",
     "output_type": "stream",
     "text": [
      "\u001b[32m#LOG     :\u001b[0m\u001b[34mProcessing Dictionary:/media/ansary/DriveData/Work/bengalAI/datasets/CraftData/source/english/dictionary.csv\u001b[0m\n"
     ]
    },
    {
     "data": {
      "application/vnd.jupyter.widget-view+json": {
       "model_id": "4b2a8b30788e4fce9c269cc2762efab1",
       "version_major": 2,
       "version_minor": 0
      },
      "text/plain": [
       "  0%|          | 0/370098 [00:00<?, ?it/s]"
      ]
     },
     "metadata": {},
     "output_type": "display_data"
    },
    {
     "data": {
      "application/vnd.jupyter.widget-view+json": {
       "model_id": "151823adf9ae43358878957d96afc8e2",
       "version_major": 2,
       "version_minor": 0
      },
      "text/plain": [
       "  0%|          | 0/5975 [00:00<?, ?it/s]"
      ]
     },
     "metadata": {},
     "output_type": "display_data"
    },
    {
     "name": "stdout",
     "output_type": "stream",
     "text": [
      "\u001b[32m#LOG     :\u001b[0m\u001b[34mbangla.graphemes\u001b[0m\n"
     ]
    },
    {
     "data": {
      "application/vnd.jupyter.widget-view+json": {
       "model_id": "aa51f7334cd74b6ca838bdea4449c554",
       "version_major": 2,
       "version_minor": 0
      },
      "text/plain": [
       "  0%|          | 0/200840 [00:00<?, ?it/s]"
      ]
     },
     "metadata": {},
     "output_type": "display_data"
    },
    {
     "name": "stdout",
     "output_type": "stream",
     "text": [
      "\u001b[32m#LOG     :\u001b[0m\u001b[34mbangla.numbers\u001b[0m\n"
     ]
    },
    {
     "data": {
      "application/vnd.jupyter.widget-view+json": {
       "model_id": "940341f1ea8c4a7fa2ac2944ad7a72d3",
       "version_major": 2,
       "version_minor": 0
      },
      "text/plain": [
       "  0%|          | 0/72045 [00:00<?, ?it/s]"
      ]
     },
     "metadata": {},
     "output_type": "display_data"
    },
    {
     "name": "stdout",
     "output_type": "stream",
     "text": [
      "\u001b[32m#LOG     :\u001b[0m\u001b[34menglish.graphemes\u001b[0m\n"
     ]
    },
    {
     "data": {
      "application/vnd.jupyter.widget-view+json": {
       "model_id": "7ff70ac8d02444ba93b3047976a77492",
       "version_major": 2,
       "version_minor": 0
      },
      "text/plain": [
       "  0%|          | 0/46101 [00:00<?, ?it/s]"
      ]
     },
     "metadata": {},
     "output_type": "display_data"
    },
    {
     "name": "stdout",
     "output_type": "stream",
     "text": [
      "\u001b[32m#LOG     :\u001b[0m\u001b[34menglish.numbers\u001b[0m\n"
     ]
    },
    {
     "data": {
      "application/vnd.jupyter.widget-view+json": {
       "model_id": "1d5c54f1cbab43c681dc3ad506a7acf6",
       "version_major": 2,
       "version_minor": 0
      },
      "text/plain": [
       "  0%|          | 0/10305 [00:00<?, ?it/s]"
      ]
     },
     "metadata": {},
     "output_type": "display_data"
    },
    {
     "name": "stdout",
     "output_type": "stream",
     "text": [
      "\u001b[32m#LOG     :\u001b[0m\u001b[34mcommon.symbols\u001b[0m\n"
     ]
    },
    {
     "data": {
      "application/vnd.jupyter.widget-view+json": {
       "model_id": "85ab48b531ee45308b8f4343e96157b5",
       "version_major": 2,
       "version_minor": 0
      },
      "text/plain": [
       "  0%|          | 0/5975 [00:00<?, ?it/s]"
      ]
     },
     "metadata": {},
     "output_type": "display_data"
    },
    {
     "name": "stdout",
     "output_type": "stream",
     "text": [
      "\u001b[32m#LOG     :\u001b[0m\u001b[34mbangla.fonts\u001b[0m\n"
     ]
    },
    {
     "data": {
      "application/vnd.jupyter.widget-view+json": {
       "model_id": "81f4bc709446480583c9a59adcd73d4e",
       "version_major": 2,
       "version_minor": 0
      },
      "text/plain": [
       "  0%|          | 0/21 [00:00<?, ?it/s]"
      ]
     },
     "metadata": {},
     "output_type": "display_data"
    },
    {
     "name": "stdout",
     "output_type": "stream",
     "text": [
      "\u001b[32m#LOG     :\u001b[0m\u001b[34menglish.fonts\u001b[0m\n"
     ]
    },
    {
     "data": {
      "application/vnd.jupyter.widget-view+json": {
       "model_id": "4fbd62595bbb4c11a721a7ae8ff002f3",
       "version_major": 2,
       "version_minor": 0
      },
      "text/plain": [
       "  0%|          | 0/2682 [00:00<?, ?it/s]"
      ]
     },
     "metadata": {},
     "output_type": "display_data"
    },
    {
     "name": "stdout",
     "output_type": "stream",
     "text": [
      "\u001b[32m#LOG     :\u001b[0m\u001b[34mcommon.background\u001b[0m\n"
     ]
    },
    {
     "data": {
      "application/vnd.jupyter.widget-view+json": {
       "model_id": "9608e79a01a943c195c8a639c6f27c61",
       "version_major": 2,
       "version_minor": 0
      },
      "text/plain": [
       "  0%|          | 0/982 [00:00<?, ?it/s]"
      ]
     },
     "metadata": {},
     "output_type": "display_data"
    },
    {
     "name": "stdout",
     "output_type": "stream",
     "text": [
      "\u001b[32m#LOG     :\u001b[0m\u001b[34mcommon.noise.random\u001b[0m\n"
     ]
    },
    {
     "data": {
      "application/vnd.jupyter.widget-view+json": {
       "model_id": "a80646df9e084c79873335107a0e1cbf",
       "version_major": 2,
       "version_minor": 0
      },
      "text/plain": [
       "  0%|          | 0/112763 [00:00<?, ?it/s]"
      ]
     },
     "metadata": {},
     "output_type": "display_data"
    },
    {
     "name": "stdout",
     "output_type": "stream",
     "text": [
      "\u001b[32m#LOG     :\u001b[0m\u001b[34mcommon.noise.sign\u001b[0m\n"
     ]
    },
    {
     "data": {
      "application/vnd.jupyter.widget-view+json": {
       "model_id": "9a4892e3007f4409a51f408c997c7880",
       "version_major": 2,
       "version_minor": 0
      },
      "text/plain": [
       "  0%|          | 0/3240 [00:00<?, ?it/s]"
      ]
     },
     "metadata": {},
     "output_type": "display_data"
    },
    {
     "data": {
      "text/html": [
       "<div>\n",
       "<style scoped>\n",
       "    .dataframe tbody tr th:only-of-type {\n",
       "        vertical-align: middle;\n",
       "    }\n",
       "\n",
       "    .dataframe tbody tr th {\n",
       "        vertical-align: top;\n",
       "    }\n",
       "\n",
       "    .dataframe thead th {\n",
       "        text-align: right;\n",
       "    }\n",
       "</style>\n",
       "<table border=\"1\" class=\"dataframe\">\n",
       "  <thead>\n",
       "    <tr style=\"text-align: right;\">\n",
       "      <th></th>\n",
       "      <th>filename</th>\n",
       "      <th>label</th>\n",
       "      <th>img_path</th>\n",
       "    </tr>\n",
       "  </thead>\n",
       "  <tbody>\n",
       "    <tr>\n",
       "      <th>0</th>\n",
       "      <td>symbol_0</td>\n",
       "      <td>&gt;</td>\n",
       "      <td>/media/ansary/DriveData/Work/bengalAI/datasets...</td>\n",
       "    </tr>\n",
       "    <tr>\n",
       "      <th>1</th>\n",
       "      <td>symbol_1</td>\n",
       "      <td>&gt;</td>\n",
       "      <td>/media/ansary/DriveData/Work/bengalAI/datasets...</td>\n",
       "    </tr>\n",
       "    <tr>\n",
       "      <th>2</th>\n",
       "      <td>symbol_2</td>\n",
       "      <td>&gt;</td>\n",
       "      <td>/media/ansary/DriveData/Work/bengalAI/datasets...</td>\n",
       "    </tr>\n",
       "    <tr>\n",
       "      <th>3</th>\n",
       "      <td>symbol_3</td>\n",
       "      <td>&gt;</td>\n",
       "      <td>/media/ansary/DriveData/Work/bengalAI/datasets...</td>\n",
       "    </tr>\n",
       "    <tr>\n",
       "      <th>4</th>\n",
       "      <td>symbol_4</td>\n",
       "      <td>&gt;</td>\n",
       "      <td>/media/ansary/DriveData/Work/bengalAI/datasets...</td>\n",
       "    </tr>\n",
       "    <tr>\n",
       "      <th>...</th>\n",
       "      <td>...</td>\n",
       "      <td>...</td>\n",
       "      <td>...</td>\n",
       "    </tr>\n",
       "    <tr>\n",
       "      <th>5970</th>\n",
       "      <td>symbol_5970</td>\n",
       "      <td>&lt;</td>\n",
       "      <td>/media/ansary/DriveData/Work/bengalAI/datasets...</td>\n",
       "    </tr>\n",
       "    <tr>\n",
       "      <th>5971</th>\n",
       "      <td>symbol_5971</td>\n",
       "      <td>&lt;</td>\n",
       "      <td>/media/ansary/DriveData/Work/bengalAI/datasets...</td>\n",
       "    </tr>\n",
       "    <tr>\n",
       "      <th>5972</th>\n",
       "      <td>symbol_5972</td>\n",
       "      <td>&lt;</td>\n",
       "      <td>/media/ansary/DriveData/Work/bengalAI/datasets...</td>\n",
       "    </tr>\n",
       "    <tr>\n",
       "      <th>5973</th>\n",
       "      <td>symbol_5973</td>\n",
       "      <td>&lt;</td>\n",
       "      <td>/media/ansary/DriveData/Work/bengalAI/datasets...</td>\n",
       "    </tr>\n",
       "    <tr>\n",
       "      <th>5974</th>\n",
       "      <td>symbol_5974</td>\n",
       "      <td>&lt;</td>\n",
       "      <td>/media/ansary/DriveData/Work/bengalAI/datasets...</td>\n",
       "    </tr>\n",
       "  </tbody>\n",
       "</table>\n",
       "<p>5975 rows × 3 columns</p>\n",
       "</div>"
      ],
      "text/plain": [
       "         filename label                                           img_path\n",
       "0        symbol_0     >  /media/ansary/DriveData/Work/bengalAI/datasets...\n",
       "1        symbol_1     >  /media/ansary/DriveData/Work/bengalAI/datasets...\n",
       "2        symbol_2     >  /media/ansary/DriveData/Work/bengalAI/datasets...\n",
       "3        symbol_3     >  /media/ansary/DriveData/Work/bengalAI/datasets...\n",
       "4        symbol_4     >  /media/ansary/DriveData/Work/bengalAI/datasets...\n",
       "...           ...   ...                                                ...\n",
       "5970  symbol_5970     <  /media/ansary/DriveData/Work/bengalAI/datasets...\n",
       "5971  symbol_5971     <  /media/ansary/DriveData/Work/bengalAI/datasets...\n",
       "5972  symbol_5972     <  /media/ansary/DriveData/Work/bengalAI/datasets...\n",
       "5973  symbol_5973     <  /media/ansary/DriveData/Work/bengalAI/datasets...\n",
       "5974  symbol_5974     <  /media/ansary/DriveData/Work/bengalAI/datasets...\n",
       "\n",
       "[5975 rows x 3 columns]"
      ]
     },
     "execution_count": 1,
     "metadata": {},
     "output_type": "execute_result"
    }
   ],
   "source": [
    "from coreLib.dataset import DataSet\n",
    "data_dir       = \"/media/ansary/DriveData/Work/bengalAI/datasets/CraftData/source\"\n",
    "ds=DataSet(data_dir)\n",
    "ds.common.symbols.df"
   ]
  },
  {
   "cell_type": "code",
   "execution_count": 4,
   "id": "f7e54a28",
   "metadata": {},
   "outputs": [],
   "source": [
    "def padImg(line_img,h_max,w_max):\n",
    "    # shape\n",
    "    h,w=line_img.shape\n",
    "    # pad widths\n",
    "    left_pad_width =(w_max-w)//2   # <<<<<<<<==========\n",
    "    # print(left_pad_width)\n",
    "    right_pad_width=w_max-w-left_pad_width   # <<<<<<<<==========\n",
    "    # pads\n",
    "    left_pad =np.zeros((h,left_pad_width))\n",
    "    right_pad=np.zeros((h,right_pad_width))\n",
    "    # pad\n",
    "    line_img =np.concatenate([left_pad,line_img,right_pad],axis=1)\n",
    "    \n",
    "    # shape\n",
    "    h,w=line_img.shape\n",
    "    # pad heights\n",
    "    top_pad_height =(h_max-h)//2\n",
    "    bot_pad_height=h_max-h-top_pad_height\n",
    "    # pads\n",
    "    top_pad =np.zeros((top_pad_height,w))\n",
    "    bot_pad=np.zeros((bot_pad_height,w))\n",
    "    # pad\n",
    "    line_img =np.concatenate([top_pad,line_img,bot_pad],axis=0)\n",
    "    return line_img"
   ]
  },
  {
   "cell_type": "code",
   "execution_count": 5,
   "id": "166406c8",
   "metadata": {},
   "outputs": [
    {
     "data": {
      "image/png": "[encoded data removed]",
      "text/plain": [
       "<Figure size 432x288 with 1 Axes>"
      ]
     },
     "metadata": {
      "needs_background": "light"
     },
     "output_type": "display_data"
    }
   ],
   "source": [
    "import matplotlib.pyplot as plt\n",
    "%matplotlib inline\n",
    "import os\n",
    "import cv2\n",
    "import numpy as np\n",
    "iden=2\n",
    "from coreLib.word import create_word\n",
    "img,label,iden=create_word(iden,\n",
    "                            \"bangla\",\n",
    "                            \"handwritten\",\n",
    "                            \"number\",\n",
    "                            ds,\n",
    "                            use_dict=True)\n",
    "# max neutralization\n",
    "plt.imshow(img)\n",
    "plt.show()\n"
   ]
  },
  {
   "cell_type": "code",
   "execution_count": 6,
   "id": "f9ebdf00",
   "metadata": {},
   "outputs": [],
   "source": [
    "w_max=0\n",
    "h_max=0\n",
    "iden=2\n",
    "imgs=[]\n",
    "labels=[]\n",
    "padded=[]\n",
    "for _ in range(10):\n",
    "    img,label,iden=create_word(iden,\n",
    "                            \"bangla\",\n",
    "                            \"handwritten\",\n",
    "                            \"grapheme\",\n",
    "                            ds,\n",
    "                            use_dict=True)\n",
    "\n",
    "    h,w=img.shape\n",
    "    if w>w_max:\n",
    "        w_max=w\n",
    "    if h>h_max:\n",
    "        h_max=h\n",
    "\n",
    "    imgs.append(img)\n",
    "    labels.append(label)\n",
    "    \n",
    "\n",
    "    w_max+=32\n",
    "    h_max+=32\n",
    "\n",
    "for img in imgs:\n",
    "    img=padImg(img,h_max,w_max) ### <<<<<================= Call Function\n",
    "    padded.append(img)\n",
    "    "
   ]
  },
  {
   "cell_type": "code",
   "execution_count": 10,
   "id": "24b4bb00",
   "metadata": {},
   "outputs": [
    {
     "data": {
      "image/png": "[encoded data removed]",
      "text/plain": [
       "<Figure size 432x288 with 1 Axes>"
      ]
     },
     "metadata": {
      "needs_background": "light"
     },
     "output_type": "display_data"
    },
    {
     "name": "stdout",
     "output_type": "stream",
     "text": [
      "[{2: 'নৌ', 3: 'তি', 4: ' '}, {5: 'হি', 6: 'বি', 7: 'স্কা', 8: 'স', 9: '-', 10: '.', 11: ' '}, {12: 'বা', 13: 'ল্যা', 14: 'ব', 15: 'স্থা', 16: 'র', 17: '=', 18: '=', 19: ' '}, {20: 'হ', 21: 'তা', 22: 'হ', 23: 'তে', 24: 'র', 25: ' '}, {26: 'আ', 27: 'ল', 28: 'বে', 29: 'নি', 30: 'য়া', 31: ' '}, {32: 'ই', 33: 'ঙ্গি', 34: 'ত', 35: 'টা', 36: ' '}, {37: 'স', 38: 'ন্ধা', 39: 'ন', 40: 'কা', 41: 'রী', 42: 'র', 43: ' '}, {44: 'খ', 45: 'ণ্ডে', 46: ' '}, {47: 'ড', 48: 'পা', 49: 'র্স', 50: ' '}, {51: 'স্ব', 52: 'র', 53: 'স', 54: 'ং', 55: 'গ্র', 56: 'হ', 57: ' '}]\n"
     ]
    }
   ],
   "source": [
    "#random_page_image \n",
    "p1=padded[:5]\n",
    "p2=padded[5:]\n",
    "p1=np.concatenate(p1,axis=0)\n",
    "p2=np.concatenate(p2,axis=0)\n",
    "page=np.concatenate([p1,p2],axis=1)\n",
    "plt.imshow(page)\n",
    "plt.show()\n",
    "print(labels)"
   ]
  },
  {
   "cell_type": "markdown",
   "id": "37b071af",
   "metadata": {},
   "source": [
    "# Complete the following function"
   ]
  },
  {
   "cell_type": "code",
   "execution_count": 25,
   "id": "e8b6964c",
   "metadata": {},
   "outputs": [],
   "source": [
    "def convertToTotalText(page,labels,rotations=None):\n",
    "    '''\n",
    "        @author\n",
    "        create a function to convert page image to total text format data\n",
    "        This should not depend on- \n",
    "            * language or \n",
    "            * type (handwritten/printed) or \n",
    "            * data(number/word/symbol)\n",
    "        args:\n",
    "            page   :     marked image of a page given at letter by letter \n",
    "            labels :     list of markings for each word\n",
    "        returns:\n",
    "            whatever is necessary for the total-text format\n",
    "        FUTURE:\n",
    "            * Rotation will be added after render class \n",
    "    '''\n",
    "    # your code starts from here \n",
    "    # after finalization change returns segment under doc string above\n",
    "    \n",
    "    # char mask\n",
    "    char_mask=np.zeros(page.shape)\n",
    "    for label in labels:\n",
    "        for k,v in label.items():\n",
    "            if v!=' ':\n",
    "                char_mask[page==k]=255\n",
    "\n",
    "    char_mask=np.expand_dims(char_mask,axis=-1)\n",
    "    char_mask=np.concatenate([char_mask,char_mask,char_mask],axis=-1)\n",
    "    char_mask=char_mask.astype(\"uint8\")\n",
    "    # word_mask\n",
    "    word_mask=np.zeros(page.shape)\n",
    "    for label in labels:\n",
    "        for k,v in label.items():\n",
    "            if v!=' ':\n",
    "                idx = np.where(page==k)\n",
    "                y_min,y_max,x_min,x_max = np.min(idx[0]), np.max(idx[0]), np.min(idx[1]), np.max(idx[1])\n",
    "\n",
    "                word_mask[y_min:y_max+1,x_min:x_max+1]=255\n",
    "\n",
    "    word_mask=np.expand_dims(word_mask,axis=-1)\n",
    "    word_mask=np.concatenate([word_mask,word_mask,word_mask],axis=-1)\n",
    "    word_mask=word_mask.astype(\"uint8\")\n",
    "    # bounding box format text file\n",
    "    text_lines=[]\n",
    "    \n",
    "    return char_mask,word_mask,text_lines"
   ]
  },
  {
   "cell_type": "markdown",
   "id": "43db68f5",
   "metadata": {},
   "source": [
    "\n",
    "# Demos to help get going\n",
    "* pixel level ground truth\n",
    "    * charecter mask\n",
    "    * word mask\n",
    "* Text level Ground truth\n",
    "    * -------\n",
    "    * --------\n"
   ]
  },
  {
   "cell_type": "code",
   "execution_count": 11,
   "id": "dc7349e2",
   "metadata": {},
   "outputs": [
    {
     "data": {
      "image/png": "[encoded data removed]",
      "text/plain": [
       "<Figure size 432x288 with 1 Axes>"
      ]
     },
     "metadata": {
      "needs_background": "light"
     },
     "output_type": "display_data"
    }
   ],
   "source": [
    "char_mask=np.zeros(page.shape)\n",
    "for label in labels:\n",
    "    for k,v in label.items():\n",
    "        if v!=' ':\n",
    "            char_mask[page==k]=255\n",
    "\n",
    "char_mask=np.expand_dims(char_mask,axis=-1)\n",
    "char_mask=np.concatenate([char_mask,char_mask,char_mask],axis=-1)\n",
    "char_mask=char_mask.astype(\"uint8\")\n",
    "plt.imshow(char_mask)\n",
    "plt.show()"
   ]
  },
  {
   "cell_type": "code",
   "execution_count": 12,
   "id": "320e41c9",
   "metadata": {},
   "outputs": [
    {
     "data": {
      "image/png": "[encoded data removed]",
      "text/plain": [
       "<Figure size 432x288 with 1 Axes>"
      ]
     },
     "metadata": {
      "needs_background": "light"
     },
     "output_type": "display_data"
    }
   ],
   "source": [
    "word_mask=np.zeros(page.shape)\n",
    "for label in labels:\n",
    "    for k,v in label.items():\n",
    "        if v!=' ':\n",
    "            idx = np.where(page==k)\n",
    "            y_min,y_max,x_min,x_max = np.min(idx[0]), np.max(idx[0]), np.min(idx[1]), np.max(idx[1])\n",
    "\n",
    "            word_mask[y_min:y_max+1,x_min:x_max+1]=255\n",
    "\n",
    "word_mask=np.expand_dims(word_mask,axis=-1)\n",
    "word_mask=np.concatenate([word_mask,word_mask,word_mask],axis=-1)\n",
    "word_mask=word_mask.astype(\"uint8\")\n",
    "plt.imshow(word_mask)\n",
    "plt.show()"
   ]
  },
  {
   "cell_type": "code",
   "execution_count": null,
   "id": "495837ea",
   "metadata": {},
   "outputs": [],
   "source": []
  },
  {
   "cell_type": "code",
   "execution_count": null,
   "id": "5c0af54d",
   "metadata": {},
   "outputs": [],
   "source": []
  },
  {
   "cell_type": "code",
   "execution_count": null,
   "id": "04e2d8ac",
   "metadata": {},
   "outputs": [],
   "source": []
  },
  {
   "cell_type": "code",
   "execution_count": null,
   "id": "c839d253",
   "metadata": {},
   "outputs": [],
   "source": []
  },
  {
   "cell_type": "code",
   "execution_count": null,
   "id": "84e84185",
   "metadata": {},
   "outputs": [],
   "source": []
  },
  {
   "cell_type": "code",
   "execution_count": null,
   "id": "91e8c943",
   "metadata": {},
   "outputs": [],
   "source": []
  }
 ],
 "metadata": {
  "kernelspec": {
   "display_name": "bangla",
   "language": "python",
   "name": "bangla"
  },
  "language_info": {
   "codemirror_mode": {
    "name": "ipython",
    "version": 3
   },
   "file_extension": ".py",
   "mimetype": "text/x-python",
   "name": "python",
   "nbconvert_exporter": "python",
   "pygments_lexer": "ipython3",
   "version": "3.8.5"
  }
 },
 "nbformat": 4,
 "nbformat_minor": 5
}
