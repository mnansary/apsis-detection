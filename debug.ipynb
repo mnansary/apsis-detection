{
 "cells": [
  {
   "cell_type": "code",
   "execution_count": null,
   "id": "a4436920",
   "metadata": {},
   "outputs": [],
   "source": [
    "from coreLib.dataset import DataSet\n",
    "from coreLib.utils import create_dir,LOG_INFO\n",
    "data_dir= \"/media/ansary/DriveData/Work/bengalAI/datasets/CraftData/source\"\n",
    "save_dir       = \"/media/ansary/DriveData/Work/bengalAI/datasets/CraftData/\"\n",
    "\n",
    "#save_dir       = \"/home/apsisdev/ansary/DATASETS/DETNEW\"\n",
    "#data_dir       = \"/home/apsisdev/ansary/DATASETS/synthdata_source\"\n",
    "\n",
    "ds=DataSet(data_dir)\n",
    "\n",
    "\n",
    "# #create dirs\n",
    "save_dir   =  create_dir(save_dir,\"synth\")\n",
    "imgs_dir   =  create_dir(save_dir,\"imgs\")\n",
    "charmap_dir  =  create_dir(save_dir,\"charmaps\")\n",
    "wordmap_dir  =  create_dir(save_dir,\"wordmaps\")\n",
    "\n"
   ]
  },
  {
   "cell_type": "code",
   "execution_count": null,
   "id": "64acd65d",
   "metadata": {},
   "outputs": [],
   "source": [
    "from coreLib.render import createSceneImage,backgroundGenerator,createImageData\n",
    "from coreLib.config import config\n",
    "backGen=backgroundGenerator(ds,dim=(config.back_dim,config.back_dim))\n",
    "back=next(backGen)"
   ]
  },
  {
   "cell_type": "code",
   "execution_count": null,
   "id": "b8495dcf",
   "metadata": {},
   "outputs": [],
   "source": [
    "#--------------------\n",
    "# imports\n",
    "#--------------------\n",
    "import cv2\n",
    "import numpy as np\n",
    "import matplotlib.pyplot as plt\n",
    "#--------------------\n",
    "# format\n",
    "#--------------------\n",
    "\n",
    "#     #return char_mask#,word_mask"
   ]
  },
  {
   "cell_type": "code",
   "execution_count": null,
   "id": "5a8d4f96",
   "metadata": {},
   "outputs": [],
   "source": [
    "from coreLib.config import config\n",
    "vars(config)\n",
    "# config.min_num_lines=1\n",
    "# config.max_num_lines=10\n",
    "# config.comp_dim=32\n",
    "# config.min_line_height=4\n",
    "# config.word_min_space=5\n",
    "# config.word_max_space=10\n",
    "# config.vert_max_space=10"
   ]
  },
  {
   "cell_type": "code",
   "execution_count": null,
   "id": "47c2c765",
   "metadata": {},
   "outputs": [],
   "source": [
    "import os\n",
    "import cv2\n",
    "from tqdm.auto import tqdm\n",
    "\n",
    "def saveData(nb):\n",
    "    '''\n",
    "        number of images to save\n",
    "    '''\n",
    "    for i in tqdm(range(nb)):\n",
    "        try:\n",
    "            # data execution\n",
    "            page,labels=createSceneImage(ds)\n",
    "            back=createImageData(backGen,page,labels)\n",
    "            charmap,wordmap=get_targets(page,labels)\n",
    "            # data formation\n",
    "            img_path =os.path.join(imgs_dir,f\"img{i}.png\")\n",
    "            char_path=os.path.join(charmap_dir,f\"img{i}.png\")\n",
    "            word_path=os.path.join(wordmap_dir,f\"img{i}.png\")\n",
    "            # save\n",
    "            cv2.imwrite(img_path,cv2.resize(back,(256,256)))\n",
    "            cv2.imwrite(char_path,cv2.resize(charmap,(256,256)))\n",
    "            cv2.imwrite(word_path,cv2.resize(wordmap,(256,256)))\n",
    "        except Exception as e:\n",
    "            pass"
   ]
  },
  {
   "cell_type": "code",
   "execution_count": null,
   "id": "c97548f9",
   "metadata": {},
   "outputs": [],
   "source": [
    "# saveData(10)"
   ]
  },
  {
   "cell_type": "code",
   "execution_count": null,
   "id": "86335f56",
   "metadata": {},
   "outputs": [],
   "source": [
    "page,labels=createSceneImage(ds)\n",
    "back=createImageData(backGen,page,labels)\n",
    "charmap,wordmap=get_targets(page,labels)\n"
   ]
  },
  {
   "cell_type": "code",
   "execution_count": null,
   "id": "152b3ecc",
   "metadata": {},
   "outputs": [],
   "source": [
    "textmap=cv2.resize(charmap,(256,256))\n",
    "linkmap=cv2.resize(wordmap,(256,256))\n",
    "plt.imshow(linkmap)\n",
    "plt.show()"
   ]
  },
  {
   "cell_type": "code",
   "execution_count": null,
   "id": "54df165f",
   "metadata": {},
   "outputs": [],
   "source": [
    "boxes=[]\n",
    "# get shape\n",
    "img_h, img_w = textmap.shape\n",
    "# get thresholded scores\n",
    "_, text_score = cv2.threshold(textmap,thresh=0.5,maxval=1,type=cv2.THRESH_BINARY)\n",
    "_, link_score = cv2.threshold(linkmap,thresh=0.5,maxval=1,type=cv2.THRESH_BINARY)\n",
    "# get connected components\n",
    "n_components, labels, stats, _ = cv2.connectedComponentsWithStats(np.clip(text_score + link_score, 0, 1).astype('uint8'),connectivity=4)\n",
    "boxes = []\n",
    "for component_id in range(1, n_components):\n",
    "    # Filter by size\n",
    "    size = stats[component_id, cv2.CC_STAT_AREA]\n",
    "\n",
    "    if size < 10:\n",
    "        continue\n",
    "\n",
    "    # If the maximum value within this connected component is less than\n",
    "    # text threshold, we skip it.\n",
    "    if np.max(textmap[labels == component_id]) < 0.7:\n",
    "        continue\n",
    "\n",
    "    # Make segmentation map. It is 255 where we find text, 0 otherwise.\n",
    "    segmap = np.zeros_like(textmap)\n",
    "    segmap[labels == component_id] = 255\n",
    "    segmap[np.logical_and(link_score, text_score)] = 0\n",
    "#     x, y, w, h = [stats[component_id, key] for key in\n",
    "#                     [cv2.CC_STAT_LEFT, cv2.CC_STAT_TOP, cv2.CC_STAT_WIDTH, cv2.CC_STAT_HEIGHT]]\n",
    "\n",
    "#     # Expand the elements of the segmentation map\n",
    "#     niter = int(np.sqrt(size * min(w, h) / (w * h)) * 2)\n",
    "#     sx, sy = max(x - niter, 0), max(y - niter, 0)\n",
    "#     ex, ey = min(x + w + niter + 1, img_w), min(y + h + niter + 1, img_h)\n",
    "#     segmap[sy:ey, sx:ex] = cv2.dilate(\n",
    "#         segmap[sy:ey, sx:ex],\n",
    "#         cv2.getStructuringElement(cv2.MORPH_RECT, (1 + niter, 1 + niter)))\n",
    "    plt.imshow(segmap)\n",
    "    plt.show()\n",
    "    segmap=cv2.resize(segmap,(1024,1024))\n",
    "    idx = np.where(segmap>0)            \n",
    "    y_min,y_max,x_min,x_max = np.min(idx[0]), np.max(idx[0]), np.min(idx[1]), np.max(idx[1])\n",
    "    boxes.append([x_min,y_min,x_max,y_max])\n",
    "len(boxes)"
   ]
  },
  {
   "cell_type": "code",
   "execution_count": null,
   "id": "fd2a6c3a",
   "metadata": {},
   "outputs": [],
   "source": [
    "for box in boxes:\n",
    "    x_min,y_min,x_max,y_max=box\n",
    "    cv2.rectangle(back,(x_min,y_min),(x_max,y_max),(255,0,0),2)\n",
    "plt.imshow(back)"
   ]
  },
  {
   "cell_type": "code",
   "execution_count": null,
   "id": "8b5461e2",
   "metadata": {},
   "outputs": [],
   "source": [
    "cv2.imwrite(\"test.png\",back)"
   ]
  },
  {
   "cell_type": "code",
   "execution_count": null,
   "id": "4abebbf3",
   "metadata": {},
   "outputs": [],
   "source": [
    "np.unique(page)"
   ]
  },
  {
   "cell_type": "code",
   "execution_count": null,
   "id": "6527ade1",
   "metadata": {},
   "outputs": [],
   "source": [
    "labels"
   ]
  },
  {
   "cell_type": "code",
   "execution_count": null,
   "id": "c5b1f706",
   "metadata": {},
   "outputs": [],
   "source": [
    "page,labels=createSceneImage(ds)"
   ]
  },
  {
   "cell_type": "code",
   "execution_count": null,
   "id": "69b4c95c",
   "metadata": {},
   "outputs": [],
   "source": [
    "np.unique(page)"
   ]
  },
  {
   "cell_type": "code",
   "execution_count": null,
   "id": "98101ceb",
   "metadata": {},
   "outputs": [],
   "source": [
    "labels"
   ]
  },
  {
   "cell_type": "code",
   "execution_count": null,
   "id": "94c1530a",
   "metadata": {},
   "outputs": [],
   "source": [
    "from coreLib.render import padPage,processLine\n",
    "iden=3\n",
    "labels=[]\n",
    "page_parts=[]\n",
    "# select number of lines in an image\n",
    "num_lines=random.randint(config.min_num_lines,config.max_num_lines)\n",
    "for _ in range(num_lines):\n",
    "    line_parts=[]\n",
    "    line_labels=[]\n",
    "    # select number of words\n",
    "    num_words=random.randint(config.min_num_words,config.max_num_words)\n",
    "    for _ in range(num_words):\n",
    "        img,label,iden=create_word(iden=iden,\n",
    "                        source_type=\"bangla\",\n",
    "                        data_type=random.choice([\"handwritten\",\"printed\"]),\n",
    "                        comp_type=random.choice([\"number\",\"grapheme\"]),\n",
    "                        ds=ds,\n",
    "                        use_dict=random.choice([True,False]),\n",
    "                        )\n",
    "        line_labels.append(label)\n",
    "        line_parts.append(img)\n",
    "\n",
    "\n",
    "    # create the line image\n",
    "    line_img=np.concatenate(line_parts,axis=1)\n",
    "    line_img=processLine(line_img)\n",
    "    # the page lines\n",
    "    page_parts.append(line_img)\n",
    "    labels.append(line_labels)\n",
    "\n",
    "\n",
    "\n",
    "\n",
    "\n",
    "paded_parts=[]\n",
    "\n",
    "for lidx,line_img in enumerate(page_parts):\n",
    "    # pad lines \n",
    "    pad_height=random.randint(config.vert_min_space,config.vert_max_space)\n",
    "    pad     =np.zeros((pad_height,config.back_dim))\n",
    "    line_img=np.concatenate([line_img,pad],axis=0)\n",
    "    paded_parts.append(line_img)\n",
    "\n",
    "# page img\n",
    "page=np.concatenate(paded_parts,axis=0)\n",
    "page=padPage(page)"
   ]
  },
  {
   "cell_type": "code",
   "execution_count": null,
   "id": "1d7ead90",
   "metadata": {},
   "outputs": [],
   "source": [
    "plt.imshow(page)"
   ]
  },
  {
   "cell_type": "code",
   "execution_count": null,
   "id": "2b102fb9",
   "metadata": {},
   "outputs": [],
   "source": [
    "labels"
   ]
  },
  {
   "cell_type": "code",
   "execution_count": null,
   "id": "10ccbb66",
   "metadata": {},
   "outputs": [],
   "source": [
    "np.unique(page)"
   ]
  },
  {
   "cell_type": "code",
   "execution_count": null,
   "id": "530d4b39",
   "metadata": {},
   "outputs": [],
   "source": []
  }
 ],
 "metadata": {
  "kernelspec": {
   "display_name": "bangla",
   "language": "python",
   "name": "bangla"
  },
  "language_info": {
   "codemirror_mode": {
    "name": "ipython",
    "version": 3
   },
   "file_extension": ".py",
   "mimetype": "text/x-python",
   "name": "python",
   "nbconvert_exporter": "python",
   "pygments_lexer": "ipython3",
   "version": "3.8.5"
  }
 },
 "nbformat": 4,
 "nbformat_minor": 5
}
