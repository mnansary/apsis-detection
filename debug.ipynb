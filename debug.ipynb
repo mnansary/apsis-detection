{
 "cells": [
  {
   "cell_type": "code",
   "execution_count": 20,
   "id": "d9bb786d",
   "metadata": {},
   "outputs": [
    {
     "name": "stdout",
     "output_type": "stream",
     "text": [
      "\u001b[32m#LOG     :\u001b[0m\u001b[32mAll paths found\u001b[0m\n"
     ]
    },
    {
     "name": "stderr",
     "output_type": "stream",
     "text": [
      "100%|██████████| 200840/200840 [00:00<00:00, 278660.96it/s]\n",
      "100%|██████████| 72045/72045 [00:00<00:00, 232326.79it/s]\n",
      "  0%|          | 1173/1059977 [00:00<01:30, 11728.92it/s]"
     ]
    },
    {
     "name": "stdout",
     "output_type": "stream",
     "text": [
      "\u001b[32m#LOG     :\u001b[0m\u001b[34mProcessing Dictionary:/media/ansary/DriveData/Work/bengalAI/datasets/CraftData/source/bangla/dictionary.csv\u001b[0m\n"
     ]
    },
    {
     "name": "stderr",
     "output_type": "stream",
     "text": [
      "100%|██████████| 1059977/1059977 [00:32<00:00, 32225.87it/s]\n",
      "100%|██████████| 46101/46101 [00:00<00:00, 233335.76it/s]\n",
      "100%|██████████| 10305/10305 [00:00<00:00, 209264.38it/s]\n",
      "100%|██████████| 10305/10305 [00:00<00:00, 534711.10it/s]\n"
     ]
    },
    {
     "name": "stdout",
     "output_type": "stream",
     "text": [
      "\u001b[32m#LOG     :\u001b[0m\u001b[34mconverting int labels to string\u001b[0m\n"
     ]
    },
    {
     "name": "stderr",
     "output_type": "stream",
     "text": [
      "  1%|          | 3796/370098 [00:00<00:18, 19398.45it/s]"
     ]
    },
    {
     "name": "stdout",
     "output_type": "stream",
     "text": [
      "\u001b[32m#LOG     :\u001b[0m\u001b[34mProcessing Dictionary:/media/ansary/DriveData/Work/bengalAI/datasets/CraftData/source/english/dictionary.csv\u001b[0m\n"
     ]
    },
    {
     "name": "stderr",
     "output_type": "stream",
     "text": [
      "100%|██████████| 370098/370098 [00:11<00:00, 32648.45it/s]\n",
      "100%|██████████| 5975/5975 [00:00<00:00, 310168.15it/s]\n"
     ]
    },
    {
     "name": "stdout",
     "output_type": "stream",
     "text": [
      "\u001b[32m#LOG     :\u001b[0m\u001b[34mbangla.graphemes\u001b[0m\n"
     ]
    },
    {
     "data": {
      "application/vnd.jupyter.widget-view+json": {
       "model_id": "857aaec2f2dc4a13baccffd17b53004f",
       "version_major": 2,
       "version_minor": 0
      },
      "text/plain": [
       "  0%|          | 0/200840 [00:00<?, ?it/s]"
      ]
     },
     "metadata": {},
     "output_type": "display_data"
    },
    {
     "name": "stdout",
     "output_type": "stream",
     "text": [
      "\u001b[32m#LOG     :\u001b[0m\u001b[34mbangla.numbers\u001b[0m\n"
     ]
    },
    {
     "data": {
      "application/vnd.jupyter.widget-view+json": {
       "model_id": "7f9a47d2cc8f4576a7b94fc0c41a74d9",
       "version_major": 2,
       "version_minor": 0
      },
      "text/plain": [
       "  0%|          | 0/72045 [00:00<?, ?it/s]"
      ]
     },
     "metadata": {},
     "output_type": "display_data"
    },
    {
     "name": "stdout",
     "output_type": "stream",
     "text": [
      "\u001b[32m#LOG     :\u001b[0m\u001b[34menglish.graphemes\u001b[0m\n"
     ]
    },
    {
     "data": {
      "application/vnd.jupyter.widget-view+json": {
       "model_id": "cb72e7700b1e4191b09d45fcda3ef2ed",
       "version_major": 2,
       "version_minor": 0
      },
      "text/plain": [
       "  0%|          | 0/46101 [00:00<?, ?it/s]"
      ]
     },
     "metadata": {},
     "output_type": "display_data"
    },
    {
     "name": "stdout",
     "output_type": "stream",
     "text": [
      "\u001b[32m#LOG     :\u001b[0m\u001b[34menglish.numbers\u001b[0m\n"
     ]
    },
    {
     "data": {
      "application/vnd.jupyter.widget-view+json": {
       "model_id": "52546a20656c4aa487c4999da12ce86f",
       "version_major": 2,
       "version_minor": 0
      },
      "text/plain": [
       "  0%|          | 0/10305 [00:00<?, ?it/s]"
      ]
     },
     "metadata": {},
     "output_type": "display_data"
    },
    {
     "name": "stdout",
     "output_type": "stream",
     "text": [
      "\u001b[32m#LOG     :\u001b[0m\u001b[34mcommon.symbols\u001b[0m\n"
     ]
    },
    {
     "data": {
      "application/vnd.jupyter.widget-view+json": {
       "model_id": "ccd38984363441a587115c093a0e112d",
       "version_major": 2,
       "version_minor": 0
      },
      "text/plain": [
       "  0%|          | 0/5975 [00:00<?, ?it/s]"
      ]
     },
     "metadata": {},
     "output_type": "display_data"
    },
    {
     "name": "stdout",
     "output_type": "stream",
     "text": [
      "\u001b[32m#LOG     :\u001b[0m\u001b[34mbangla.fonts\u001b[0m\n"
     ]
    },
    {
     "data": {
      "application/vnd.jupyter.widget-view+json": {
       "model_id": "21ed283da60b4bdabfe5de16f7713e42",
       "version_major": 2,
       "version_minor": 0
      },
      "text/plain": [
       "  0%|          | 0/21 [00:00<?, ?it/s]"
      ]
     },
     "metadata": {},
     "output_type": "display_data"
    },
    {
     "name": "stdout",
     "output_type": "stream",
     "text": [
      "\u001b[32m#LOG     :\u001b[0m\u001b[34menglish.fonts\u001b[0m\n"
     ]
    },
    {
     "data": {
      "application/vnd.jupyter.widget-view+json": {
       "model_id": "33ee778875cc4bd892a6bdfb2f0104f1",
       "version_major": 2,
       "version_minor": 0
      },
      "text/plain": [
       "  0%|          | 0/2682 [00:00<?, ?it/s]"
      ]
     },
     "metadata": {},
     "output_type": "display_data"
    },
    {
     "name": "stdout",
     "output_type": "stream",
     "text": [
      "\u001b[32m#LOG     :\u001b[0m\u001b[34mcommon.background\u001b[0m\n"
     ]
    },
    {
     "data": {
      "application/vnd.jupyter.widget-view+json": {
       "model_id": "7dd5e2dc018e4b7683fa40d9a301f94c",
       "version_major": 2,
       "version_minor": 0
      },
      "text/plain": [
       "  0%|          | 0/982 [00:00<?, ?it/s]"
      ]
     },
     "metadata": {},
     "output_type": "display_data"
    },
    {
     "name": "stdout",
     "output_type": "stream",
     "text": [
      "\u001b[32m#LOG     :\u001b[0m\u001b[34mcommon.noise.random\u001b[0m\n"
     ]
    },
    {
     "data": {
      "application/vnd.jupyter.widget-view+json": {
       "model_id": "53b7986e644b43f58f383f36dbb84ff6",
       "version_major": 2,
       "version_minor": 0
      },
      "text/plain": [
       "  0%|          | 0/112763 [00:00<?, ?it/s]"
      ]
     },
     "metadata": {},
     "output_type": "display_data"
    },
    {
     "name": "stdout",
     "output_type": "stream",
     "text": [
      "\u001b[32m#LOG     :\u001b[0m\u001b[34mcommon.noise.sign\u001b[0m\n"
     ]
    },
    {
     "data": {
      "application/vnd.jupyter.widget-view+json": {
       "model_id": "3f95d3cda58b448d90f56cc82c240262",
       "version_major": 2,
       "version_minor": 0
      },
      "text/plain": [
       "  0%|          | 0/3240 [00:00<?, ?it/s]"
      ]
     },
     "metadata": {},
     "output_type": "display_data"
    },
    {
     "data": {
      "text/html": [
       "<div>\n",
       "<style scoped>\n",
       "    .dataframe tbody tr th:only-of-type {\n",
       "        vertical-align: middle;\n",
       "    }\n",
       "\n",
       "    .dataframe tbody tr th {\n",
       "        vertical-align: top;\n",
       "    }\n",
       "\n",
       "    .dataframe thead th {\n",
       "        text-align: right;\n",
       "    }\n",
       "</style>\n",
       "<table border=\"1\" class=\"dataframe\">\n",
       "  <thead>\n",
       "    <tr style=\"text-align: right;\">\n",
       "      <th></th>\n",
       "      <th>filename</th>\n",
       "      <th>label</th>\n",
       "      <th>img_path</th>\n",
       "    </tr>\n",
       "  </thead>\n",
       "  <tbody>\n",
       "    <tr>\n",
       "      <th>0</th>\n",
       "      <td>symbol_0</td>\n",
       "      <td>&gt;</td>\n",
       "      <td>/media/ansary/DriveData/Work/bengalAI/datasets...</td>\n",
       "    </tr>\n",
       "    <tr>\n",
       "      <th>1</th>\n",
       "      <td>symbol_1</td>\n",
       "      <td>&gt;</td>\n",
       "      <td>/media/ansary/DriveData/Work/bengalAI/datasets...</td>\n",
       "    </tr>\n",
       "    <tr>\n",
       "      <th>2</th>\n",
       "      <td>symbol_2</td>\n",
       "      <td>&gt;</td>\n",
       "      <td>/media/ansary/DriveData/Work/bengalAI/datasets...</td>\n",
       "    </tr>\n",
       "    <tr>\n",
       "      <th>3</th>\n",
       "      <td>symbol_3</td>\n",
       "      <td>&gt;</td>\n",
       "      <td>/media/ansary/DriveData/Work/bengalAI/datasets...</td>\n",
       "    </tr>\n",
       "    <tr>\n",
       "      <th>4</th>\n",
       "      <td>symbol_4</td>\n",
       "      <td>&gt;</td>\n",
       "      <td>/media/ansary/DriveData/Work/bengalAI/datasets...</td>\n",
       "    </tr>\n",
       "    <tr>\n",
       "      <th>...</th>\n",
       "      <td>...</td>\n",
       "      <td>...</td>\n",
       "      <td>...</td>\n",
       "    </tr>\n",
       "    <tr>\n",
       "      <th>5970</th>\n",
       "      <td>symbol_5970</td>\n",
       "      <td>&lt;</td>\n",
       "      <td>/media/ansary/DriveData/Work/bengalAI/datasets...</td>\n",
       "    </tr>\n",
       "    <tr>\n",
       "      <th>5971</th>\n",
       "      <td>symbol_5971</td>\n",
       "      <td>&lt;</td>\n",
       "      <td>/media/ansary/DriveData/Work/bengalAI/datasets...</td>\n",
       "    </tr>\n",
       "    <tr>\n",
       "      <th>5972</th>\n",
       "      <td>symbol_5972</td>\n",
       "      <td>&lt;</td>\n",
       "      <td>/media/ansary/DriveData/Work/bengalAI/datasets...</td>\n",
       "    </tr>\n",
       "    <tr>\n",
       "      <th>5973</th>\n",
       "      <td>symbol_5973</td>\n",
       "      <td>&lt;</td>\n",
       "      <td>/media/ansary/DriveData/Work/bengalAI/datasets...</td>\n",
       "    </tr>\n",
       "    <tr>\n",
       "      <th>5974</th>\n",
       "      <td>symbol_5974</td>\n",
       "      <td>&lt;</td>\n",
       "      <td>/media/ansary/DriveData/Work/bengalAI/datasets...</td>\n",
       "    </tr>\n",
       "  </tbody>\n",
       "</table>\n",
       "<p>5975 rows × 3 columns</p>\n",
       "</div>"
      ],
      "text/plain": [
       "         filename label                                           img_path\n",
       "0        symbol_0     >  /media/ansary/DriveData/Work/bengalAI/datasets...\n",
       "1        symbol_1     >  /media/ansary/DriveData/Work/bengalAI/datasets...\n",
       "2        symbol_2     >  /media/ansary/DriveData/Work/bengalAI/datasets...\n",
       "3        symbol_3     >  /media/ansary/DriveData/Work/bengalAI/datasets...\n",
       "4        symbol_4     >  /media/ansary/DriveData/Work/bengalAI/datasets...\n",
       "...           ...   ...                                                ...\n",
       "5970  symbol_5970     <  /media/ansary/DriveData/Work/bengalAI/datasets...\n",
       "5971  symbol_5971     <  /media/ansary/DriveData/Work/bengalAI/datasets...\n",
       "5972  symbol_5972     <  /media/ansary/DriveData/Work/bengalAI/datasets...\n",
       "5973  symbol_5973     <  /media/ansary/DriveData/Work/bengalAI/datasets...\n",
       "5974  symbol_5974     <  /media/ansary/DriveData/Work/bengalAI/datasets...\n",
       "\n",
       "[5975 rows x 3 columns]"
      ]
     },
     "execution_count": 20,
     "metadata": {},
     "output_type": "execute_result"
    }
   ],
   "source": [
    "from coreLib.dataset import DataSet\n",
    "data_dir       = \"/media/ansary/DriveData/Work/bengalAI/datasets/CraftData/source\"\n",
    "ds=DataSet(data_dir)\n",
    "ds.common.symbols.df"
   ]
  },
  {
   "cell_type": "code",
   "execution_count": 21,
   "id": "de41f4e7",
   "metadata": {},
   "outputs": [
    {
     "data": {
      "image/png": "[encoded data removed]",
      "text/plain": [
       "<Figure size 432x288 with 1 Axes>"
      ]
     },
     "metadata": {
      "needs_background": "light"
     },
     "output_type": "display_data"
    }
   ],
   "source": [
    "import matplotlib.pyplot as plt\n",
    "%matplotlib inline\n",
    "import os\n",
    "import cv2\n",
    "import numpy as np\n",
    "iden=2\n",
    "from coreLib.word import create_word\n",
    "img,label,iden=create_word(iden,\n",
    "                            \"bangla\",\n",
    "                            \"handwritten\",\n",
    "                            \"number\",\n",
    "                            ds,\n",
    "                            use_dict=True)\n",
    "# max neutralization\n",
    "plt.imshow(img)\n",
    "plt.show()\n"
   ]
  },
  {
   "cell_type": "code",
   "execution_count": 22,
   "id": "f48acd3f",
   "metadata": {},
   "outputs": [
    {
     "data": {
      "image/png": "[encoded data removed]",
      "text/plain": [
       "<Figure size 432x288 with 1 Axes>"
      ]
     },
     "metadata": {
      "needs_background": "light"
     },
     "output_type": "display_data"
    },
    {
     "name": "stdout",
     "output_type": "stream",
     "text": [
      "{2: '৮', 3: '৯', 4: '২', 5: '৫', 6: '২', 7: '.', 8: \"'\", 9: \"'\", 10: '@', 11: '=', 12: ' '}\n"
     ]
    }
   ],
   "source": [
    "def rotate_image(mat, angle):\n",
    "    \"\"\"\n",
    "        Rotates an image (angle in degrees) and expands image to avoid cropping\n",
    "    \"\"\"\n",
    "\n",
    "    height, width = mat.shape[:2] # image shape has 3 dimensions\n",
    "    image_center = (width/2, height/2) # getRotationMatrix2D needs coordinates in reverse order (width, height) compared to shape\n",
    "\n",
    "    rotation_mat = cv2.getRotationMatrix2D(image_center, angle, 1.)\n",
    "\n",
    "    # rotation calculates the cos and sin, taking absolutes of those.\n",
    "    abs_cos = abs(rotation_mat[0,0]) \n",
    "    abs_sin = abs(rotation_mat[0,1])\n",
    "\n",
    "    # find the new width and height bounds\n",
    "    bound_w = int(height * abs_sin + width * abs_cos)\n",
    "    bound_h = int(height * abs_cos + width * abs_sin)\n",
    "\n",
    "    # subtract old image center (bringing image back to origo) and adding the new image center coordinates\n",
    "    rotation_mat[0, 2] += bound_w/2 - image_center[0]\n",
    "    rotation_mat[1, 2] += bound_h/2 - image_center[1]\n",
    "\n",
    "    # rotate image with the new bounds and translated rotation matrix\n",
    "    rotated_mat = cv2.warpAffine(mat, rotation_mat, (bound_w, bound_h),flags=cv2.INTER_NEAREST)\n",
    "    return rotated_mat,rotation_mat\n",
    "\n",
    "\n",
    "rotated_img,M=rotate_image(img,30)\n",
    "plt.imshow(rotated_img)\n",
    "plt.show()\n",
    "print(label)\n",
    "#_img=cv2.resize(_img,(width,font_size)),fx=0,fy=0, interpolation = cv2.INTER_NEAREST)"
   ]
  },
  {
   "cell_type": "code",
   "execution_count": 13,
   "id": "7b4b9375",
   "metadata": {},
   "outputs": [
    {
     "data": {
      "image/png": "[encoded data removed]",
      "text/plain": [
       "<Figure size 432x288 with 1 Axes>"
      ]
     },
     "metadata": {
      "needs_background": "light"
     },
     "output_type": "display_data"
    },
    {
     "data": {
      "image/png": "[encoded data removed]",
      "text/plain": [
       "<Figure size 432x288 with 1 Axes>"
      ]
     },
     "metadata": {
      "needs_background": "light"
     },
     "output_type": "display_data"
    }
   ],
   "source": [
    "back=np.zeros(rotated_img.shape)\n",
    "back[rotated_img==2]=255\n",
    "plt.imshow(back)\n",
    "plt.show()\n",
    "# co-ordinate\n",
    "idx = np.where(back==255)\n",
    "y_min,y_max,x_min,x_max = np.min(idx[0]), np.max(idx[0]), np.min(idx[1]), np.max(idx[1])\n",
    "x1,x2,x3,x4=x_min,x_max,x_max,x_min\n",
    "y1,y2,y3,y4=y_min,y_min,y_max,y_max\n",
    "coords=np.array([[x1,y1],[x2,y2],[x3,y3],[x4,y4]],dtype=\"float32\")\n",
    "\n",
    "single = cv2.rectangle(back, (x1,y1), (x3,y3), 30, 5)\n",
    "plt.plot(x1, y1, 'go--', linewidth=2, markersize=12)\n",
    "plt.plot(x2, y2, 'go--', linewidth=2, markersize=12)\n",
    "plt.plot(x3, y3, 'go--', linewidth=2, markersize=12)\n",
    "plt.plot(x4, y4, 'go--', linewidth=2, markersize=12)\n",
    "plt.imshow(single)\n",
    "plt.show()"
   ]
  },
  {
   "cell_type": "code",
   "execution_count": 19,
   "id": "cc6a7d9d",
   "metadata": {},
   "outputs": [
    {
     "data": {
      "image/png": "[encoded data removed]",
      "text/plain": [
       "<Figure size 432x288 with 1 Axes>"
      ]
     },
     "metadata": {
      "needs_background": "light"
     },
     "output_type": "display_data"
    }
   ],
   "source": [
    "back=np.zeros(rotated_img.shape)\n",
    "back[rotated_img==2]=255\n",
    "back=np.concatenate([back,np.zeros(back.shape)],axis=0)\n",
    "# co-ordinate\n",
    "idx = np.where(img==2)\n",
    "y_min,y_max,x_min,x_max = np.min(idx[0]), np.max(idx[0]), np.min(idx[1]), np.max(idx[1])\n",
    "x1,x2,x3,x4=x_min,x_max,x_max,x_min\n",
    "y1,y2,y3,y4=y_min,y_min,y_max,y_max\n",
    "coords=np.array([[x1,y1],[x2,y2],[x3,y3],[x4,y4]],dtype=\"float32\")\n",
    "\n",
    "new_coords=[]\n",
    "coord_mat=np.concatenate([coords,np.ones((4,1))],axis=1)\n",
    "for c in coord_mat:\n",
    "    new_coords.append(np.dot(M,c))\n",
    "\n",
    "plt.imshow(back)\n",
    "for c in new_coords:\n",
    "    plt.plot(c[0], c[1], 'go--', linewidth=2, markersize=12)\n",
    "\n",
    "plt.show()\n",
    "\n",
    "\n"
   ]
  }
 ],
 "metadata": {
  "kernelspec": {
   "display_name": "bangla",
   "language": "python",
   "name": "bangla"
  },
  "language_info": {
   "codemirror_mode": {
    "name": "ipython",
    "version": 3
   },
   "file_extension": ".py",
   "mimetype": "text/x-python",
   "name": "python",
   "nbconvert_exporter": "python",
   "pygments_lexer": "ipython3",
   "version": "3.8.5"
  }
 },
 "nbformat": 4,
 "nbformat_minor": 5
}
